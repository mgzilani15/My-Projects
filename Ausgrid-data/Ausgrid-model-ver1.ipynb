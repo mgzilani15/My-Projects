{
 "cells": [
  {
   "cell_type": "markdown",
   "metadata": {},
   "source": [
    "# import library"
   ]
  },
  {
   "cell_type": "code",
   "execution_count": 50,
   "metadata": {},
   "outputs": [],
   "source": [
    "# importing the library\n",
    "\n",
    "import pandas as pd\n",
    "import numpy as np\n",
    "\n",
    "from sklearn import tree\n",
    "from sklearn.tree import DecisionTreeClassifier\n",
    "from sklearn.model_selection import train_test_split\n",
    "\n",
    "from matplotlib import pyplot as plt\n",
    "import seaborn as sns\n",
    "\n",
    "\n",
    "import io\n",
    "from scipy import misc\n",
    "\n",
    "%matplotlib inline\n",
    "\n",
    "from sklearn.svm import SVC, LinearSVC\n",
    "from sklearn.ensemble import RandomForestClassifier\n",
    "from sklearn.neighbors import KNeighborsClassifier\n",
    "from sklearn.naive_bayes import GaussianNB\n",
    "from sklearn.linear_model import Perceptron\n",
    "from sklearn.linear_model import SGDClassifier\n",
    "from sklearn.tree import DecisionTreeClassifier"
   ]
  },
  {
   "cell_type": "markdown",
   "metadata": {
    "collapsed": true
   },
   "source": [
    "# import data"
   ]
  },
  {
   "cell_type": "code",
   "execution_count": 2,
   "metadata": {},
   "outputs": [
    {
     "data": {
      "text/html": [
       "<div>\n",
       "<style scoped>\n",
       "    .dataframe tbody tr th:only-of-type {\n",
       "        vertical-align: middle;\n",
       "    }\n",
       "\n",
       "    .dataframe tbody tr th {\n",
       "        vertical-align: top;\n",
       "    }\n",
       "\n",
       "    .dataframe thead th {\n",
       "        text-align: right;\n",
       "    }\n",
       "</style>\n",
       "<table border=\"1\" class=\"dataframe\">\n",
       "  <thead>\n",
       "    <tr style=\"text-align: right;\">\n",
       "      <th></th>\n",
       "      <th>customerid</th>\n",
       "      <th>billratetype</th>\n",
       "      <th>consumptionmonth</th>\n",
       "      <th>sum</th>\n",
       "      <th>unitme</th>\n",
       "      <th>capacity</th>\n",
       "      <th>suburb</th>\n",
       "      <th>postcode</th>\n",
       "      <th>billsaved</th>\n",
       "    </tr>\n",
       "  </thead>\n",
       "  <tbody>\n",
       "    <tr>\n",
       "      <th>0</th>\n",
       "      <td>1</td>\n",
       "      <td>OGR</td>\n",
       "      <td>1.2011</td>\n",
       "      <td>2.060</td>\n",
       "      <td>KWH</td>\n",
       "      <td>3.78</td>\n",
       "      <td>HORNSBY</td>\n",
       "      <td>2076</td>\n",
       "      <td>1.0</td>\n",
       "    </tr>\n",
       "    <tr>\n",
       "      <th>1</th>\n",
       "      <td>2</td>\n",
       "      <td>PGR</td>\n",
       "      <td>1.2011</td>\n",
       "      <td>42.154</td>\n",
       "      <td>KWH</td>\n",
       "      <td>1.62</td>\n",
       "      <td>WYONG</td>\n",
       "      <td>2259</td>\n",
       "      <td>1.0</td>\n",
       "    </tr>\n",
       "    <tr>\n",
       "      <th>2</th>\n",
       "      <td>2</td>\n",
       "      <td>OGR</td>\n",
       "      <td>1.2011</td>\n",
       "      <td>0.550</td>\n",
       "      <td>KWH</td>\n",
       "      <td>1.62</td>\n",
       "      <td>WYONG</td>\n",
       "      <td>2259</td>\n",
       "      <td>1.0</td>\n",
       "    </tr>\n",
       "    <tr>\n",
       "      <th>3</th>\n",
       "      <td>3</td>\n",
       "      <td>PGR</td>\n",
       "      <td>1.2011</td>\n",
       "      <td>29.200</td>\n",
       "      <td>KWH</td>\n",
       "      <td>1.00</td>\n",
       "      <td>WYONG</td>\n",
       "      <td>2263</td>\n",
       "      <td>1.0</td>\n",
       "    </tr>\n",
       "    <tr>\n",
       "      <th>4</th>\n",
       "      <td>3</td>\n",
       "      <td>OGR</td>\n",
       "      <td>1.2011</td>\n",
       "      <td>0.524</td>\n",
       "      <td>KWH</td>\n",
       "      <td>1.00</td>\n",
       "      <td>WYONG</td>\n",
       "      <td>2263</td>\n",
       "      <td>1.0</td>\n",
       "    </tr>\n",
       "    <tr>\n",
       "      <th>5</th>\n",
       "      <td>4</td>\n",
       "      <td>PGR</td>\n",
       "      <td>1.2011</td>\n",
       "      <td>39.584</td>\n",
       "      <td>KWH</td>\n",
       "      <td>1.00</td>\n",
       "      <td>HURSTVILLE</td>\n",
       "      <td>2220</td>\n",
       "      <td>1.0</td>\n",
       "    </tr>\n",
       "    <tr>\n",
       "      <th>6</th>\n",
       "      <td>4</td>\n",
       "      <td>OGR</td>\n",
       "      <td>1.2011</td>\n",
       "      <td>0.179</td>\n",
       "      <td>KWH</td>\n",
       "      <td>1.00</td>\n",
       "      <td>HURSTVILLE</td>\n",
       "      <td>2220</td>\n",
       "      <td>1.0</td>\n",
       "    </tr>\n",
       "    <tr>\n",
       "      <th>7</th>\n",
       "      <td>4</td>\n",
       "      <td>SGR</td>\n",
       "      <td>1.2011</td>\n",
       "      <td>92.552</td>\n",
       "      <td>KWH</td>\n",
       "      <td>1.00</td>\n",
       "      <td>HURSTVILLE</td>\n",
       "      <td>2220</td>\n",
       "      <td>1.0</td>\n",
       "    </tr>\n",
       "    <tr>\n",
       "      <th>8</th>\n",
       "      <td>6</td>\n",
       "      <td>PGR</td>\n",
       "      <td>1.2011</td>\n",
       "      <td>62.503</td>\n",
       "      <td>KWH</td>\n",
       "      <td>2.00</td>\n",
       "      <td>SUTHERLAND</td>\n",
       "      <td>2230</td>\n",
       "      <td>1.0</td>\n",
       "    </tr>\n",
       "    <tr>\n",
       "      <th>9</th>\n",
       "      <td>6</td>\n",
       "      <td>OGR</td>\n",
       "      <td>1.2011</td>\n",
       "      <td>0.251</td>\n",
       "      <td>KWH</td>\n",
       "      <td>2.00</td>\n",
       "      <td>SUTHERLAND</td>\n",
       "      <td>2230</td>\n",
       "      <td>1.0</td>\n",
       "    </tr>\n",
       "    <tr>\n",
       "      <th>10</th>\n",
       "      <td>7</td>\n",
       "      <td>PGR</td>\n",
       "      <td>1.2011</td>\n",
       "      <td>67.675</td>\n",
       "      <td>KWH</td>\n",
       "      <td>2.16</td>\n",
       "      <td>WYONG</td>\n",
       "      <td>2259</td>\n",
       "      <td>1.0</td>\n",
       "    </tr>\n",
       "    <tr>\n",
       "      <th>11</th>\n",
       "      <td>7</td>\n",
       "      <td>OGR</td>\n",
       "      <td>1.2011</td>\n",
       "      <td>0.673</td>\n",
       "      <td>KWH</td>\n",
       "      <td>2.16</td>\n",
       "      <td>WYONG</td>\n",
       "      <td>2259</td>\n",
       "      <td>1.0</td>\n",
       "    </tr>\n",
       "    <tr>\n",
       "      <th>12</th>\n",
       "      <td>8</td>\n",
       "      <td>OGR</td>\n",
       "      <td>1.2011</td>\n",
       "      <td>2.414</td>\n",
       "      <td>KWH</td>\n",
       "      <td>1.02</td>\n",
       "      <td>HORNSBY</td>\n",
       "      <td>2126</td>\n",
       "      <td>1.0</td>\n",
       "    </tr>\n",
       "    <tr>\n",
       "      <th>13</th>\n",
       "      <td>8</td>\n",
       "      <td>PGR</td>\n",
       "      <td>1.2011</td>\n",
       "      <td>23.176</td>\n",
       "      <td>KWH</td>\n",
       "      <td>1.02</td>\n",
       "      <td>HORNSBY</td>\n",
       "      <td>2126</td>\n",
       "      <td>1.0</td>\n",
       "    </tr>\n",
       "    <tr>\n",
       "      <th>14</th>\n",
       "      <td>10</td>\n",
       "      <td>OGR</td>\n",
       "      <td>1.2011</td>\n",
       "      <td>0.198</td>\n",
       "      <td>KWH</td>\n",
       "      <td>1.05</td>\n",
       "      <td>WYONG</td>\n",
       "      <td>2262</td>\n",
       "      <td>1.0</td>\n",
       "    </tr>\n",
       "    <tr>\n",
       "      <th>15</th>\n",
       "      <td>10</td>\n",
       "      <td>SGR</td>\n",
       "      <td>1.2011</td>\n",
       "      <td>76.530</td>\n",
       "      <td>KWH</td>\n",
       "      <td>1.05</td>\n",
       "      <td>WYONG</td>\n",
       "      <td>2262</td>\n",
       "      <td>1.0</td>\n",
       "    </tr>\n",
       "    <tr>\n",
       "      <th>16</th>\n",
       "      <td>10</td>\n",
       "      <td>PGR</td>\n",
       "      <td>1.2011</td>\n",
       "      <td>32.331</td>\n",
       "      <td>KWH</td>\n",
       "      <td>1.05</td>\n",
       "      <td>WYONG</td>\n",
       "      <td>2262</td>\n",
       "      <td>1.0</td>\n",
       "    </tr>\n",
       "    <tr>\n",
       "      <th>17</th>\n",
       "      <td>11</td>\n",
       "      <td>PGR</td>\n",
       "      <td>1.2011</td>\n",
       "      <td>60.745</td>\n",
       "      <td>KWH</td>\n",
       "      <td>2.04</td>\n",
       "      <td>WAVERLEY</td>\n",
       "      <td>2026</td>\n",
       "      <td>1.0</td>\n",
       "    </tr>\n",
       "    <tr>\n",
       "      <th>18</th>\n",
       "      <td>11</td>\n",
       "      <td>OGR</td>\n",
       "      <td>1.2011</td>\n",
       "      <td>0.688</td>\n",
       "      <td>KWH</td>\n",
       "      <td>2.04</td>\n",
       "      <td>WAVERLEY</td>\n",
       "      <td>2026</td>\n",
       "      <td>1.0</td>\n",
       "    </tr>\n",
       "    <tr>\n",
       "      <th>19</th>\n",
       "      <td>12</td>\n",
       "      <td>PGR</td>\n",
       "      <td>1.2011</td>\n",
       "      <td>41.573</td>\n",
       "      <td>KWH</td>\n",
       "      <td>1.04</td>\n",
       "      <td>ROCKDALE</td>\n",
       "      <td>2218</td>\n",
       "      <td>1.0</td>\n",
       "    </tr>\n",
       "    <tr>\n",
       "      <th>20</th>\n",
       "      <td>12</td>\n",
       "      <td>OGR</td>\n",
       "      <td>1.2011</td>\n",
       "      <td>0.547</td>\n",
       "      <td>KWH</td>\n",
       "      <td>1.04</td>\n",
       "      <td>ROCKDALE</td>\n",
       "      <td>2218</td>\n",
       "      <td>1.0</td>\n",
       "    </tr>\n",
       "    <tr>\n",
       "      <th>21</th>\n",
       "      <td>13</td>\n",
       "      <td>PGR</td>\n",
       "      <td>1.2011</td>\n",
       "      <td>91.609</td>\n",
       "      <td>KWH</td>\n",
       "      <td>2.22</td>\n",
       "      <td>WYONG</td>\n",
       "      <td>2261</td>\n",
       "      <td>1.0</td>\n",
       "    </tr>\n",
       "    <tr>\n",
       "      <th>22</th>\n",
       "      <td>13</td>\n",
       "      <td>OGR</td>\n",
       "      <td>1.2011</td>\n",
       "      <td>0.660</td>\n",
       "      <td>KWH</td>\n",
       "      <td>2.22</td>\n",
       "      <td>WYONG</td>\n",
       "      <td>2261</td>\n",
       "      <td>1.0</td>\n",
       "    </tr>\n",
       "    <tr>\n",
       "      <th>23</th>\n",
       "      <td>14</td>\n",
       "      <td>OGR</td>\n",
       "      <td>1.2011</td>\n",
       "      <td>0.063</td>\n",
       "      <td>KWH</td>\n",
       "      <td>1.48</td>\n",
       "      <td>WYONG</td>\n",
       "      <td>2262</td>\n",
       "      <td>1.0</td>\n",
       "    </tr>\n",
       "    <tr>\n",
       "      <th>24</th>\n",
       "      <td>14</td>\n",
       "      <td>PGR</td>\n",
       "      <td>1.2011</td>\n",
       "      <td>44.971</td>\n",
       "      <td>KWH</td>\n",
       "      <td>1.48</td>\n",
       "      <td>WYONG</td>\n",
       "      <td>2262</td>\n",
       "      <td>1.0</td>\n",
       "    </tr>\n",
       "    <tr>\n",
       "      <th>25</th>\n",
       "      <td>16</td>\n",
       "      <td>OGR</td>\n",
       "      <td>1.2011</td>\n",
       "      <td>1.535</td>\n",
       "      <td>KWH</td>\n",
       "      <td>3.33</td>\n",
       "      <td>HURSTVILLE</td>\n",
       "      <td>2208</td>\n",
       "      <td>1.0</td>\n",
       "    </tr>\n",
       "    <tr>\n",
       "      <th>26</th>\n",
       "      <td>16</td>\n",
       "      <td>PGR</td>\n",
       "      <td>1.2011</td>\n",
       "      <td>50.639</td>\n",
       "      <td>KWH</td>\n",
       "      <td>3.33</td>\n",
       "      <td>HURSTVILLE</td>\n",
       "      <td>2208</td>\n",
       "      <td>1.0</td>\n",
       "    </tr>\n",
       "    <tr>\n",
       "      <th>27</th>\n",
       "      <td>17</td>\n",
       "      <td>PGR</td>\n",
       "      <td>1.2011</td>\n",
       "      <td>78.350</td>\n",
       "      <td>KWH</td>\n",
       "      <td>1.85</td>\n",
       "      <td>SUTHERLAND</td>\n",
       "      <td>2229</td>\n",
       "      <td>1.0</td>\n",
       "    </tr>\n",
       "    <tr>\n",
       "      <th>28</th>\n",
       "      <td>17</td>\n",
       "      <td>OGR</td>\n",
       "      <td>1.2011</td>\n",
       "      <td>0.630</td>\n",
       "      <td>KWH</td>\n",
       "      <td>1.85</td>\n",
       "      <td>SUTHERLAND</td>\n",
       "      <td>2229</td>\n",
       "      <td>1.0</td>\n",
       "    </tr>\n",
       "    <tr>\n",
       "      <th>29</th>\n",
       "      <td>20</td>\n",
       "      <td>OGR</td>\n",
       "      <td>1.2011</td>\n",
       "      <td>0.573</td>\n",
       "      <td>KWH</td>\n",
       "      <td>1.57</td>\n",
       "      <td>WYONG</td>\n",
       "      <td>2259</td>\n",
       "      <td>1.0</td>\n",
       "    </tr>\n",
       "    <tr>\n",
       "      <th>...</th>\n",
       "      <td>...</td>\n",
       "      <td>...</td>\n",
       "      <td>...</td>\n",
       "      <td>...</td>\n",
       "      <td>...</td>\n",
       "      <td>...</td>\n",
       "      <td>...</td>\n",
       "      <td>...</td>\n",
       "      <td>...</td>\n",
       "    </tr>\n",
       "    <tr>\n",
       "      <th>416024</th>\n",
       "      <td>2750</td>\n",
       "      <td>OGR</td>\n",
       "      <td>12.2014</td>\n",
       "      <td>0.290</td>\n",
       "      <td>KWH</td>\n",
       "      <td>1.00</td>\n",
       "      <td>ROCKDALE</td>\n",
       "      <td>2207</td>\n",
       "      <td>1.0</td>\n",
       "    </tr>\n",
       "    <tr>\n",
       "      <th>416025</th>\n",
       "      <td>2751</td>\n",
       "      <td>PGR</td>\n",
       "      <td>12.2014</td>\n",
       "      <td>59.341</td>\n",
       "      <td>KWH</td>\n",
       "      <td>1.50</td>\n",
       "      <td>RYDE</td>\n",
       "      <td>2113</td>\n",
       "      <td>1.0</td>\n",
       "    </tr>\n",
       "    <tr>\n",
       "      <th>416026</th>\n",
       "      <td>2751</td>\n",
       "      <td>OGR</td>\n",
       "      <td>12.2014</td>\n",
       "      <td>0.503</td>\n",
       "      <td>KWH</td>\n",
       "      <td>1.50</td>\n",
       "      <td>RYDE</td>\n",
       "      <td>2113</td>\n",
       "      <td>1.0</td>\n",
       "    </tr>\n",
       "    <tr>\n",
       "      <th>416027</th>\n",
       "      <td>2752</td>\n",
       "      <td>OGG</td>\n",
       "      <td>12.2014</td>\n",
       "      <td>0.016</td>\n",
       "      <td>KWH</td>\n",
       "      <td>1.52</td>\n",
       "      <td>LEICHHARDT</td>\n",
       "      <td>2040</td>\n",
       "      <td>1.0</td>\n",
       "    </tr>\n",
       "    <tr>\n",
       "      <th>416028</th>\n",
       "      <td>2752</td>\n",
       "      <td>SGG</td>\n",
       "      <td>12.2014</td>\n",
       "      <td>0.026</td>\n",
       "      <td>KWH</td>\n",
       "      <td>1.52</td>\n",
       "      <td>LEICHHARDT</td>\n",
       "      <td>2040</td>\n",
       "      <td>1.0</td>\n",
       "    </tr>\n",
       "    <tr>\n",
       "      <th>416029</th>\n",
       "      <td>2752</td>\n",
       "      <td>PGG</td>\n",
       "      <td>12.2014</td>\n",
       "      <td>0.003</td>\n",
       "      <td>KWH</td>\n",
       "      <td>1.52</td>\n",
       "      <td>LEICHHARDT</td>\n",
       "      <td>2040</td>\n",
       "      <td>1.0</td>\n",
       "    </tr>\n",
       "    <tr>\n",
       "      <th>416030</th>\n",
       "      <td>2753</td>\n",
       "      <td>PGR</td>\n",
       "      <td>12.2014</td>\n",
       "      <td>37.534</td>\n",
       "      <td>KWH</td>\n",
       "      <td>1.05</td>\n",
       "      <td>WYONG</td>\n",
       "      <td>2259</td>\n",
       "      <td>1.0</td>\n",
       "    </tr>\n",
       "    <tr>\n",
       "      <th>416031</th>\n",
       "      <td>2753</td>\n",
       "      <td>OGR</td>\n",
       "      <td>12.2014</td>\n",
       "      <td>0.386</td>\n",
       "      <td>KWH</td>\n",
       "      <td>1.05</td>\n",
       "      <td>WYONG</td>\n",
       "      <td>2259</td>\n",
       "      <td>1.0</td>\n",
       "    </tr>\n",
       "    <tr>\n",
       "      <th>416032</th>\n",
       "      <td>2754</td>\n",
       "      <td>PGR</td>\n",
       "      <td>12.2014</td>\n",
       "      <td>59.555</td>\n",
       "      <td>KWH</td>\n",
       "      <td>1.48</td>\n",
       "      <td>PORT STEPHENS</td>\n",
       "      <td>2317</td>\n",
       "      <td>1.0</td>\n",
       "    </tr>\n",
       "    <tr>\n",
       "      <th>416033</th>\n",
       "      <td>2754</td>\n",
       "      <td>OGR</td>\n",
       "      <td>12.2014</td>\n",
       "      <td>0.517</td>\n",
       "      <td>KWH</td>\n",
       "      <td>1.48</td>\n",
       "      <td>PORT STEPHENS</td>\n",
       "      <td>2317</td>\n",
       "      <td>1.0</td>\n",
       "    </tr>\n",
       "    <tr>\n",
       "      <th>416034</th>\n",
       "      <td>2755</td>\n",
       "      <td>PGR</td>\n",
       "      <td>12.2014</td>\n",
       "      <td>60.267</td>\n",
       "      <td>KWH</td>\n",
       "      <td>1.50</td>\n",
       "      <td>PORT STEPHENS</td>\n",
       "      <td>2317</td>\n",
       "      <td>1.0</td>\n",
       "    </tr>\n",
       "    <tr>\n",
       "      <th>416035</th>\n",
       "      <td>2755</td>\n",
       "      <td>OGR</td>\n",
       "      <td>12.2014</td>\n",
       "      <td>0.455</td>\n",
       "      <td>KWH</td>\n",
       "      <td>1.50</td>\n",
       "      <td>PORT STEPHENS</td>\n",
       "      <td>2317</td>\n",
       "      <td>1.0</td>\n",
       "    </tr>\n",
       "    <tr>\n",
       "      <th>416036</th>\n",
       "      <td>2756</td>\n",
       "      <td>OGR</td>\n",
       "      <td>12.2014</td>\n",
       "      <td>0.461</td>\n",
       "      <td>KWH</td>\n",
       "      <td>1.50</td>\n",
       "      <td>PORT STEPHENS</td>\n",
       "      <td>2317</td>\n",
       "      <td>1.0</td>\n",
       "    </tr>\n",
       "    <tr>\n",
       "      <th>416037</th>\n",
       "      <td>2756</td>\n",
       "      <td>PGR</td>\n",
       "      <td>12.2014</td>\n",
       "      <td>61.287</td>\n",
       "      <td>KWH</td>\n",
       "      <td>1.50</td>\n",
       "      <td>PORT STEPHENS</td>\n",
       "      <td>2317</td>\n",
       "      <td>1.0</td>\n",
       "    </tr>\n",
       "    <tr>\n",
       "      <th>416038</th>\n",
       "      <td>2760</td>\n",
       "      <td>OGR</td>\n",
       "      <td>12.2014</td>\n",
       "      <td>0.977</td>\n",
       "      <td>KWH</td>\n",
       "      <td>3.00</td>\n",
       "      <td>LAKE MACQUARIE</td>\n",
       "      <td>2286</td>\n",
       "      <td>1.0</td>\n",
       "    </tr>\n",
       "    <tr>\n",
       "      <th>416039</th>\n",
       "      <td>2761</td>\n",
       "      <td>PGR</td>\n",
       "      <td>12.2014</td>\n",
       "      <td>77.532</td>\n",
       "      <td>KWH</td>\n",
       "      <td>1.85</td>\n",
       "      <td>KU-RING-GAI</td>\n",
       "      <td>2076</td>\n",
       "      <td>1.0</td>\n",
       "    </tr>\n",
       "    <tr>\n",
       "      <th>416040</th>\n",
       "      <td>2761</td>\n",
       "      <td>OGR</td>\n",
       "      <td>12.2014</td>\n",
       "      <td>0.488</td>\n",
       "      <td>KWH</td>\n",
       "      <td>1.85</td>\n",
       "      <td>KU-RING-GAI</td>\n",
       "      <td>2076</td>\n",
       "      <td>1.0</td>\n",
       "    </tr>\n",
       "    <tr>\n",
       "      <th>416041</th>\n",
       "      <td>2762</td>\n",
       "      <td>OGR</td>\n",
       "      <td>12.2014</td>\n",
       "      <td>0.748</td>\n",
       "      <td>KWH</td>\n",
       "      <td>2.04</td>\n",
       "      <td>GOSFORD</td>\n",
       "      <td>2250</td>\n",
       "      <td>1.0</td>\n",
       "    </tr>\n",
       "    <tr>\n",
       "      <th>416042</th>\n",
       "      <td>2762</td>\n",
       "      <td>PGR</td>\n",
       "      <td>12.2014</td>\n",
       "      <td>56.092</td>\n",
       "      <td>KWH</td>\n",
       "      <td>2.04</td>\n",
       "      <td>GOSFORD</td>\n",
       "      <td>2250</td>\n",
       "      <td>1.0</td>\n",
       "    </tr>\n",
       "    <tr>\n",
       "      <th>416043</th>\n",
       "      <td>2763</td>\n",
       "      <td>PGR</td>\n",
       "      <td>12.2014</td>\n",
       "      <td>65.593</td>\n",
       "      <td>KWH</td>\n",
       "      <td>1.50</td>\n",
       "      <td>LAKE MACQUARIE</td>\n",
       "      <td>2283</td>\n",
       "      <td>1.0</td>\n",
       "    </tr>\n",
       "    <tr>\n",
       "      <th>416044</th>\n",
       "      <td>2763</td>\n",
       "      <td>OGR</td>\n",
       "      <td>12.2014</td>\n",
       "      <td>1.064</td>\n",
       "      <td>KWH</td>\n",
       "      <td>1.50</td>\n",
       "      <td>LAKE MACQUARIE</td>\n",
       "      <td>2283</td>\n",
       "      <td>1.0</td>\n",
       "    </tr>\n",
       "    <tr>\n",
       "      <th>416045</th>\n",
       "      <td>2764</td>\n",
       "      <td>OGG</td>\n",
       "      <td>12.2014</td>\n",
       "      <td>2.038</td>\n",
       "      <td>KWH</td>\n",
       "      <td>3.42</td>\n",
       "      <td>STRATHFIELD</td>\n",
       "      <td>2135</td>\n",
       "      <td>1.0</td>\n",
       "    </tr>\n",
       "    <tr>\n",
       "      <th>416046</th>\n",
       "      <td>2764</td>\n",
       "      <td>PGG</td>\n",
       "      <td>12.2014</td>\n",
       "      <td>96.957</td>\n",
       "      <td>KWH</td>\n",
       "      <td>3.42</td>\n",
       "      <td>STRATHFIELD</td>\n",
       "      <td>2135</td>\n",
       "      <td>1.0</td>\n",
       "    </tr>\n",
       "    <tr>\n",
       "      <th>416047</th>\n",
       "      <td>2765</td>\n",
       "      <td>PGR</td>\n",
       "      <td>12.2014</td>\n",
       "      <td>67.644</td>\n",
       "      <td>KWH</td>\n",
       "      <td>2.16</td>\n",
       "      <td>LAKE MACQUARIE</td>\n",
       "      <td>2285</td>\n",
       "      <td>1.0</td>\n",
       "    </tr>\n",
       "    <tr>\n",
       "      <th>416048</th>\n",
       "      <td>2765</td>\n",
       "      <td>OGR</td>\n",
       "      <td>12.2014</td>\n",
       "      <td>1.115</td>\n",
       "      <td>KWH</td>\n",
       "      <td>2.16</td>\n",
       "      <td>LAKE MACQUARIE</td>\n",
       "      <td>2285</td>\n",
       "      <td>1.0</td>\n",
       "    </tr>\n",
       "    <tr>\n",
       "      <th>416049</th>\n",
       "      <td>2766</td>\n",
       "      <td>OGR</td>\n",
       "      <td>12.2014</td>\n",
       "      <td>0.482</td>\n",
       "      <td>KWH</td>\n",
       "      <td>1.05</td>\n",
       "      <td>WYONG</td>\n",
       "      <td>2259</td>\n",
       "      <td>1.0</td>\n",
       "    </tr>\n",
       "    <tr>\n",
       "      <th>416050</th>\n",
       "      <td>2766</td>\n",
       "      <td>PGR</td>\n",
       "      <td>12.2014</td>\n",
       "      <td>38.629</td>\n",
       "      <td>KWH</td>\n",
       "      <td>1.05</td>\n",
       "      <td>WYONG</td>\n",
       "      <td>2259</td>\n",
       "      <td>1.0</td>\n",
       "    </tr>\n",
       "    <tr>\n",
       "      <th>416051</th>\n",
       "      <td>2767</td>\n",
       "      <td>PGG</td>\n",
       "      <td>12.2014</td>\n",
       "      <td>38.357</td>\n",
       "      <td>KWH</td>\n",
       "      <td>1.05</td>\n",
       "      <td>WYONG</td>\n",
       "      <td>2259</td>\n",
       "      <td>1.0</td>\n",
       "    </tr>\n",
       "    <tr>\n",
       "      <th>416052</th>\n",
       "      <td>2767</td>\n",
       "      <td>OGG</td>\n",
       "      <td>12.2014</td>\n",
       "      <td>0.458</td>\n",
       "      <td>KWH</td>\n",
       "      <td>1.05</td>\n",
       "      <td>WYONG</td>\n",
       "      <td>2259</td>\n",
       "      <td>1.0</td>\n",
       "    </tr>\n",
       "    <tr>\n",
       "      <th>416053</th>\n",
       "      <td>2768</td>\n",
       "      <td>OGR</td>\n",
       "      <td>12.2014</td>\n",
       "      <td>1.428</td>\n",
       "      <td>KWH</td>\n",
       "      <td>2.50</td>\n",
       "      <td>BANKSTOWN</td>\n",
       "      <td>2190</td>\n",
       "      <td>1.0</td>\n",
       "    </tr>\n",
       "  </tbody>\n",
       "</table>\n",
       "<p>416054 rows × 9 columns</p>\n",
       "</div>"
      ],
      "text/plain": [
       "        customerid billratetype  consumptionmonth     sum unitme  capacity  \\\n",
       "0                1          OGR            1.2011   2.060    KWH      3.78   \n",
       "1                2          PGR            1.2011  42.154    KWH      1.62   \n",
       "2                2          OGR            1.2011   0.550    KWH      1.62   \n",
       "3                3          PGR            1.2011  29.200    KWH      1.00   \n",
       "4                3          OGR            1.2011   0.524    KWH      1.00   \n",
       "5                4          PGR            1.2011  39.584    KWH      1.00   \n",
       "6                4          OGR            1.2011   0.179    KWH      1.00   \n",
       "7                4          SGR            1.2011  92.552    KWH      1.00   \n",
       "8                6          PGR            1.2011  62.503    KWH      2.00   \n",
       "9                6          OGR            1.2011   0.251    KWH      2.00   \n",
       "10               7          PGR            1.2011  67.675    KWH      2.16   \n",
       "11               7          OGR            1.2011   0.673    KWH      2.16   \n",
       "12               8          OGR            1.2011   2.414    KWH      1.02   \n",
       "13               8          PGR            1.2011  23.176    KWH      1.02   \n",
       "14              10          OGR            1.2011   0.198    KWH      1.05   \n",
       "15              10          SGR            1.2011  76.530    KWH      1.05   \n",
       "16              10          PGR            1.2011  32.331    KWH      1.05   \n",
       "17              11          PGR            1.2011  60.745    KWH      2.04   \n",
       "18              11          OGR            1.2011   0.688    KWH      2.04   \n",
       "19              12          PGR            1.2011  41.573    KWH      1.04   \n",
       "20              12          OGR            1.2011   0.547    KWH      1.04   \n",
       "21              13          PGR            1.2011  91.609    KWH      2.22   \n",
       "22              13          OGR            1.2011   0.660    KWH      2.22   \n",
       "23              14          OGR            1.2011   0.063    KWH      1.48   \n",
       "24              14          PGR            1.2011  44.971    KWH      1.48   \n",
       "25              16          OGR            1.2011   1.535    KWH      3.33   \n",
       "26              16          PGR            1.2011  50.639    KWH      3.33   \n",
       "27              17          PGR            1.2011  78.350    KWH      1.85   \n",
       "28              17          OGR            1.2011   0.630    KWH      1.85   \n",
       "29              20          OGR            1.2011   0.573    KWH      1.57   \n",
       "...            ...          ...               ...     ...    ...       ...   \n",
       "416024        2750          OGR           12.2014   0.290    KWH      1.00   \n",
       "416025        2751          PGR           12.2014  59.341    KWH      1.50   \n",
       "416026        2751          OGR           12.2014   0.503    KWH      1.50   \n",
       "416027        2752          OGG           12.2014   0.016    KWH      1.52   \n",
       "416028        2752          SGG           12.2014   0.026    KWH      1.52   \n",
       "416029        2752          PGG           12.2014   0.003    KWH      1.52   \n",
       "416030        2753          PGR           12.2014  37.534    KWH      1.05   \n",
       "416031        2753          OGR           12.2014   0.386    KWH      1.05   \n",
       "416032        2754          PGR           12.2014  59.555    KWH      1.48   \n",
       "416033        2754          OGR           12.2014   0.517    KWH      1.48   \n",
       "416034        2755          PGR           12.2014  60.267    KWH      1.50   \n",
       "416035        2755          OGR           12.2014   0.455    KWH      1.50   \n",
       "416036        2756          OGR           12.2014   0.461    KWH      1.50   \n",
       "416037        2756          PGR           12.2014  61.287    KWH      1.50   \n",
       "416038        2760          OGR           12.2014   0.977    KWH      3.00   \n",
       "416039        2761          PGR           12.2014  77.532    KWH      1.85   \n",
       "416040        2761          OGR           12.2014   0.488    KWH      1.85   \n",
       "416041        2762          OGR           12.2014   0.748    KWH      2.04   \n",
       "416042        2762          PGR           12.2014  56.092    KWH      2.04   \n",
       "416043        2763          PGR           12.2014  65.593    KWH      1.50   \n",
       "416044        2763          OGR           12.2014   1.064    KWH      1.50   \n",
       "416045        2764          OGG           12.2014   2.038    KWH      3.42   \n",
       "416046        2764          PGG           12.2014  96.957    KWH      3.42   \n",
       "416047        2765          PGR           12.2014  67.644    KWH      2.16   \n",
       "416048        2765          OGR           12.2014   1.115    KWH      2.16   \n",
       "416049        2766          OGR           12.2014   0.482    KWH      1.05   \n",
       "416050        2766          PGR           12.2014  38.629    KWH      1.05   \n",
       "416051        2767          PGG           12.2014  38.357    KWH      1.05   \n",
       "416052        2767          OGG           12.2014   0.458    KWH      1.05   \n",
       "416053        2768          OGR           12.2014   1.428    KWH      2.50   \n",
       "\n",
       "                suburb  postcode  billsaved  \n",
       "0              HORNSBY      2076        1.0  \n",
       "1                WYONG      2259        1.0  \n",
       "2                WYONG      2259        1.0  \n",
       "3                WYONG      2263        1.0  \n",
       "4                WYONG      2263        1.0  \n",
       "5           HURSTVILLE      2220        1.0  \n",
       "6           HURSTVILLE      2220        1.0  \n",
       "7           HURSTVILLE      2220        1.0  \n",
       "8           SUTHERLAND      2230        1.0  \n",
       "9           SUTHERLAND      2230        1.0  \n",
       "10               WYONG      2259        1.0  \n",
       "11               WYONG      2259        1.0  \n",
       "12             HORNSBY      2126        1.0  \n",
       "13             HORNSBY      2126        1.0  \n",
       "14               WYONG      2262        1.0  \n",
       "15               WYONG      2262        1.0  \n",
       "16               WYONG      2262        1.0  \n",
       "17            WAVERLEY      2026        1.0  \n",
       "18            WAVERLEY      2026        1.0  \n",
       "19            ROCKDALE      2218        1.0  \n",
       "20            ROCKDALE      2218        1.0  \n",
       "21               WYONG      2261        1.0  \n",
       "22               WYONG      2261        1.0  \n",
       "23               WYONG      2262        1.0  \n",
       "24               WYONG      2262        1.0  \n",
       "25          HURSTVILLE      2208        1.0  \n",
       "26          HURSTVILLE      2208        1.0  \n",
       "27          SUTHERLAND      2229        1.0  \n",
       "28          SUTHERLAND      2229        1.0  \n",
       "29               WYONG      2259        1.0  \n",
       "...                ...       ...        ...  \n",
       "416024        ROCKDALE      2207        1.0  \n",
       "416025            RYDE      2113        1.0  \n",
       "416026            RYDE      2113        1.0  \n",
       "416027      LEICHHARDT      2040        1.0  \n",
       "416028      LEICHHARDT      2040        1.0  \n",
       "416029      LEICHHARDT      2040        1.0  \n",
       "416030           WYONG      2259        1.0  \n",
       "416031           WYONG      2259        1.0  \n",
       "416032   PORT STEPHENS      2317        1.0  \n",
       "416033   PORT STEPHENS      2317        1.0  \n",
       "416034   PORT STEPHENS      2317        1.0  \n",
       "416035   PORT STEPHENS      2317        1.0  \n",
       "416036   PORT STEPHENS      2317        1.0  \n",
       "416037   PORT STEPHENS      2317        1.0  \n",
       "416038  LAKE MACQUARIE      2286        1.0  \n",
       "416039     KU-RING-GAI      2076        1.0  \n",
       "416040     KU-RING-GAI      2076        1.0  \n",
       "416041         GOSFORD      2250        1.0  \n",
       "416042         GOSFORD      2250        1.0  \n",
       "416043  LAKE MACQUARIE      2283        1.0  \n",
       "416044  LAKE MACQUARIE      2283        1.0  \n",
       "416045     STRATHFIELD      2135        1.0  \n",
       "416046     STRATHFIELD      2135        1.0  \n",
       "416047  LAKE MACQUARIE      2285        1.0  \n",
       "416048  LAKE MACQUARIE      2285        1.0  \n",
       "416049           WYONG      2259        1.0  \n",
       "416050           WYONG      2259        1.0  \n",
       "416051           WYONG      2259        1.0  \n",
       "416052           WYONG      2259        1.0  \n",
       "416053       BANKSTOWN      2190        1.0  \n",
       "\n",
       "[416054 rows x 9 columns]"
      ]
     },
     "execution_count": 2,
     "metadata": {},
     "output_type": "execute_result"
    }
   ],
   "source": [
    "# Read the data file\n",
    "\n",
    "data=pd.read_csv('data.csv')\n",
    "data.apply(pd.to_numeric, errors='ignore')\n"
   ]
  },
  {
   "cell_type": "markdown",
   "metadata": {},
   "source": [
    "# explore data"
   ]
  },
  {
   "cell_type": "code",
   "execution_count": 3,
   "metadata": {},
   "outputs": [
    {
     "data": {
      "text/html": [
       "<div>\n",
       "<style scoped>\n",
       "    .dataframe tbody tr th:only-of-type {\n",
       "        vertical-align: middle;\n",
       "    }\n",
       "\n",
       "    .dataframe tbody tr th {\n",
       "        vertical-align: top;\n",
       "    }\n",
       "\n",
       "    .dataframe thead th {\n",
       "        text-align: right;\n",
       "    }\n",
       "</style>\n",
       "<table border=\"1\" class=\"dataframe\">\n",
       "  <thead>\n",
       "    <tr style=\"text-align: right;\">\n",
       "      <th></th>\n",
       "      <th>customerid</th>\n",
       "      <th>billratetype</th>\n",
       "      <th>consumptionmonth</th>\n",
       "      <th>sum</th>\n",
       "      <th>unitme</th>\n",
       "      <th>capacity</th>\n",
       "      <th>suburb</th>\n",
       "      <th>postcode</th>\n",
       "      <th>billsaved</th>\n",
       "    </tr>\n",
       "  </thead>\n",
       "  <tbody>\n",
       "    <tr>\n",
       "      <th>0</th>\n",
       "      <td>1</td>\n",
       "      <td>OGR</td>\n",
       "      <td>1.2011</td>\n",
       "      <td>2.060</td>\n",
       "      <td>KWH</td>\n",
       "      <td>3.78</td>\n",
       "      <td>HORNSBY</td>\n",
       "      <td>2076</td>\n",
       "      <td>1.0</td>\n",
       "    </tr>\n",
       "    <tr>\n",
       "      <th>1</th>\n",
       "      <td>2</td>\n",
       "      <td>PGR</td>\n",
       "      <td>1.2011</td>\n",
       "      <td>42.154</td>\n",
       "      <td>KWH</td>\n",
       "      <td>1.62</td>\n",
       "      <td>WYONG</td>\n",
       "      <td>2259</td>\n",
       "      <td>1.0</td>\n",
       "    </tr>\n",
       "    <tr>\n",
       "      <th>2</th>\n",
       "      <td>2</td>\n",
       "      <td>OGR</td>\n",
       "      <td>1.2011</td>\n",
       "      <td>0.550</td>\n",
       "      <td>KWH</td>\n",
       "      <td>1.62</td>\n",
       "      <td>WYONG</td>\n",
       "      <td>2259</td>\n",
       "      <td>1.0</td>\n",
       "    </tr>\n",
       "    <tr>\n",
       "      <th>3</th>\n",
       "      <td>3</td>\n",
       "      <td>PGR</td>\n",
       "      <td>1.2011</td>\n",
       "      <td>29.200</td>\n",
       "      <td>KWH</td>\n",
       "      <td>1.00</td>\n",
       "      <td>WYONG</td>\n",
       "      <td>2263</td>\n",
       "      <td>1.0</td>\n",
       "    </tr>\n",
       "    <tr>\n",
       "      <th>4</th>\n",
       "      <td>3</td>\n",
       "      <td>OGR</td>\n",
       "      <td>1.2011</td>\n",
       "      <td>0.524</td>\n",
       "      <td>KWH</td>\n",
       "      <td>1.00</td>\n",
       "      <td>WYONG</td>\n",
       "      <td>2263</td>\n",
       "      <td>1.0</td>\n",
       "    </tr>\n",
       "  </tbody>\n",
       "</table>\n",
       "</div>"
      ],
      "text/plain": [
       "   customerid billratetype  consumptionmonth     sum unitme  capacity  \\\n",
       "0           1          OGR            1.2011   2.060    KWH      3.78   \n",
       "1           2          PGR            1.2011  42.154    KWH      1.62   \n",
       "2           2          OGR            1.2011   0.550    KWH      1.62   \n",
       "3           3          PGR            1.2011  29.200    KWH      1.00   \n",
       "4           3          OGR            1.2011   0.524    KWH      1.00   \n",
       "\n",
       "    suburb  postcode  billsaved  \n",
       "0  HORNSBY      2076        1.0  \n",
       "1    WYONG      2259        1.0  \n",
       "2    WYONG      2259        1.0  \n",
       "3    WYONG      2263        1.0  \n",
       "4    WYONG      2263        1.0  "
      ]
     },
     "execution_count": 3,
     "metadata": {},
     "output_type": "execute_result"
    }
   ],
   "source": [
    "# explore the data head\n",
    "data.head()"
   ]
  },
  {
   "cell_type": "code",
   "execution_count": 4,
   "metadata": {},
   "outputs": [
    {
     "name": "stdout",
     "output_type": "stream",
     "text": [
      "<class 'pandas.core.frame.DataFrame'>\n",
      "RangeIndex: 416054 entries, 0 to 416053\n",
      "Data columns (total 9 columns):\n",
      "customerid          416054 non-null int64\n",
      "billratetype        416054 non-null object\n",
      "consumptionmonth    416054 non-null float64\n",
      "sum                 416054 non-null float64\n",
      "unitme              416054 non-null object\n",
      "capacity            416054 non-null float64\n",
      "suburb              416054 non-null object\n",
      "postcode            416054 non-null int64\n",
      "billsaved           416053 non-null float64\n",
      "dtypes: float64(4), int64(2), object(3)\n",
      "memory usage: 28.6+ MB\n"
     ]
    }
   ],
   "source": [
    "# The data info\n",
    "data.info()"
   ]
  },
  {
   "cell_type": "code",
   "execution_count": 5,
   "metadata": {},
   "outputs": [
    {
     "data": {
      "text/html": [
       "<div>\n",
       "<style scoped>\n",
       "    .dataframe tbody tr th:only-of-type {\n",
       "        vertical-align: middle;\n",
       "    }\n",
       "\n",
       "    .dataframe tbody tr th {\n",
       "        vertical-align: top;\n",
       "    }\n",
       "\n",
       "    .dataframe thead th {\n",
       "        text-align: right;\n",
       "    }\n",
       "</style>\n",
       "<table border=\"1\" class=\"dataframe\">\n",
       "  <thead>\n",
       "    <tr style=\"text-align: right;\">\n",
       "      <th></th>\n",
       "      <th>customerid</th>\n",
       "      <th>consumptionmonth</th>\n",
       "      <th>sum</th>\n",
       "      <th>capacity</th>\n",
       "      <th>postcode</th>\n",
       "      <th>billsaved</th>\n",
       "    </tr>\n",
       "  </thead>\n",
       "  <tbody>\n",
       "    <tr>\n",
       "      <th>count</th>\n",
       "      <td>416054.000000</td>\n",
       "      <td>416054.000000</td>\n",
       "      <td>416054.000000</td>\n",
       "      <td>416054.000000</td>\n",
       "      <td>416054.000000</td>\n",
       "      <td>416053.000000</td>\n",
       "    </tr>\n",
       "    <tr>\n",
       "      <th>mean</th>\n",
       "      <td>1423.125005</td>\n",
       "      <td>6.698093</td>\n",
       "      <td>68.931230</td>\n",
       "      <td>2.033466</td>\n",
       "      <td>2202.884575</td>\n",
       "      <td>0.721045</td>\n",
       "    </tr>\n",
       "    <tr>\n",
       "      <th>std</th>\n",
       "      <td>781.000398</td>\n",
       "      <td>3.498677</td>\n",
       "      <td>95.451587</td>\n",
       "      <td>1.134470</td>\n",
       "      <td>91.010585</td>\n",
       "      <td>0.448486</td>\n",
       "    </tr>\n",
       "    <tr>\n",
       "      <th>min</th>\n",
       "      <td>1.000000</td>\n",
       "      <td>1.201100</td>\n",
       "      <td>-451.865000</td>\n",
       "      <td>1.000000</td>\n",
       "      <td>2008.000000</td>\n",
       "      <td>0.000000</td>\n",
       "    </tr>\n",
       "    <tr>\n",
       "      <th>25%</th>\n",
       "      <td>755.000000</td>\n",
       "      <td>3.201500</td>\n",
       "      <td>0.698000</td>\n",
       "      <td>1.500000</td>\n",
       "      <td>2114.000000</td>\n",
       "      <td>0.000000</td>\n",
       "    </tr>\n",
       "    <tr>\n",
       "      <th>50%</th>\n",
       "      <td>1424.000000</td>\n",
       "      <td>7.201000</td>\n",
       "      <td>32.872000</td>\n",
       "      <td>1.530000</td>\n",
       "      <td>2229.000000</td>\n",
       "      <td>1.000000</td>\n",
       "    </tr>\n",
       "    <tr>\n",
       "      <th>75%</th>\n",
       "      <td>2103.000000</td>\n",
       "      <td>10.201000</td>\n",
       "      <td>112.964000</td>\n",
       "      <td>2.160000</td>\n",
       "      <td>2282.000000</td>\n",
       "      <td>1.000000</td>\n",
       "    </tr>\n",
       "    <tr>\n",
       "      <th>max</th>\n",
       "      <td>2768.000000</td>\n",
       "      <td>12.201400</td>\n",
       "      <td>1437.576000</td>\n",
       "      <td>10.000000</td>\n",
       "      <td>2337.000000</td>\n",
       "      <td>1.000000</td>\n",
       "    </tr>\n",
       "  </tbody>\n",
       "</table>\n",
       "</div>"
      ],
      "text/plain": [
       "          customerid  consumptionmonth            sum       capacity  \\\n",
       "count  416054.000000     416054.000000  416054.000000  416054.000000   \n",
       "mean     1423.125005          6.698093      68.931230       2.033466   \n",
       "std       781.000398          3.498677      95.451587       1.134470   \n",
       "min         1.000000          1.201100    -451.865000       1.000000   \n",
       "25%       755.000000          3.201500       0.698000       1.500000   \n",
       "50%      1424.000000          7.201000      32.872000       1.530000   \n",
       "75%      2103.000000         10.201000     112.964000       2.160000   \n",
       "max      2768.000000         12.201400    1437.576000      10.000000   \n",
       "\n",
       "            postcode      billsaved  \n",
       "count  416054.000000  416053.000000  \n",
       "mean     2202.884575       0.721045  \n",
       "std        91.010585       0.448486  \n",
       "min      2008.000000       0.000000  \n",
       "25%      2114.000000       0.000000  \n",
       "50%      2229.000000       1.000000  \n",
       "75%      2282.000000       1.000000  \n",
       "max      2337.000000       1.000000  "
      ]
     },
     "execution_count": 5,
     "metadata": {},
     "output_type": "execute_result"
    }
   ],
   "source": [
    "# description of the data\n",
    "data.describe()"
   ]
  },
  {
   "cell_type": "code",
   "execution_count": 6,
   "metadata": {},
   "outputs": [
    {
     "data": {
      "text/plain": [
       "Index(['customerid', 'billratetype', 'consumptionmonth', 'sum', 'unitme',\n",
       "       'capacity', 'suburb', 'postcode', 'billsaved'],\n",
       "      dtype='object')"
      ]
     },
     "execution_count": 6,
     "metadata": {},
     "output_type": "execute_result"
    }
   ],
   "source": [
    "# colums in the data files\n",
    "data.columns"
   ]
  },
  {
   "cell_type": "code",
   "execution_count": null,
   "metadata": {},
   "outputs": [],
   "source": []
  },
  {
   "cell_type": "code",
   "execution_count": null,
   "metadata": {},
   "outputs": [],
   "source": []
  },
  {
   "cell_type": "code",
   "execution_count": null,
   "metadata": {},
   "outputs": [],
   "source": []
  },
  {
   "cell_type": "markdown",
   "metadata": {},
   "source": [
    "# some visualization of data"
   ]
  },
  {
   "cell_type": "code",
   "execution_count": 7,
   "metadata": {},
   "outputs": [
    {
     "data": {
      "text/plain": [
       "<matplotlib.axes._subplots.AxesSubplot at 0x1cb68b929b0>"
      ]
     },
     "execution_count": 7,
     "metadata": {},
     "output_type": "execute_result"
    },
    {
     "data": {
      "image/png": "[encoded data removed]",
      "text/plain": [
       "<matplotlib.figure.Figure at 0x1cb7046df98>"
      ]
     },
     "metadata": {},
     "output_type": "display_data"
    }
   ],
   "source": [
    "# exploring if there any missing values in the data file\n",
    "sns.heatmap(data.isnull(),yticklabels=False,cbar=False,cmap='viridis')"
   ]
  },
  {
   "cell_type": "markdown",
   "metadata": {},
   "source": [
    "-There is no missing value in to any columns"
   ]
  },
  {
   "cell_type": "code",
   "execution_count": 8,
   "metadata": {},
   "outputs": [],
   "source": [
    "# custom coller pallate\n",
    "\n",
    "red_blue=[\"#19585E\",\"#EF4836\"]\n",
    "palette=sns.color_palette(red_blue)\n",
    "sns.set_palette(palette)\n",
    "sns.set_style(\"white\")"
   ]
  },
  {
   "cell_type": "code",
   "execution_count": 9,
   "metadata": {},
   "outputs": [
    {
     "data": {
      "text/plain": [
       "<matplotlib.legend.Legend at 0x1cb68d684a8>"
      ]
     },
     "execution_count": 9,
     "metadata": {},
     "output_type": "execute_result"
    },
    {
     "data": {
      "image/png": "[encoded data removed]",
      "text/plain": [
       "<matplotlib.figure.Figure at 0x1cb68cb4b00>"
      ]
     },
     "metadata": {},
     "output_type": "display_data"
    }
   ],
   "source": [
    "# visialise the data say the two kind of customer who has been saving from the ausgrid solar pannel or what kind of \n",
    "#customer not been savind from the billing system using \n",
    "\n",
    "pos_sum=data[data['billsaved']==1.0]['sum']\n",
    "neg_sum=data[data['billsaved']==0]['sum']\n",
    "fig=plt.figure(figsize=(15,8))\n",
    "plt.title(\"From the bill saving/notsaving distribution\")\n",
    "pos_sum.hist(alpha=0.9, bins=30, label='saved')\n",
    "neg_sum.hist(alpha=0.9, bins=30, label='notsaved')\n",
    "plt.legend(loc=\"upper right\")"
   ]
  },
  {
   "cell_type": "markdown",
   "metadata": {
    "collapsed": true
   },
   "source": [
    "# logistic regration"
   ]
  },
  {
   "cell_type": "code",
   "execution_count": 10,
   "metadata": {},
   "outputs": [
    {
     "data": {
      "text/plain": [
       "<matplotlib.axes._subplots.AxesSubplot at 0x1cb68d9d400>"
      ]
     },
     "execution_count": 10,
     "metadata": {},
     "output_type": "execute_result"
    },
    {
     "data": {
      "image/png": "[encoded data removed]",
      "text/plain": [
       "<matplotlib.figure.Figure at 0x1cb68d3ec18>"
      ]
     },
     "metadata": {},
     "output_type": "display_data"
    }
   ],
   "source": [
    "# the logistic regression model based on the two types of customers.\n",
    "\n",
    "sns.set_style('whitegrid')\n",
    "sns.countplot(x='billsaved',data=data,palette='RdBu_r')"
   ]
  },
  {
   "cell_type": "code",
   "execution_count": 11,
   "metadata": {},
   "outputs": [
    {
     "data": {
      "text/plain": [
       "<matplotlib.axes._subplots.AxesSubplot at 0x1cb68d34dd8>"
      ]
     },
     "execution_count": 11,
     "metadata": {},
     "output_type": "execute_result"
    },
    {
     "data": {
      "image/png": "[encoded data removed]",
      "text/plain": [
       "<matplotlib.figure.Figure at 0x1cb68bbad68>"
      ]
     },
     "metadata": {},
     "output_type": "display_data"
    }
   ],
   "source": [
    "sns.set_style('dark')\n",
    "sns.countplot(x='billsaved',hue='unitme',data=data,palette=\"GnBu_d\")"
   ]
  },
  {
   "cell_type": "code",
   "execution_count": 12,
   "metadata": {},
   "outputs": [
    {
     "data": {
      "text/plain": [
       "<matplotlib.axes._subplots.AxesSubplot at 0x1cb68e844a8>"
      ]
     },
     "execution_count": 12,
     "metadata": {},
     "output_type": "execute_result"
    },
    {
     "data": {
      "image/png": "[encoded data removed]",
      "text/plain": [
       "<matplotlib.figure.Figure at 0x1cb68d9d080>"
      ]
     },
     "metadata": {},
     "output_type": "display_data"
    }
   ],
   "source": [
    "# using the sns exploring the customers of various time using the solar pannel\n",
    "sns.set_style('whitegrid')\n",
    "sns.countplot(x='billsaved',hue='billratetype',data=data,palette='rainbow')"
   ]
  },
  {
   "cell_type": "markdown",
   "metadata": {},
   "source": [
    "#### most of the customer saved there bills while they was using capacity size-around 1 "
   ]
  },
  {
   "cell_type": "code",
   "execution_count": 13,
   "metadata": {},
   "outputs": [
    {
     "data": {
      "text/plain": [
       "<matplotlib.axes._subplots.AxesSubplot at 0x1cb68e6f588>"
      ]
     },
     "execution_count": 13,
     "metadata": {},
     "output_type": "execute_result"
    },
    {
     "data": {
      "image/png": "[encoded data removed]",
      "text/plain": [
       "<matplotlib.figure.Figure at 0x1cb68ed17b8>"
      ]
     },
     "metadata": {},
     "output_type": "display_data"
    }
   ],
   "source": [
    "sns.distplot(data['capacity'].dropna(),kde=False,color='darkred',bins=30)"
   ]
  },
  {
   "cell_type": "code",
   "execution_count": 14,
   "metadata": {},
   "outputs": [],
   "source": [
    "unit=pd.get_dummies(data['unitme'])"
   ]
  },
  {
   "cell_type": "code",
   "execution_count": 15,
   "metadata": {},
   "outputs": [],
   "source": [
    "bill=pd.get_dummies(data['billratetype'])"
   ]
  },
  {
   "cell_type": "code",
   "execution_count": 16,
   "metadata": {},
   "outputs": [],
   "source": [
    "data.drop(['unitme','billratetype'],axis=1,inplace=True)"
   ]
  },
  {
   "cell_type": "code",
   "execution_count": 17,
   "metadata": {},
   "outputs": [],
   "source": [
    "data = pd.concat([data,unit,bill],axis=1)"
   ]
  },
  {
   "cell_type": "code",
   "execution_count": 18,
   "metadata": {},
   "outputs": [
    {
     "data": {
      "text/html": [
       "<div>\n",
       "<style scoped>\n",
       "    .dataframe tbody tr th:only-of-type {\n",
       "        vertical-align: middle;\n",
       "    }\n",
       "\n",
       "    .dataframe tbody tr th {\n",
       "        vertical-align: top;\n",
       "    }\n",
       "\n",
       "    .dataframe thead th {\n",
       "        text-align: right;\n",
       "    }\n",
       "</style>\n",
       "<table border=\"1\" class=\"dataframe\">\n",
       "  <thead>\n",
       "    <tr style=\"text-align: right;\">\n",
       "      <th></th>\n",
       "      <th>customerid</th>\n",
       "      <th>consumptionmonth</th>\n",
       "      <th>sum</th>\n",
       "      <th>capacity</th>\n",
       "      <th>suburb</th>\n",
       "      <th>postcode</th>\n",
       "      <th>billsaved</th>\n",
       "      <th>KWH</th>\n",
       "      <th>OGG</th>\n",
       "      <th>OGR</th>\n",
       "      <th>PGG</th>\n",
       "      <th>PGR</th>\n",
       "      <th>SGG</th>\n",
       "      <th>SGR</th>\n",
       "    </tr>\n",
       "  </thead>\n",
       "  <tbody>\n",
       "    <tr>\n",
       "      <th>0</th>\n",
       "      <td>1</td>\n",
       "      <td>1.2011</td>\n",
       "      <td>2.060</td>\n",
       "      <td>3.78</td>\n",
       "      <td>HORNSBY</td>\n",
       "      <td>2076</td>\n",
       "      <td>1.0</td>\n",
       "      <td>1</td>\n",
       "      <td>0</td>\n",
       "      <td>1</td>\n",
       "      <td>0</td>\n",
       "      <td>0</td>\n",
       "      <td>0</td>\n",
       "      <td>0</td>\n",
       "    </tr>\n",
       "    <tr>\n",
       "      <th>1</th>\n",
       "      <td>2</td>\n",
       "      <td>1.2011</td>\n",
       "      <td>42.154</td>\n",
       "      <td>1.62</td>\n",
       "      <td>WYONG</td>\n",
       "      <td>2259</td>\n",
       "      <td>1.0</td>\n",
       "      <td>1</td>\n",
       "      <td>0</td>\n",
       "      <td>0</td>\n",
       "      <td>0</td>\n",
       "      <td>1</td>\n",
       "      <td>0</td>\n",
       "      <td>0</td>\n",
       "    </tr>\n",
       "    <tr>\n",
       "      <th>2</th>\n",
       "      <td>2</td>\n",
       "      <td>1.2011</td>\n",
       "      <td>0.550</td>\n",
       "      <td>1.62</td>\n",
       "      <td>WYONG</td>\n",
       "      <td>2259</td>\n",
       "      <td>1.0</td>\n",
       "      <td>1</td>\n",
       "      <td>0</td>\n",
       "      <td>1</td>\n",
       "      <td>0</td>\n",
       "      <td>0</td>\n",
       "      <td>0</td>\n",
       "      <td>0</td>\n",
       "    </tr>\n",
       "    <tr>\n",
       "      <th>3</th>\n",
       "      <td>3</td>\n",
       "      <td>1.2011</td>\n",
       "      <td>29.200</td>\n",
       "      <td>1.00</td>\n",
       "      <td>WYONG</td>\n",
       "      <td>2263</td>\n",
       "      <td>1.0</td>\n",
       "      <td>1</td>\n",
       "      <td>0</td>\n",
       "      <td>0</td>\n",
       "      <td>0</td>\n",
       "      <td>1</td>\n",
       "      <td>0</td>\n",
       "      <td>0</td>\n",
       "    </tr>\n",
       "    <tr>\n",
       "      <th>4</th>\n",
       "      <td>3</td>\n",
       "      <td>1.2011</td>\n",
       "      <td>0.524</td>\n",
       "      <td>1.00</td>\n",
       "      <td>WYONG</td>\n",
       "      <td>2263</td>\n",
       "      <td>1.0</td>\n",
       "      <td>1</td>\n",
       "      <td>0</td>\n",
       "      <td>1</td>\n",
       "      <td>0</td>\n",
       "      <td>0</td>\n",
       "      <td>0</td>\n",
       "      <td>0</td>\n",
       "    </tr>\n",
       "  </tbody>\n",
       "</table>\n",
       "</div>"
      ],
      "text/plain": [
       "   customerid  consumptionmonth     sum  capacity   suburb  postcode  \\\n",
       "0           1            1.2011   2.060      3.78  HORNSBY      2076   \n",
       "1           2            1.2011  42.154      1.62    WYONG      2259   \n",
       "2           2            1.2011   0.550      1.62    WYONG      2259   \n",
       "3           3            1.2011  29.200      1.00    WYONG      2263   \n",
       "4           3            1.2011   0.524      1.00    WYONG      2263   \n",
       "\n",
       "   billsaved  KWH  OGG  OGR  PGG  PGR  SGG  SGR  \n",
       "0        1.0    1    0    1    0    0    0    0  \n",
       "1        1.0    1    0    0    0    1    0    0  \n",
       "2        1.0    1    0    1    0    0    0    0  \n",
       "3        1.0    1    0    0    0    1    0    0  \n",
       "4        1.0    1    0    1    0    0    0    0  "
      ]
     },
     "execution_count": 18,
     "metadata": {},
     "output_type": "execute_result"
    }
   ],
   "source": [
    "data.head()"
   ]
  },
  {
   "cell_type": "code",
   "execution_count": 19,
   "metadata": {},
   "outputs": [],
   "source": [
    "data.drop(['consumptionmonth','suburb'],axis=1,inplace=True)"
   ]
  },
  {
   "cell_type": "code",
   "execution_count": 20,
   "metadata": {},
   "outputs": [
    {
     "data": {
      "text/html": [
       "<div>\n",
       "<style scoped>\n",
       "    .dataframe tbody tr th:only-of-type {\n",
       "        vertical-align: middle;\n",
       "    }\n",
       "\n",
       "    .dataframe tbody tr th {\n",
       "        vertical-align: top;\n",
       "    }\n",
       "\n",
       "    .dataframe thead th {\n",
       "        text-align: right;\n",
       "    }\n",
       "</style>\n",
       "<table border=\"1\" class=\"dataframe\">\n",
       "  <thead>\n",
       "    <tr style=\"text-align: right;\">\n",
       "      <th></th>\n",
       "      <th>customerid</th>\n",
       "      <th>sum</th>\n",
       "      <th>capacity</th>\n",
       "      <th>postcode</th>\n",
       "      <th>billsaved</th>\n",
       "      <th>KWH</th>\n",
       "      <th>OGG</th>\n",
       "      <th>OGR</th>\n",
       "      <th>PGG</th>\n",
       "      <th>PGR</th>\n",
       "      <th>SGG</th>\n",
       "      <th>SGR</th>\n",
       "    </tr>\n",
       "  </thead>\n",
       "  <tbody>\n",
       "    <tr>\n",
       "      <th>0</th>\n",
       "      <td>1</td>\n",
       "      <td>2.060</td>\n",
       "      <td>3.78</td>\n",
       "      <td>2076</td>\n",
       "      <td>1.0</td>\n",
       "      <td>1</td>\n",
       "      <td>0</td>\n",
       "      <td>1</td>\n",
       "      <td>0</td>\n",
       "      <td>0</td>\n",
       "      <td>0</td>\n",
       "      <td>0</td>\n",
       "    </tr>\n",
       "    <tr>\n",
       "      <th>1</th>\n",
       "      <td>2</td>\n",
       "      <td>42.154</td>\n",
       "      <td>1.62</td>\n",
       "      <td>2259</td>\n",
       "      <td>1.0</td>\n",
       "      <td>1</td>\n",
       "      <td>0</td>\n",
       "      <td>0</td>\n",
       "      <td>0</td>\n",
       "      <td>1</td>\n",
       "      <td>0</td>\n",
       "      <td>0</td>\n",
       "    </tr>\n",
       "    <tr>\n",
       "      <th>2</th>\n",
       "      <td>2</td>\n",
       "      <td>0.550</td>\n",
       "      <td>1.62</td>\n",
       "      <td>2259</td>\n",
       "      <td>1.0</td>\n",
       "      <td>1</td>\n",
       "      <td>0</td>\n",
       "      <td>1</td>\n",
       "      <td>0</td>\n",
       "      <td>0</td>\n",
       "      <td>0</td>\n",
       "      <td>0</td>\n",
       "    </tr>\n",
       "    <tr>\n",
       "      <th>3</th>\n",
       "      <td>3</td>\n",
       "      <td>29.200</td>\n",
       "      <td>1.00</td>\n",
       "      <td>2263</td>\n",
       "      <td>1.0</td>\n",
       "      <td>1</td>\n",
       "      <td>0</td>\n",
       "      <td>0</td>\n",
       "      <td>0</td>\n",
       "      <td>1</td>\n",
       "      <td>0</td>\n",
       "      <td>0</td>\n",
       "    </tr>\n",
       "    <tr>\n",
       "      <th>4</th>\n",
       "      <td>3</td>\n",
       "      <td>0.524</td>\n",
       "      <td>1.00</td>\n",
       "      <td>2263</td>\n",
       "      <td>1.0</td>\n",
       "      <td>1</td>\n",
       "      <td>0</td>\n",
       "      <td>1</td>\n",
       "      <td>0</td>\n",
       "      <td>0</td>\n",
       "      <td>0</td>\n",
       "      <td>0</td>\n",
       "    </tr>\n",
       "  </tbody>\n",
       "</table>\n",
       "</div>"
      ],
      "text/plain": [
       "   customerid     sum  capacity  postcode  billsaved  KWH  OGG  OGR  PGG  PGR  \\\n",
       "0           1   2.060      3.78      2076        1.0    1    0    1    0    0   \n",
       "1           2  42.154      1.62      2259        1.0    1    0    0    0    1   \n",
       "2           2   0.550      1.62      2259        1.0    1    0    1    0    0   \n",
       "3           3  29.200      1.00      2263        1.0    1    0    0    0    1   \n",
       "4           3   0.524      1.00      2263        1.0    1    0    1    0    0   \n",
       "\n",
       "   SGG  SGR  \n",
       "0    0    0  \n",
       "1    0    0  \n",
       "2    0    0  \n",
       "3    0    0  \n",
       "4    0    0  "
      ]
     },
     "execution_count": 20,
     "metadata": {},
     "output_type": "execute_result"
    }
   ],
   "source": [
    "data.head()"
   ]
  },
  {
   "cell_type": "code",
   "execution_count": 21,
   "metadata": {},
   "outputs": [],
   "source": [
    "data.drop(['customerid'],axis=1,inplace=True)"
   ]
  },
  {
   "cell_type": "code",
   "execution_count": 22,
   "metadata": {},
   "outputs": [],
   "source": [
    "data.drop(['postcode'],axis=1,inplace=True)"
   ]
  },
  {
   "cell_type": "code",
   "execution_count": 23,
   "metadata": {},
   "outputs": [
    {
     "data": {
      "text/html": [
       "<div>\n",
       "<style scoped>\n",
       "    .dataframe tbody tr th:only-of-type {\n",
       "        vertical-align: middle;\n",
       "    }\n",
       "\n",
       "    .dataframe tbody tr th {\n",
       "        vertical-align: top;\n",
       "    }\n",
       "\n",
       "    .dataframe thead th {\n",
       "        text-align: right;\n",
       "    }\n",
       "</style>\n",
       "<table border=\"1\" class=\"dataframe\">\n",
       "  <thead>\n",
       "    <tr style=\"text-align: right;\">\n",
       "      <th></th>\n",
       "      <th>sum</th>\n",
       "      <th>capacity</th>\n",
       "      <th>billsaved</th>\n",
       "      <th>KWH</th>\n",
       "      <th>OGG</th>\n",
       "      <th>OGR</th>\n",
       "      <th>PGG</th>\n",
       "      <th>PGR</th>\n",
       "      <th>SGG</th>\n",
       "      <th>SGR</th>\n",
       "    </tr>\n",
       "  </thead>\n",
       "  <tbody>\n",
       "    <tr>\n",
       "      <th>0</th>\n",
       "      <td>2.060</td>\n",
       "      <td>3.78</td>\n",
       "      <td>1.0</td>\n",
       "      <td>1</td>\n",
       "      <td>0</td>\n",
       "      <td>1</td>\n",
       "      <td>0</td>\n",
       "      <td>0</td>\n",
       "      <td>0</td>\n",
       "      <td>0</td>\n",
       "    </tr>\n",
       "    <tr>\n",
       "      <th>1</th>\n",
       "      <td>42.154</td>\n",
       "      <td>1.62</td>\n",
       "      <td>1.0</td>\n",
       "      <td>1</td>\n",
       "      <td>0</td>\n",
       "      <td>0</td>\n",
       "      <td>0</td>\n",
       "      <td>1</td>\n",
       "      <td>0</td>\n",
       "      <td>0</td>\n",
       "    </tr>\n",
       "    <tr>\n",
       "      <th>2</th>\n",
       "      <td>0.550</td>\n",
       "      <td>1.62</td>\n",
       "      <td>1.0</td>\n",
       "      <td>1</td>\n",
       "      <td>0</td>\n",
       "      <td>1</td>\n",
       "      <td>0</td>\n",
       "      <td>0</td>\n",
       "      <td>0</td>\n",
       "      <td>0</td>\n",
       "    </tr>\n",
       "    <tr>\n",
       "      <th>3</th>\n",
       "      <td>29.200</td>\n",
       "      <td>1.00</td>\n",
       "      <td>1.0</td>\n",
       "      <td>1</td>\n",
       "      <td>0</td>\n",
       "      <td>0</td>\n",
       "      <td>0</td>\n",
       "      <td>1</td>\n",
       "      <td>0</td>\n",
       "      <td>0</td>\n",
       "    </tr>\n",
       "    <tr>\n",
       "      <th>4</th>\n",
       "      <td>0.524</td>\n",
       "      <td>1.00</td>\n",
       "      <td>1.0</td>\n",
       "      <td>1</td>\n",
       "      <td>0</td>\n",
       "      <td>1</td>\n",
       "      <td>0</td>\n",
       "      <td>0</td>\n",
       "      <td>0</td>\n",
       "      <td>0</td>\n",
       "    </tr>\n",
       "  </tbody>\n",
       "</table>\n",
       "</div>"
      ],
      "text/plain": [
       "      sum  capacity  billsaved  KWH  OGG  OGR  PGG  PGR  SGG  SGR\n",
       "0   2.060      3.78        1.0    1    0    1    0    0    0    0\n",
       "1  42.154      1.62        1.0    1    0    0    0    1    0    0\n",
       "2   0.550      1.62        1.0    1    0    1    0    0    0    0\n",
       "3  29.200      1.00        1.0    1    0    0    0    1    0    0\n",
       "4   0.524      1.00        1.0    1    0    1    0    0    0    0"
      ]
     },
     "execution_count": 23,
     "metadata": {},
     "output_type": "execute_result"
    }
   ],
   "source": [
    "data.head()"
   ]
  },
  {
   "cell_type": "code",
   "execution_count": 24,
   "metadata": {},
   "outputs": [
    {
     "name": "stdout",
     "output_type": "stream",
     "text": [
      "<class 'pandas.core.frame.DataFrame'>\n",
      "RangeIndex: 416054 entries, 0 to 416053\n",
      "Data columns (total 10 columns):\n",
      "sum          416054 non-null float64\n",
      "capacity     416054 non-null float64\n",
      "billsaved    416053 non-null float64\n",
      "KWH          416054 non-null uint8\n",
      "OGG          416054 non-null uint8\n",
      "OGR          416054 non-null uint8\n",
      "PGG          416054 non-null uint8\n",
      "PGR          416054 non-null uint8\n",
      "SGG          416054 non-null uint8\n",
      "SGR          416054 non-null uint8\n",
      "dtypes: float64(3), uint8(7)\n",
      "memory usage: 12.3 MB\n"
     ]
    }
   ],
   "source": [
    "data.info()"
   ]
  },
  {
   "cell_type": "code",
   "execution_count": 25,
   "metadata": {},
   "outputs": [],
   "source": [
    "data = data.fillna(method='ffill')"
   ]
  },
  {
   "cell_type": "code",
   "execution_count": 26,
   "metadata": {},
   "outputs": [
    {
     "data": {
      "text/html": [
       "<div>\n",
       "<style scoped>\n",
       "    .dataframe tbody tr th:only-of-type {\n",
       "        vertical-align: middle;\n",
       "    }\n",
       "\n",
       "    .dataframe tbody tr th {\n",
       "        vertical-align: top;\n",
       "    }\n",
       "\n",
       "    .dataframe thead th {\n",
       "        text-align: right;\n",
       "    }\n",
       "</style>\n",
       "<table border=\"1\" class=\"dataframe\">\n",
       "  <thead>\n",
       "    <tr style=\"text-align: right;\">\n",
       "      <th></th>\n",
       "      <th>sum</th>\n",
       "      <th>capacity</th>\n",
       "      <th>billsaved</th>\n",
       "      <th>KWH</th>\n",
       "      <th>OGG</th>\n",
       "      <th>OGR</th>\n",
       "      <th>PGG</th>\n",
       "      <th>PGR</th>\n",
       "      <th>SGG</th>\n",
       "      <th>SGR</th>\n",
       "    </tr>\n",
       "  </thead>\n",
       "  <tbody>\n",
       "    <tr>\n",
       "      <th>0</th>\n",
       "      <td>2.060</td>\n",
       "      <td>3.78</td>\n",
       "      <td>1.0</td>\n",
       "      <td>1</td>\n",
       "      <td>0</td>\n",
       "      <td>1</td>\n",
       "      <td>0</td>\n",
       "      <td>0</td>\n",
       "      <td>0</td>\n",
       "      <td>0</td>\n",
       "    </tr>\n",
       "    <tr>\n",
       "      <th>1</th>\n",
       "      <td>42.154</td>\n",
       "      <td>1.62</td>\n",
       "      <td>1.0</td>\n",
       "      <td>1</td>\n",
       "      <td>0</td>\n",
       "      <td>0</td>\n",
       "      <td>0</td>\n",
       "      <td>1</td>\n",
       "      <td>0</td>\n",
       "      <td>0</td>\n",
       "    </tr>\n",
       "    <tr>\n",
       "      <th>2</th>\n",
       "      <td>0.550</td>\n",
       "      <td>1.62</td>\n",
       "      <td>1.0</td>\n",
       "      <td>1</td>\n",
       "      <td>0</td>\n",
       "      <td>1</td>\n",
       "      <td>0</td>\n",
       "      <td>0</td>\n",
       "      <td>0</td>\n",
       "      <td>0</td>\n",
       "    </tr>\n",
       "    <tr>\n",
       "      <th>3</th>\n",
       "      <td>29.200</td>\n",
       "      <td>1.00</td>\n",
       "      <td>1.0</td>\n",
       "      <td>1</td>\n",
       "      <td>0</td>\n",
       "      <td>0</td>\n",
       "      <td>0</td>\n",
       "      <td>1</td>\n",
       "      <td>0</td>\n",
       "      <td>0</td>\n",
       "    </tr>\n",
       "    <tr>\n",
       "      <th>4</th>\n",
       "      <td>0.524</td>\n",
       "      <td>1.00</td>\n",
       "      <td>1.0</td>\n",
       "      <td>1</td>\n",
       "      <td>0</td>\n",
       "      <td>1</td>\n",
       "      <td>0</td>\n",
       "      <td>0</td>\n",
       "      <td>0</td>\n",
       "      <td>0</td>\n",
       "    </tr>\n",
       "  </tbody>\n",
       "</table>\n",
       "</div>"
      ],
      "text/plain": [
       "      sum  capacity  billsaved  KWH  OGG  OGR  PGG  PGR  SGG  SGR\n",
       "0   2.060      3.78        1.0    1    0    1    0    0    0    0\n",
       "1  42.154      1.62        1.0    1    0    0    0    1    0    0\n",
       "2   0.550      1.62        1.0    1    0    1    0    0    0    0\n",
       "3  29.200      1.00        1.0    1    0    0    0    1    0    0\n",
       "4   0.524      1.00        1.0    1    0    1    0    0    0    0"
      ]
     },
     "execution_count": 26,
     "metadata": {},
     "output_type": "execute_result"
    }
   ],
   "source": [
    "# this is the final structure of the data file which we use for the making the logistic regression model\n",
    "data.head()"
   ]
  },
  {
   "cell_type": "markdown",
   "metadata": {},
   "source": [
    "# Train Test Split"
   ]
  },
  {
   "cell_type": "code",
   "execution_count": 27,
   "metadata": {},
   "outputs": [],
   "source": [
    "from sklearn.model_selection import train_test_split"
   ]
  },
  {
   "cell_type": "code",
   "execution_count": 28,
   "metadata": {},
   "outputs": [],
   "source": [
    "x=data[['sum','capacity','KWH','OGG','OGR','PGG','PGR','SGG','SGR']]\n",
    "y=data['billsaved']"
   ]
  },
  {
   "cell_type": "code",
   "execution_count": 29,
   "metadata": {},
   "outputs": [],
   "source": [
    "x_train, x_test, y_train, y_test = train_test_split(x,y, test_size=0.30, random_state=51)"
   ]
  },
  {
   "cell_type": "code",
   "execution_count": 30,
   "metadata": {},
   "outputs": [],
   "source": [
    "from sklearn.linear_model import LogisticRegression"
   ]
  },
  {
   "cell_type": "markdown",
   "metadata": {},
   "source": [
    "# Training and Predicting"
   ]
  },
  {
   "cell_type": "code",
   "execution_count": 31,
   "metadata": {},
   "outputs": [],
   "source": [
    "from sklearn.linear_model import LogisticRegression"
   ]
  },
  {
   "cell_type": "code",
   "execution_count": 32,
   "metadata": {},
   "outputs": [
    {
     "data": {
      "text/plain": [
       "LogisticRegression(C=1.0, class_weight=None, dual=False, fit_intercept=True,\n",
       "          intercept_scaling=1, max_iter=100, multi_class='ovr', n_jobs=1,\n",
       "          penalty='l2', random_state=None, solver='liblinear', tol=0.0001,\n",
       "          verbose=0, warm_start=False)"
      ]
     },
     "execution_count": 32,
     "metadata": {},
     "output_type": "execute_result"
    }
   ],
   "source": [
    "logmodel = LogisticRegression()\n",
    "logmodel.fit(x_train,y_train)"
   ]
  },
  {
   "cell_type": "code",
   "execution_count": null,
   "metadata": {},
   "outputs": [],
   "source": [
    "\n"
   ]
  },
  {
   "cell_type": "markdown",
   "metadata": {},
   "source": [
    "\n",
    "\n",
    "# Evaluation"
   ]
  },
  {
   "cell_type": "code",
   "execution_count": 33,
   "metadata": {},
   "outputs": [],
   "source": [
    "predictions = logmodel.predict(x_test)"
   ]
  },
  {
   "cell_type": "code",
   "execution_count": 34,
   "metadata": {},
   "outputs": [],
   "source": [
    "from sklearn.metrics import classification_report"
   ]
  },
  {
   "cell_type": "code",
   "execution_count": 35,
   "metadata": {},
   "outputs": [
    {
     "name": "stdout",
     "output_type": "stream",
     "text": [
      "             precision    recall  f1-score   support\n",
      "\n",
      "        0.0       1.00      1.00      1.00     34593\n",
      "        1.0       1.00      1.00      1.00     90224\n",
      "\n",
      "avg / total       1.00      1.00      1.00    124817\n",
      "\n"
     ]
    }
   ],
   "source": [
    "print(classification_report(y_test,predictions))"
   ]
  },
  {
   "cell_type": "code",
   "execution_count": 36,
   "metadata": {},
   "outputs": [],
   "source": [
    "from sklearn.metrics import confusion_matrix"
   ]
  },
  {
   "cell_type": "code",
   "execution_count": 37,
   "metadata": {},
   "outputs": [
    {
     "data": {
      "text/plain": [
       "array([[34580,    13],\n",
       "       [   42, 90182]], dtype=int64)"
      ]
     },
     "execution_count": 37,
     "metadata": {},
     "output_type": "execute_result"
    }
   ],
   "source": [
    "confusion_matrix(y_test,predictions)"
   ]
  },
  {
   "cell_type": "code",
   "execution_count": 38,
   "metadata": {},
   "outputs": [
    {
     "data": {
      "text/plain": [
       "99.96"
      ]
     },
     "execution_count": 38,
     "metadata": {},
     "output_type": "execute_result"
    }
   ],
   "source": [
    "acc_log = round(logmodel.score(x_train, y_train) * 100, 2)\n",
    "acc_log"
   ]
  },
  {
   "cell_type": "code",
   "execution_count": 39,
   "metadata": {},
   "outputs": [
    {
     "data": {
      "text/plain": [
       "99.96"
      ]
     },
     "execution_count": 39,
     "metadata": {},
     "output_type": "execute_result"
    }
   ],
   "source": [
    "acc_log = round(logmodel.score(x_test, y_test) * 100, 2)\n",
    "acc_log"
   ]
  },
  {
   "cell_type": "markdown",
   "metadata": {
    "collapsed": true
   },
   "source": [
    "# Decision tree¶"
   ]
  },
  {
   "cell_type": "code",
   "execution_count": 40,
   "metadata": {},
   "outputs": [
    {
     "name": "stdout",
     "output_type": "stream",
     "text": [
      "             precision    recall  f1-score   support\n",
      "\n",
      "        0.0       1.00      1.00      1.00     34593\n",
      "        1.0       1.00      1.00      1.00     90224\n",
      "\n",
      "avg / total       1.00      1.00      1.00    124817\n",
      "\n"
     ]
    }
   ],
   "source": [
    "# using the same data tree based algorithm is given bellow\n",
    "from sklearn.tree import DecisionTreeClassifier\n",
    "\n",
    "# Let's fit a model\n",
    "tree = DecisionTreeClassifier(max_depth=100)\n",
    "_ = tree.fit(x_train, y_train)\n",
    "\n",
    "# Evaluate\n",
    "#print('Classification report ({}):\\n'.format(key))\n",
    "print(classification_report(y_test, tree.predict(x_test)))"
   ]
  },
  {
   "cell_type": "code",
   "execution_count": null,
   "metadata": {},
   "outputs": [],
   "source": []
  },
  {
   "cell_type": "code",
   "execution_count": 41,
   "metadata": {},
   "outputs": [],
   "source": [
    "from scipy.stats import chi2\n",
    "\n",
    "def mcnemar(x, y):\n",
    "    n1 = np.sum(x < y)\n",
    "    n2 = np.sum(x > y)\n",
    "    stat = (np.abs(n1-n2)-1)**2 / (n1+n2)\n",
    "    df = 1\n",
    "    pval = chi2.sf(stat,1)\n",
    "    return stat, pval"
   ]
  },
  {
   "cell_type": "code",
   "execution_count": 42,
   "metadata": {},
   "outputs": [
    {
     "name": "stderr",
     "output_type": "stream",
     "text": [
      "C:\\Users\\golam\\Anaconda3\\lib\\site-packages\\sklearn\\cross_validation.py:41: DeprecationWarning: This module was deprecated in version 0.18 in favor of the model_selection module into which all the refactored classes and functions are moved. Also note that the interface of the new CV iterators are different from that of this module. This module will be removed in 0.20.\n",
      "  \"This module will be removed in 0.20.\", DeprecationWarning)\n",
      "C:\\Users\\golam\\Anaconda3\\lib\\site-packages\\sklearn\\grid_search.py:42: DeprecationWarning: This module was deprecated in version 0.18 in favor of the model_selection module into which all the refactored classes and functions are moved. This module will be removed in 0.20.\n",
      "  DeprecationWarning)\n"
     ]
    },
    {
     "name": "stdout",
     "output_type": "stream",
     "text": [
      "Grid search mean and stdev:\n",
      "\n",
      "1.000 (+/-0.000) for {'criterion': 'entropy', 'max_depth': 2, 'splitter': 'best'}\n",
      "0.917 (+/-0.012) for {'criterion': 'entropy', 'max_depth': 2, 'splitter': 'random'}\n",
      "1.000 (+/-0.000) for {'criterion': 'entropy', 'max_depth': 3, 'splitter': 'best'}\n",
      "0.920 (+/-0.023) for {'criterion': 'entropy', 'max_depth': 3, 'splitter': 'random'}\n",
      "1.000 (+/-0.000) for {'criterion': 'entropy', 'max_depth': 4, 'splitter': 'best'}\n",
      "0.936 (+/-0.019) for {'criterion': 'entropy', 'max_depth': 4, 'splitter': 'random'}\n",
      "1.000 (+/-0.000) for {'criterion': 'entropy', 'max_depth': 5, 'splitter': 'best'}\n",
      "0.958 (+/-0.016) for {'criterion': 'entropy', 'max_depth': 5, 'splitter': 'random'}\n",
      "1.000 (+/-0.000) for {'criterion': 'entropy', 'max_depth': 6, 'splitter': 'best'}\n",
      "0.941 (+/-0.009) for {'criterion': 'entropy', 'max_depth': 6, 'splitter': 'random'}\n",
      "1.000 (+/-0.000) for {'criterion': 'gini', 'max_depth': 2, 'splitter': 'best'}\n",
      "0.912 (+/-0.002) for {'criterion': 'gini', 'max_depth': 2, 'splitter': 'random'}\n",
      "1.000 (+/-0.000) for {'criterion': 'gini', 'max_depth': 3, 'splitter': 'best'}\n",
      "0.919 (+/-0.007) for {'criterion': 'gini', 'max_depth': 3, 'splitter': 'random'}\n",
      "1.000 (+/-0.000) for {'criterion': 'gini', 'max_depth': 4, 'splitter': 'best'}\n",
      "0.943 (+/-0.026) for {'criterion': 'gini', 'max_depth': 4, 'splitter': 'random'}\n",
      "1.000 (+/-0.000) for {'criterion': 'gini', 'max_depth': 5, 'splitter': 'best'}\n",
      "0.937 (+/-0.024) for {'criterion': 'gini', 'max_depth': 5, 'splitter': 'random'}\n",
      "1.000 (+/-0.000) for {'criterion': 'gini', 'max_depth': 6, 'splitter': 'best'}\n",
      "0.943 (+/-0.006) for {'criterion': 'gini', 'max_depth': 6, 'splitter': 'random'}\n",
      "\n",
      "Best parameters: {'criterion': 'entropy', 'max_depth': 2, 'splitter': 'best'}\n",
      "             precision    recall  f1-score   support\n",
      "\n",
      "        0.0       1.00      1.00      1.00     34593\n",
      "        1.0       1.00      1.00      1.00     90224\n",
      "\n",
      "avg / total       1.00      1.00      1.00    124817\n",
      "\n"
     ]
    }
   ],
   "source": [
    "from sklearn.grid_search import GridSearchCV\n",
    "\n",
    "# Perform grid search\n",
    "param_grid = [\n",
    "    {'max_depth': [2, 3, 4, 5, 6],\n",
    "     'criterion': ['entropy', 'gini'],\n",
    "     'splitter': ['best', 'random']}\n",
    "]\n",
    "tree = GridSearchCV(DecisionTreeClassifier(), param_grid)\n",
    "tree.fit(x_train, y_train)\n",
    "\n",
    "# Print grid search results\n",
    "print('Grid search mean and stdev:\\n')\n",
    "for params, mean_score, scores in tree.grid_scores_:\n",
    "    print(\"{:0.3f} (+/-{:0.03f}) for {}\".format(\n",
    "            mean_score, scores.std() * 2, params))\n",
    "\n",
    "# Print best params\n",
    "print('\\nBest parameters:', tree.best_params_)\n",
    "\n",
    "# Evaluate on held-out test\n",
    "#print('\\nClassification report ({}):\\n'.format(key))\n",
    "print(classification_report(y_test, tree.predict(x_test)))"
   ]
  },
  {
   "cell_type": "markdown",
   "metadata": {},
   "source": [
    "# Support Vector Machines"
   ]
  },
  {
   "cell_type": "code",
   "execution_count": 52,
   "metadata": {},
   "outputs": [
    {
     "data": {
      "text/plain": [
       "99.99"
      ]
     },
     "execution_count": 52,
     "metadata": {},
     "output_type": "execute_result"
    }
   ],
   "source": [
    "# Support Vector Machines\n",
    "\n",
    "svc = SVC()\n",
    "svc.fit(x_train, y_train)\n",
    "Y_pred = svc.predict(x_test)\n",
    "acc_svc = round(svc.score(x_train, y_train) * 100, 2)\n",
    "acc_svc"
   ]
  },
  {
   "cell_type": "markdown",
   "metadata": {},
   "source": [
    "# KNN"
   ]
  },
  {
   "cell_type": "code",
   "execution_count": 54,
   "metadata": {},
   "outputs": [
    {
     "data": {
      "text/plain": [
       "100.0"
      ]
     },
     "execution_count": 54,
     "metadata": {},
     "output_type": "execute_result"
    }
   ],
   "source": [
    "knn = KNeighborsClassifier(n_neighbors = 3)\n",
    "knn.fit(x_train, y_train)\n",
    "Y_pred = knn.predict(x_test)\n",
    "acc_knn = round(knn.score(x_train, y_train) * 100, 2)\n",
    "acc_knn"
   ]
  },
  {
   "cell_type": "markdown",
   "metadata": {},
   "source": [
    "# Gaussian Naive Bayes"
   ]
  },
  {
   "cell_type": "code",
   "execution_count": 56,
   "metadata": {},
   "outputs": [
    {
     "data": {
      "text/plain": [
       "91.94"
      ]
     },
     "execution_count": 56,
     "metadata": {},
     "output_type": "execute_result"
    }
   ],
   "source": [
    "# Gaussian Naive Bayes\n",
    "\n",
    "gaussian = GaussianNB()\n",
    "gaussian.fit(x_train, y_train)\n",
    "Y_pred = gaussian.predict(x_test)\n",
    "acc_gaussian = round(gaussian.score(x_train, y_train) * 100, 2)\n",
    "acc_gaussian"
   ]
  },
  {
   "cell_type": "markdown",
   "metadata": {},
   "source": [
    "# Perceptron\n"
   ]
  },
  {
   "cell_type": "code",
   "execution_count": 58,
   "metadata": {},
   "outputs": [
    {
     "name": "stderr",
     "output_type": "stream",
     "text": [
      "C:\\Users\\golam\\Anaconda3\\lib\\site-packages\\sklearn\\linear_model\\stochastic_gradient.py:128: FutureWarning: max_iter and tol parameters have been added in <class 'sklearn.linear_model.perceptron.Perceptron'> in 0.19. If both are left unset, they default to max_iter=5 and tol=None. If tol is not None, max_iter defaults to max_iter=1000. From 0.21, default max_iter will be 1000, and default tol will be 1e-3.\n",
      "  \"and default tol will be 1e-3.\" % type(self), FutureWarning)\n"
     ]
    },
    {
     "data": {
      "text/plain": [
       "98.83"
      ]
     },
     "execution_count": 58,
     "metadata": {},
     "output_type": "execute_result"
    }
   ],
   "source": [
    "# Perceptron\n",
    "\n",
    "perceptron = Perceptron()\n",
    "perceptron.fit(x_train, y_train)\n",
    "Y_pred = perceptron.predict(x_test)\n",
    "acc_perceptron = round(perceptron.score(x_train, y_train) * 100, 2)\n",
    "acc_perceptron"
   ]
  },
  {
   "cell_type": "markdown",
   "metadata": {},
   "source": [
    "# Linear SVC"
   ]
  },
  {
   "cell_type": "code",
   "execution_count": 60,
   "metadata": {},
   "outputs": [
    {
     "data": {
      "text/plain": [
       "99.73"
      ]
     },
     "execution_count": 60,
     "metadata": {},
     "output_type": "execute_result"
    }
   ],
   "source": [
    "# Linear SVC\n",
    "\n",
    "linear_svc = LinearSVC()\n",
    "linear_svc.fit(x_train, y_train)\n",
    "Y_pred = linear_svc.predict(x_test)\n",
    "acc_linear_svc = round(linear_svc.score(x_train, y_train) * 100, 2)\n",
    "acc_linear_svc"
   ]
  },
  {
   "cell_type": "markdown",
   "metadata": {},
   "source": [
    "# Stochastic Gradient Descent"
   ]
  },
  {
   "cell_type": "code",
   "execution_count": 61,
   "metadata": {},
   "outputs": [
    {
     "name": "stderr",
     "output_type": "stream",
     "text": [
      "C:\\Users\\golam\\Anaconda3\\lib\\site-packages\\sklearn\\linear_model\\stochastic_gradient.py:128: FutureWarning: max_iter and tol parameters have been added in <class 'sklearn.linear_model.stochastic_gradient.SGDClassifier'> in 0.19. If both are left unset, they default to max_iter=5 and tol=None. If tol is not None, max_iter defaults to max_iter=1000. From 0.21, default max_iter will be 1000, and default tol will be 1e-3.\n",
      "  \"and default tol will be 1e-3.\" % type(self), FutureWarning)\n"
     ]
    },
    {
     "data": {
      "text/plain": [
       "99.79"
      ]
     },
     "execution_count": 61,
     "metadata": {},
     "output_type": "execute_result"
    }
   ],
   "source": [
    "# Stochastic Gradient Descent\n",
    "\n",
    "sgd = SGDClassifier()\n",
    "sgd.fit(x_train, y_train)\n",
    "Y_pred = sgd.predict(x_test)\n",
    "acc_sgd = round(sgd.score(x_train, y_train) * 100, 2)\n",
    "acc_sgd"
   ]
  },
  {
   "cell_type": "markdown",
   "metadata": {},
   "source": [
    "# Decision Tree"
   ]
  },
  {
   "cell_type": "code",
   "execution_count": 62,
   "metadata": {},
   "outputs": [
    {
     "data": {
      "text/plain": [
       "100.0"
      ]
     },
     "execution_count": 62,
     "metadata": {},
     "output_type": "execute_result"
    }
   ],
   "source": [
    "# Decision Tree\n",
    "\n",
    "decision_tree = DecisionTreeClassifier()\n",
    "decision_tree.fit(x_train, y_train)\n",
    "Y_pred = decision_tree.predict(x_test)\n",
    "acc_decision_tree = round(decision_tree.score(x_train, y_train) * 100, 2)\n",
    "acc_decision_tree"
   ]
  },
  {
   "cell_type": "markdown",
   "metadata": {},
   "source": [
    "# Random Forest"
   ]
  },
  {
   "cell_type": "code",
   "execution_count": 63,
   "metadata": {},
   "outputs": [
    {
     "data": {
      "text/plain": [
       "100.0"
      ]
     },
     "execution_count": 63,
     "metadata": {},
     "output_type": "execute_result"
    }
   ],
   "source": [
    "# Random Forest\n",
    "\n",
    "random_forest = RandomForestClassifier(n_estimators=100)\n",
    "random_forest.fit(x_train, y_train)\n",
    "Y_pred = random_forest.predict(x_test)\n",
    "random_forest.score(x_train, y_train)\n",
    "acc_random_forest = round(random_forest.score(x_train, y_train) * 100, 2)\n",
    "acc_random_forest"
   ]
  },
  {
   "cell_type": "markdown",
   "metadata": {},
   "source": [
    "# Model evaluation"
   ]
  },
  {
   "cell_type": "markdown",
   "metadata": {},
   "source": [
    "#### we can now rank our evaluation of all the models to choose the best one for our problem. While both Decision Tree and Random Forest score very close, we choose to use Random Forest as they correct for decision trees' habit of overfitting to their training set."
   ]
  },
  {
   "cell_type": "code",
   "execution_count": 64,
   "metadata": {},
   "outputs": [
    {
     "data": {
      "text/html": [
       "<div>\n",
       "<style scoped>\n",
       "    .dataframe tbody tr th:only-of-type {\n",
       "        vertical-align: middle;\n",
       "    }\n",
       "\n",
       "    .dataframe tbody tr th {\n",
       "        vertical-align: top;\n",
       "    }\n",
       "\n",
       "    .dataframe thead th {\n",
       "        text-align: right;\n",
       "    }\n",
       "</style>\n",
       "<table border=\"1\" class=\"dataframe\">\n",
       "  <thead>\n",
       "    <tr style=\"text-align: right;\">\n",
       "      <th></th>\n",
       "      <th>Model</th>\n",
       "      <th>Score</th>\n",
       "    </tr>\n",
       "  </thead>\n",
       "  <tbody>\n",
       "    <tr>\n",
       "      <th>1</th>\n",
       "      <td>KNN</td>\n",
       "      <td>100.00</td>\n",
       "    </tr>\n",
       "    <tr>\n",
       "      <th>3</th>\n",
       "      <td>Random Forest</td>\n",
       "      <td>100.00</td>\n",
       "    </tr>\n",
       "    <tr>\n",
       "      <th>8</th>\n",
       "      <td>Decision Tree</td>\n",
       "      <td>100.00</td>\n",
       "    </tr>\n",
       "    <tr>\n",
       "      <th>0</th>\n",
       "      <td>Support Vector Machines</td>\n",
       "      <td>99.99</td>\n",
       "    </tr>\n",
       "    <tr>\n",
       "      <th>2</th>\n",
       "      <td>Logistic Regression</td>\n",
       "      <td>99.96</td>\n",
       "    </tr>\n",
       "    <tr>\n",
       "      <th>6</th>\n",
       "      <td>Stochastic Gradient Decent</td>\n",
       "      <td>99.79</td>\n",
       "    </tr>\n",
       "    <tr>\n",
       "      <th>7</th>\n",
       "      <td>Linear SVC</td>\n",
       "      <td>99.73</td>\n",
       "    </tr>\n",
       "    <tr>\n",
       "      <th>5</th>\n",
       "      <td>Perceptron</td>\n",
       "      <td>98.83</td>\n",
       "    </tr>\n",
       "    <tr>\n",
       "      <th>4</th>\n",
       "      <td>Naive Bayes</td>\n",
       "      <td>91.94</td>\n",
       "    </tr>\n",
       "  </tbody>\n",
       "</table>\n",
       "</div>"
      ],
      "text/plain": [
       "                        Model   Score\n",
       "1                         KNN  100.00\n",
       "3               Random Forest  100.00\n",
       "8               Decision Tree  100.00\n",
       "0     Support Vector Machines   99.99\n",
       "2         Logistic Regression   99.96\n",
       "6  Stochastic Gradient Decent   99.79\n",
       "7                  Linear SVC   99.73\n",
       "5                  Perceptron   98.83\n",
       "4                 Naive Bayes   91.94"
      ]
     },
     "execution_count": 64,
     "metadata": {},
     "output_type": "execute_result"
    }
   ],
   "source": [
    "models = pd.DataFrame({\n",
    "    'Model': ['Support Vector Machines', 'KNN', 'Logistic Regression', \n",
    "              'Random Forest', 'Naive Bayes', 'Perceptron', \n",
    "              'Stochastic Gradient Decent', 'Linear SVC', \n",
    "              'Decision Tree'],\n",
    "    'Score': [acc_svc, acc_knn, acc_log, \n",
    "              acc_random_forest, acc_gaussian, acc_perceptron, \n",
    "              acc_sgd, acc_linear_svc, acc_decision_tree]})\n",
    "models.sort_values(by='Score', ascending=False)"
   ]
  },
  {
   "cell_type": "markdown",
   "metadata": {},
   "source": [
    "# Hypotheses Testing"
   ]
  },
  {
   "cell_type": "markdown",
   "metadata": {},
   "source": [
    "### comparing Billing data from solar and non solar customers."
   ]
  },
  {
   "cell_type": "markdown",
   "metadata": {},
   "source": [
    "#### Experimental setup"
   ]
  },
  {
   "cell_type": "markdown",
   "metadata": {},
   "source": [
    "problem: find out whether solar or non solar is better? question: do they save from solar pannel null hypothesis: they saving bill from solar pannel."
   ]
  },
  {
   "cell_type": "code",
   "execution_count": 43,
   "metadata": {},
   "outputs": [
    {
     "name": "stdout",
     "output_type": "stream",
     "text": [
      "solar median: 13.5085\n",
      "nonsolar median: 44.084500000000006\n",
      "solar standarddaviation : 30.9548782638472\n",
      "nonsolar standarddaviation : 19.157821360989878\n",
      "solar avarage : 27.80548\n",
      "nonsolar avg : 47.507020000000004\n"
     ]
    }
   ],
   "source": [
    "solar_data = [2.06,42.154,0.55,29.2,0.524,39.584,0.17,92.552,62.503,0.251,67.675,0.673,2.414,23.176,0.198,76.53,32.331,60.745,0.688\n",
    ",41.573,0.547,91.609,0.66,0.063,44.971,1.535,50.639,78.35,0.63,0.573,0.709,53.66,49.095,0.045,42.231,53.266,0.415,4.325,\n",
    "86.707,0.113,41.653,0.156,56.456,0.475,36.105,0.351,22.692,0.538,95.594,0.56]\n",
    "\n",
    "nonsolar_data = [30,46.363,65.379,57.812,63.59,30,54.864,56.838,23.84,88.18,30,77.917,37.822,33.239,47.444,31,64.342,57.816,\n",
    "28.523,77.31,31,47.088,36.597,92.756,66.459,31,83.28,45.1,74.08,34.71,31,88.531,47.93,49.401,39.392,31,35.137,26.535,57.425,\n",
    "43.069,31,26.049,47.652,27.435,58.89,31,42.401,22.989,26.378,67.788]\n",
    "\n",
    "print('solar median:', np.median(solar_data))\n",
    "print('nonsolar median:', np.median(nonsolar_data))\n",
    "print('solar standarddaviation :', np.std(solar_data))\n",
    "print('nonsolar standarddaviation :', np.std(nonsolar_data))\n",
    "print('solar avarage :', np.average(solar_data))\n",
    "print('nonsolar avg :', np.average(nonsolar_data))"
   ]
  },
  {
   "cell_type": "markdown",
   "metadata": {},
   "source": [
    "### Can we reject the null hypothesis at p<0.05 using the Mann-Whitney U test?"
   ]
  },
  {
   "cell_type": "markdown",
   "metadata": {},
   "source": [
    "#### Do customer saving from solar pannel?"
   ]
  },
  {
   "cell_type": "code",
   "execution_count": 44,
   "metadata": {},
   "outputs": [
    {
     "name": "stdout",
     "output_type": "stream",
     "text": [
      "Can we reject H0? No\n",
      "Is there a reliable difference? No (p=0.000272)\n"
     ]
    }
   ],
   "source": [
    "from scipy import stats\n",
    "\n",
    "mwu_result = stats.mannwhitneyu(solar_data, nonsolar_data)\n",
    "print('Can we reject H0?', 'Yes' if mwu_result.pvalue>0.05 else 'No')\n",
    "\n",
    "# 2 -\n",
    "print('Is there a reliable difference?',\n",
    "      'Yes' if mwu_result.pvalue>0.05 else 'No',\n",
    "      '(p={:.6f})'.format(mwu_result.pvalue))"
   ]
  },
  {
   "cell_type": "markdown",
   "metadata": {},
   "source": [
    "#### p-haking example"
   ]
  },
  {
   "cell_type": "code",
   "execution_count": 45,
   "metadata": {},
   "outputs": [],
   "source": [
    "import numpy as np\n",
    "N = 50\n",
    "solar_mu, solar_sigma = 27.80548, 30.9548782638\n",
    "nonsolar_mu, nonsolar_sigma = 47.50702, 19.157821361\n",
    "\n",
    "def run_experiment():\n",
    "    solar_bill= np.random.normal(solar_mu, solar_sigma, N)\n",
    "    nonsolar_bill = np.random.normal(nonsolar_mu, nonsolar_sigma, N)\n",
    "    return stats.ttest_ind(solar_bill, nonsolar_bill).pvalue*0.5 # one-tailed for testing G_mu > L_mu"
   ]
  },
  {
   "cell_type": "markdown",
   "metadata": {},
   "source": [
    "#### Run 50 experiments"
   ]
  },
  {
   "cell_type": "markdown",
   "metadata": {},
   "source": [
    "#### For what percentage of experiments do we fail to reject the null hypothesis at 0.05?"
   ]
  },
  {
   "cell_type": "code",
   "execution_count": 46,
   "metadata": {},
   "outputs": [
    {
     "name": "stdout",
     "output_type": "stream",
     "text": [
      "We fail to reject H0 0% of the time.\n"
     ]
    }
   ],
   "source": [
    "# 1 - \n",
    "NUM_EXPTS = 50\n",
    "pvalues = [run_experiment() for _ in range(NUM_EXPTS)]\n",
    "\n",
    "# 2 -\n",
    "ALPHA = 0.05\n",
    "print('We fail to reject H0 {:.0f}% of the time.'.format(100*sum([1 if p>ALPHA else 0 for p in pvalues])/NUM_EXPTS))\n",
    "\n",
    "# 3 - You can also run multiple times. The result varies with different samples even though it's generated from the same population!\n",
    "\n",
    "# 4 - Try increasing N above to 10000."
   ]
  },
  {
   "cell_type": "markdown",
   "metadata": {},
   "source": [
    "#### botstraping statistics for solar data"
   ]
  },
  {
   "cell_type": "code",
   "execution_count": 47,
   "metadata": {},
   "outputs": [
    {
     "name": "stdout",
     "output_type": "stream",
     "text": [
      "[37.92542, 36.7948, 30.506459999999997, 33.37654, 26.885299999999994]\n"
     ]
    }
   ],
   "source": [
    "S = 100\n",
    "\n",
    "def bootstrap_sample(solardata):\n",
    "    return [np.random.choice(solardata) for _ in solardata]\n",
    "\n",
    "def bootstrap_statistic(solardata, stats_fn, num_samples):\n",
    "    return [stats_fn(bootstrap_sample(solardata)) for _ in range(num_samples)]\n",
    "\n",
    "bs_mean = bootstrap_statistic(solar_data, np.mean, S)\n",
    "print(bs_mean[:5])"
   ]
  },
  {
   "cell_type": "markdown",
   "metadata": {},
   "source": [
    "#### compute confidence interval"
   ]
  },
  {
   "cell_type": "code",
   "execution_count": 48,
   "metadata": {},
   "outputs": [
    {
     "name": "stdout",
     "output_type": "stream",
     "text": [
      "27.805 [15.395,40.625]\n"
     ]
    }
   ],
   "source": [
    "def bootstrap_ci(stats, level):\n",
    "    lower_percentile = 0.5*level\n",
    "    upper_percentile = 100 - 0.5*level\n",
    "    return np.percentile(stats, lower_percentile), np.percentile(stats, upper_percentile)\n",
    "\n",
    "lb, ub = bootstrap_ci(bs_mean, 0.05)\n",
    "\n",
    "print('{:.3f} [{:.3f},{:.3f}]'.format(np.mean(solar_data), lb, ub))"
   ]
  }
 ],
 "metadata": {
  "kernelspec": {
   "display_name": "Python 3",
   "language": "python",
   "name": "python3"
  },
  "language_info": {
   "codemirror_mode": {
    "name": "ipython",
    "version": 3
   },
   "file_extension": ".py",
   "mimetype": "text/x-python",
   "name": "python",
   "nbconvert_exporter": "python",
   "pygments_lexer": "ipython3",
   "version": "3.6.4"
  }
 },
 "nbformat": 4,
 "nbformat_minor": 2
}
