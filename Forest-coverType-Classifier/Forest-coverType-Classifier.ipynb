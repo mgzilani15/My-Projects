{
 "cells": [
  {
   "cell_type": "markdown",
   "metadata": {
    "colab_type": "text",
    "id": "ToijdR5qy3FR"
   },
   "source": [
    "### How to run this notebook\n",
    "\n",
    " * Upload the \"Forest-coverType-Classifier.ipynb\" iPython 3 Notebook to Jupyter Notebook server that supports python 3.6.\n",
    " * Download covtype.data.gz from 'https://archive.ics.uci.edu/ml/machine-learning-databases/covtype/covtype.data.gz' and unzip the archive file. This will produce 'covtype.data' file.\n",
    " * Upload the data file to Jupyter Server in the same folder where the iPython file was uploaded. \n",
    " * The notebook should run fine. \n",
    " * PS. the notebook was developed and tested in windows laptop with 16GB RAM.\n",
    "\n",
    "* To installation of Jupyter Notebook, please go to https://docs.python.org/3/using/index.html\n",
    "\n"
   ]
  },
  {
   "cell_type": "markdown",
   "metadata": {
    "colab_type": "text",
    "id": "bulQgzzIy3FQ"
   },
   "source": [
    "## Compare classification algorithm"
   ]
  },
  {
   "cell_type": "markdown",
   "metadata": {
    "colab_type": "text",
    "id": "pt95j5Mky3FS"
   },
   "source": [
    "### Initialise libraries"
   ]
  },
  {
   "cell_type": "code",
   "execution_count": 1,
   "metadata": {
    "colab": {
     "autoexec": {
      "startup": false,
      "wait_interval": 0
     }
    },
    "colab_type": "code",
    "id": "WRqtrqcNy3FS",
    "outputId": "9d27efe1-a217-4e79-c320-8641df11e5b1"
   },
   "outputs": [
    {
     "name": "stderr",
     "output_type": "stream",
     "text": [
      "C:\\Users\\golam\\Anaconda3\\lib\\site-packages\\sklearn\\cross_validation.py:41: DeprecationWarning: This module was deprecated in version 0.18 in favor of the model_selection module into which all the refactored classes and functions are moved. Also note that the interface of the new CV iterators are different from that of this module. This module will be removed in 0.20.\n",
      "  \"This module will be removed in 0.20.\", DeprecationWarning)\n"
     ]
    }
   ],
   "source": [
    "# library importing including pandas, numpy, sklearn, Matplotlib, Seaborn\n",
    "# library is included to track the time such as time and sys library\n",
    "\n",
    "import pandas as pd\n",
    "import  numpy  as  np\n",
    "import matplotlib.pyplot as plt\n",
    "%matplotlib inline\n",
    "import time\n",
    "import sys\n",
    "\n",
    "import seaborn as sns\n",
    "from sklearn import linear_model\n",
    "from sklearn.cross_validation import train_test_split\n",
    "from sklearn.metrics import mean_squared_error\n",
    "from math import sqrt\n",
    "from sklearn.utils import shuffle\n",
    "from IPython.display import Image\n",
    "\n",
    "\n",
    "from sklearn.neighbors import KNeighborsClassifier\n",
    "from sklearn.metrics import confusion_matrix\n",
    "from sklearn.metrics import accuracy_score\n",
    "from sklearn.metrics import classification_report\n",
    "\n",
    "\n",
    "\n",
    "from sklearn.naive_bayes import GaussianNB\n",
    "from sklearn.naive_bayes import MultinomialNB\n",
    "from sklearn.svm import SVC\n",
    "from sklearn.datasets import load_digits\n",
    "from sklearn.model_selection import learning_curve\n",
    "from sklearn.model_selection import ShuffleSplit"
   ]
  },
  {
   "cell_type": "markdown",
   "metadata": {
    "colab_type": "text",
    "id": "eyOgFrFgy3FW"
   },
   "source": [
    "### Load the data"
   ]
  },
  {
   "cell_type": "code",
   "execution_count": 2,
   "metadata": {
    "colab": {
     "autoexec": {
      "startup": false,
      "wait_interval": 0
     }
    },
    "colab_type": "code",
    "id": "uvwlMt_oy3FW"
   },
   "outputs": [],
   "source": [
    "#Load data including the header file, type of the soil, type of the forest, wilderness type and the main data file\n",
    "# in the pandas data frame\n",
    "\n",
    "# generate the column header for the data (instruction is given in covetype.info file)\n",
    "header = ['elevation', 'aspect', 'slope', 'hrzntl_dist_to_hydro', 'vrtcl_dist_to_hydro', 'hrzntl_dist_to_road', 'hillshade_9am', \n",
    "          'hillshade_Noon', 'hillshade_3pm', 'hrzntl_dist_to_fire_points', 'wild_area_1', 'wild_area_2', 'wild_area_3', \n",
    "          'wild_area_4', 'soil_2702', 'soil_2703', 'soil_2704', 'soil_2705', 'soil_2706', 'soil_2717', 'soil_3501', 'soil_3502',\n",
    "          'soil_4201', 'soil_4703', 'soil_4704', 'soil_4744', 'soil_4758', 'soil_5101', 'soil_5151', 'soil_6101', 'soil_6102',\n",
    "          'soil_6731', 'soil_7101', 'soil_7102', 'soil_7103', 'soil_7201', 'soil_7202', 'soil_7700', 'soil_7701', 'soil_7702', \n",
    "          'soil_7709', 'soil_7710', 'soil_7745', 'soil_7746', 'soil_7755', 'soil_7756', 'soil_7757', 'soil_7790', 'soil_8703',\n",
    "          'soil_8707', 'soil_8708', 'soil_8771', 'soil_8772', 'soil_8776', 'cover_type']\n",
    "\n",
    "#Wilderness types (from covetype.info file)\n",
    "wilderness_type = ['Rawah Wilderness Area','Neota Wilderness Area','Comanche Peak Wilderness Area','Cache la Poudre Wilderness Area']\n",
    "\n",
    "#Forest types (from covetype.info file)\n",
    "forest_type = ['Spruce/Fir', 'Lodgepole Pine', 'Ponderosa Pine', 'Cottonwood/Willow', 'Aspen', 'Douglas-fir', 'Krummholz']\n",
    "\n",
    "#Load data\n",
    "data = pd.read_csv('covtype.data',header=None)\n",
    "\n",
    "#Check first few sample\n",
    "data.columns=header\n"
   ]
  },
  {
   "cell_type": "code",
   "execution_count": 3,
   "metadata": {
    "colab": {
     "autoexec": {
      "startup": false,
      "wait_interval": 0
     }
    },
    "colab_type": "code",
    "id": "Q200kRbuy3FZ",
    "outputId": "45a7ae3d-32ca-4733-e13b-408cfd172c19"
   },
   "outputs": [
    {
     "name": "stdout",
     "output_type": "stream",
     "text": [
      "<class 'pandas.core.frame.DataFrame'>\n",
      "RangeIndex: 581012 entries, 0 to 581011\n",
      "Data columns (total 55 columns):\n",
      "elevation                     581012 non-null int64\n",
      "aspect                        581012 non-null int64\n",
      "slope                         581012 non-null int64\n",
      "hrzntl_dist_to_hydro          581012 non-null int64\n",
      "vrtcl_dist_to_hydro           581012 non-null int64\n",
      "hrzntl_dist_to_road           581012 non-null int64\n",
      "hillshade_9am                 581012 non-null int64\n",
      "hillshade_Noon                581012 non-null int64\n",
      "hillshade_3pm                 581012 non-null int64\n",
      "hrzntl_dist_to_fire_points    581012 non-null int64\n",
      "wild_area_1                   581012 non-null int64\n",
      "wild_area_2                   581012 non-null int64\n",
      "wild_area_3                   581012 non-null int64\n",
      "wild_area_4                   581012 non-null int64\n",
      "soil_2702                     581012 non-null int64\n",
      "soil_2703                     581012 non-null int64\n",
      "soil_2704                     581012 non-null int64\n",
      "soil_2705                     581012 non-null int64\n",
      "soil_2706                     581012 non-null int64\n",
      "soil_2717                     581012 non-null int64\n",
      "soil_3501                     581012 non-null int64\n",
      "soil_3502                     581012 non-null int64\n",
      "soil_4201                     581012 non-null int64\n",
      "soil_4703                     581012 non-null int64\n",
      "soil_4704                     581012 non-null int64\n",
      "soil_4744                     581012 non-null int64\n",
      "soil_4758                     581012 non-null int64\n",
      "soil_5101                     581012 non-null int64\n",
      "soil_5151                     581012 non-null int64\n",
      "soil_6101                     581012 non-null int64\n",
      "soil_6102                     581012 non-null int64\n",
      "soil_6731                     581012 non-null int64\n",
      "soil_7101                     581012 non-null int64\n",
      "soil_7102                     581012 non-null int64\n",
      "soil_7103                     581012 non-null int64\n",
      "soil_7201                     581012 non-null int64\n",
      "soil_7202                     581012 non-null int64\n",
      "soil_7700                     581012 non-null int64\n",
      "soil_7701                     581012 non-null int64\n",
      "soil_7702                     581012 non-null int64\n",
      "soil_7709                     581012 non-null int64\n",
      "soil_7710                     581012 non-null int64\n",
      "soil_7745                     581012 non-null int64\n",
      "soil_7746                     581012 non-null int64\n",
      "soil_7755                     581012 non-null int64\n",
      "soil_7756                     581012 non-null int64\n",
      "soil_7757                     581012 non-null int64\n",
      "soil_7790                     581012 non-null int64\n",
      "soil_8703                     581012 non-null int64\n",
      "soil_8707                     581012 non-null int64\n",
      "soil_8708                     581012 non-null int64\n",
      "soil_8771                     581012 non-null int64\n",
      "soil_8772                     581012 non-null int64\n",
      "soil_8776                     581012 non-null int64\n",
      "cover_type                    581012 non-null int64\n",
      "dtypes: int64(55)\n",
      "memory usage: 243.8 MB\n"
     ]
    }
   ],
   "source": [
    "# Checking the info (columns, null values and types) of data\n",
    "data.info()"
   ]
  },
  {
   "cell_type": "markdown",
   "metadata": {
    "colab_type": "text",
    "id": "Zr1tfPrwy3Fd"
   },
   "source": [
    "## Exploratory Analysis"
   ]
  },
  {
   "cell_type": "code",
   "execution_count": 4,
   "metadata": {
    "colab": {
     "autoexec": {
      "startup": false,
      "wait_interval": 0
     }
    },
    "colab_type": "code",
    "id": "TwA-XhN2y3Fe",
    "outputId": "ada7685d-0024-4ffb-ac18-abae0a13784e"
   },
   "outputs": [
    {
     "name": "stdout",
     "output_type": "stream",
     "text": [
      "Shape of the data (581012, 55)\n"
     ]
    },
    {
     "data": {
      "text/html": [
       "<div>\n",
       "<style scoped>\n",
       "    .dataframe tbody tr th:only-of-type {\n",
       "        vertical-align: middle;\n",
       "    }\n",
       "\n",
       "    .dataframe tbody tr th {\n",
       "        vertical-align: top;\n",
       "    }\n",
       "\n",
       "    .dataframe thead th {\n",
       "        text-align: right;\n",
       "    }\n",
       "</style>\n",
       "<table border=\"1\" class=\"dataframe\">\n",
       "  <thead>\n",
       "    <tr style=\"text-align: right;\">\n",
       "      <th></th>\n",
       "      <th>elevation</th>\n",
       "      <th>aspect</th>\n",
       "      <th>slope</th>\n",
       "      <th>hrzntl_dist_to_hydro</th>\n",
       "      <th>vrtcl_dist_to_hydro</th>\n",
       "      <th>hrzntl_dist_to_road</th>\n",
       "      <th>hillshade_9am</th>\n",
       "      <th>hillshade_Noon</th>\n",
       "      <th>hillshade_3pm</th>\n",
       "      <th>hrzntl_dist_to_fire_points</th>\n",
       "      <th>...</th>\n",
       "      <th>soil_7756</th>\n",
       "      <th>soil_7757</th>\n",
       "      <th>soil_7790</th>\n",
       "      <th>soil_8703</th>\n",
       "      <th>soil_8707</th>\n",
       "      <th>soil_8708</th>\n",
       "      <th>soil_8771</th>\n",
       "      <th>soil_8772</th>\n",
       "      <th>soil_8776</th>\n",
       "      <th>cover_type</th>\n",
       "    </tr>\n",
       "  </thead>\n",
       "  <tbody>\n",
       "    <tr>\n",
       "      <th>0</th>\n",
       "      <td>2596</td>\n",
       "      <td>51</td>\n",
       "      <td>3</td>\n",
       "      <td>258</td>\n",
       "      <td>0</td>\n",
       "      <td>510</td>\n",
       "      <td>221</td>\n",
       "      <td>232</td>\n",
       "      <td>148</td>\n",
       "      <td>6279</td>\n",
       "      <td>...</td>\n",
       "      <td>0</td>\n",
       "      <td>0</td>\n",
       "      <td>0</td>\n",
       "      <td>0</td>\n",
       "      <td>0</td>\n",
       "      <td>0</td>\n",
       "      <td>0</td>\n",
       "      <td>0</td>\n",
       "      <td>0</td>\n",
       "      <td>5</td>\n",
       "    </tr>\n",
       "    <tr>\n",
       "      <th>1</th>\n",
       "      <td>2590</td>\n",
       "      <td>56</td>\n",
       "      <td>2</td>\n",
       "      <td>212</td>\n",
       "      <td>-6</td>\n",
       "      <td>390</td>\n",
       "      <td>220</td>\n",
       "      <td>235</td>\n",
       "      <td>151</td>\n",
       "      <td>6225</td>\n",
       "      <td>...</td>\n",
       "      <td>0</td>\n",
       "      <td>0</td>\n",
       "      <td>0</td>\n",
       "      <td>0</td>\n",
       "      <td>0</td>\n",
       "      <td>0</td>\n",
       "      <td>0</td>\n",
       "      <td>0</td>\n",
       "      <td>0</td>\n",
       "      <td>5</td>\n",
       "    </tr>\n",
       "    <tr>\n",
       "      <th>2</th>\n",
       "      <td>2804</td>\n",
       "      <td>139</td>\n",
       "      <td>9</td>\n",
       "      <td>268</td>\n",
       "      <td>65</td>\n",
       "      <td>3180</td>\n",
       "      <td>234</td>\n",
       "      <td>238</td>\n",
       "      <td>135</td>\n",
       "      <td>6121</td>\n",
       "      <td>...</td>\n",
       "      <td>0</td>\n",
       "      <td>0</td>\n",
       "      <td>0</td>\n",
       "      <td>0</td>\n",
       "      <td>0</td>\n",
       "      <td>0</td>\n",
       "      <td>0</td>\n",
       "      <td>0</td>\n",
       "      <td>0</td>\n",
       "      <td>2</td>\n",
       "    </tr>\n",
       "    <tr>\n",
       "      <th>3</th>\n",
       "      <td>2785</td>\n",
       "      <td>155</td>\n",
       "      <td>18</td>\n",
       "      <td>242</td>\n",
       "      <td>118</td>\n",
       "      <td>3090</td>\n",
       "      <td>238</td>\n",
       "      <td>238</td>\n",
       "      <td>122</td>\n",
       "      <td>6211</td>\n",
       "      <td>...</td>\n",
       "      <td>0</td>\n",
       "      <td>0</td>\n",
       "      <td>0</td>\n",
       "      <td>0</td>\n",
       "      <td>0</td>\n",
       "      <td>0</td>\n",
       "      <td>0</td>\n",
       "      <td>0</td>\n",
       "      <td>0</td>\n",
       "      <td>2</td>\n",
       "    </tr>\n",
       "    <tr>\n",
       "      <th>4</th>\n",
       "      <td>2595</td>\n",
       "      <td>45</td>\n",
       "      <td>2</td>\n",
       "      <td>153</td>\n",
       "      <td>-1</td>\n",
       "      <td>391</td>\n",
       "      <td>220</td>\n",
       "      <td>234</td>\n",
       "      <td>150</td>\n",
       "      <td>6172</td>\n",
       "      <td>...</td>\n",
       "      <td>0</td>\n",
       "      <td>0</td>\n",
       "      <td>0</td>\n",
       "      <td>0</td>\n",
       "      <td>0</td>\n",
       "      <td>0</td>\n",
       "      <td>0</td>\n",
       "      <td>0</td>\n",
       "      <td>0</td>\n",
       "      <td>5</td>\n",
       "    </tr>\n",
       "  </tbody>\n",
       "</table>\n",
       "<p>5 rows × 55 columns</p>\n",
       "</div>"
      ],
      "text/plain": [
       "   elevation  aspect  slope  hrzntl_dist_to_hydro  vrtcl_dist_to_hydro  \\\n",
       "0       2596      51      3                   258                    0   \n",
       "1       2590      56      2                   212                   -6   \n",
       "2       2804     139      9                   268                   65   \n",
       "3       2785     155     18                   242                  118   \n",
       "4       2595      45      2                   153                   -1   \n",
       "\n",
       "   hrzntl_dist_to_road  hillshade_9am  hillshade_Noon  hillshade_3pm  \\\n",
       "0                  510            221             232            148   \n",
       "1                  390            220             235            151   \n",
       "2                 3180            234             238            135   \n",
       "3                 3090            238             238            122   \n",
       "4                  391            220             234            150   \n",
       "\n",
       "   hrzntl_dist_to_fire_points     ...      soil_7756  soil_7757  soil_7790  \\\n",
       "0                        6279     ...              0          0          0   \n",
       "1                        6225     ...              0          0          0   \n",
       "2                        6121     ...              0          0          0   \n",
       "3                        6211     ...              0          0          0   \n",
       "4                        6172     ...              0          0          0   \n",
       "\n",
       "   soil_8703  soil_8707  soil_8708  soil_8771  soil_8772  soil_8776  \\\n",
       "0          0          0          0          0          0          0   \n",
       "1          0          0          0          0          0          0   \n",
       "2          0          0          0          0          0          0   \n",
       "3          0          0          0          0          0          0   \n",
       "4          0          0          0          0          0          0   \n",
       "\n",
       "   cover_type  \n",
       "0           5  \n",
       "1           5  \n",
       "2           2  \n",
       "3           2  \n",
       "4           5  \n",
       "\n",
       "[5 rows x 55 columns]"
      ]
     },
     "execution_count": 4,
     "metadata": {},
     "output_type": "execute_result"
    }
   ],
   "source": [
    "# having a look the head of some  data in the pandas data frame\n",
    "print(\"Shape of the data\",data.shape)\n",
    "data.head()"
   ]
  },
  {
   "cell_type": "code",
   "execution_count": 5,
   "metadata": {
    "colab": {
     "autoexec": {
      "startup": false,
      "wait_interval": 0
     }
    },
    "colab_type": "code",
    "id": "6R4GQOJzUEqd",
    "outputId": "72581505-8f63-4a7f-8055-4d3aa4f6e23f"
   },
   "outputs": [
    {
     "data": {
      "text/html": [
       "<div>\n",
       "<style scoped>\n",
       "    .dataframe tbody tr th:only-of-type {\n",
       "        vertical-align: middle;\n",
       "    }\n",
       "\n",
       "    .dataframe tbody tr th {\n",
       "        vertical-align: top;\n",
       "    }\n",
       "\n",
       "    .dataframe thead th {\n",
       "        text-align: right;\n",
       "    }\n",
       "</style>\n",
       "<table border=\"1\" class=\"dataframe\">\n",
       "  <thead>\n",
       "    <tr style=\"text-align: right;\">\n",
       "      <th></th>\n",
       "      <th>wild_area_1</th>\n",
       "      <th>wild_area_2</th>\n",
       "      <th>wild_area_3</th>\n",
       "      <th>wild_area_4</th>\n",
       "    </tr>\n",
       "  </thead>\n",
       "  <tbody>\n",
       "    <tr>\n",
       "      <th>count</th>\n",
       "      <td>581012.000000</td>\n",
       "      <td>581012.000000</td>\n",
       "      <td>581012.000000</td>\n",
       "      <td>581012.000000</td>\n",
       "    </tr>\n",
       "    <tr>\n",
       "      <th>mean</th>\n",
       "      <td>0.448865</td>\n",
       "      <td>0.051434</td>\n",
       "      <td>0.436074</td>\n",
       "      <td>0.063627</td>\n",
       "    </tr>\n",
       "    <tr>\n",
       "      <th>std</th>\n",
       "      <td>0.497379</td>\n",
       "      <td>0.220882</td>\n",
       "      <td>0.495897</td>\n",
       "      <td>0.244087</td>\n",
       "    </tr>\n",
       "    <tr>\n",
       "      <th>min</th>\n",
       "      <td>0.000000</td>\n",
       "      <td>0.000000</td>\n",
       "      <td>0.000000</td>\n",
       "      <td>0.000000</td>\n",
       "    </tr>\n",
       "    <tr>\n",
       "      <th>25%</th>\n",
       "      <td>0.000000</td>\n",
       "      <td>0.000000</td>\n",
       "      <td>0.000000</td>\n",
       "      <td>0.000000</td>\n",
       "    </tr>\n",
       "    <tr>\n",
       "      <th>50%</th>\n",
       "      <td>0.000000</td>\n",
       "      <td>0.000000</td>\n",
       "      <td>0.000000</td>\n",
       "      <td>0.000000</td>\n",
       "    </tr>\n",
       "    <tr>\n",
       "      <th>75%</th>\n",
       "      <td>1.000000</td>\n",
       "      <td>0.000000</td>\n",
       "      <td>1.000000</td>\n",
       "      <td>0.000000</td>\n",
       "    </tr>\n",
       "    <tr>\n",
       "      <th>max</th>\n",
       "      <td>1.000000</td>\n",
       "      <td>1.000000</td>\n",
       "      <td>1.000000</td>\n",
       "      <td>1.000000</td>\n",
       "    </tr>\n",
       "  </tbody>\n",
       "</table>\n",
       "</div>"
      ],
      "text/plain": [
       "         wild_area_1    wild_area_2    wild_area_3    wild_area_4\n",
       "count  581012.000000  581012.000000  581012.000000  581012.000000\n",
       "mean        0.448865       0.051434       0.436074       0.063627\n",
       "std         0.497379       0.220882       0.495897       0.244087\n",
       "min         0.000000       0.000000       0.000000       0.000000\n",
       "25%         0.000000       0.000000       0.000000       0.000000\n",
       "50%         0.000000       0.000000       0.000000       0.000000\n",
       "75%         1.000000       0.000000       1.000000       0.000000\n",
       "max         1.000000       1.000000       1.000000       1.000000"
      ]
     },
     "execution_count": 5,
     "metadata": {},
     "output_type": "execute_result"
    }
   ],
   "source": [
    "# Description of the Wild area type\n",
    "data[['wild_area_1','wild_area_2','wild_area_3','wild_area_4']].describe()"
   ]
  },
  {
   "cell_type": "code",
   "execution_count": 6,
   "metadata": {
    "colab": {
     "autoexec": {
      "startup": false,
      "wait_interval": 0
     }
    },
    "colab_type": "code",
    "id": "MKOes5byy3Fk",
    "outputId": "779c2e3c-0545-4a67-d5db-f2d67508f731"
   },
   "outputs": [
    {
     "data": {
      "text/html": [
       "<div>\n",
       "<style scoped>\n",
       "    .dataframe tbody tr th:only-of-type {\n",
       "        vertical-align: middle;\n",
       "    }\n",
       "\n",
       "    .dataframe tbody tr th {\n",
       "        vertical-align: top;\n",
       "    }\n",
       "\n",
       "    .dataframe thead th {\n",
       "        text-align: right;\n",
       "    }\n",
       "</style>\n",
       "<table border=\"1\" class=\"dataframe\">\n",
       "  <thead>\n",
       "    <tr style=\"text-align: right;\">\n",
       "      <th></th>\n",
       "      <th>count</th>\n",
       "      <th>mean</th>\n",
       "      <th>std</th>\n",
       "      <th>min</th>\n",
       "      <th>25%</th>\n",
       "      <th>50%</th>\n",
       "      <th>75%</th>\n",
       "      <th>max</th>\n",
       "    </tr>\n",
       "  </thead>\n",
       "  <tbody>\n",
       "    <tr>\n",
       "      <th>elevation</th>\n",
       "      <td>581012.0</td>\n",
       "      <td>2959.365301</td>\n",
       "      <td>279.984734</td>\n",
       "      <td>1859.0</td>\n",
       "      <td>2809.0</td>\n",
       "      <td>2996.0</td>\n",
       "      <td>3163.0</td>\n",
       "      <td>3858.0</td>\n",
       "    </tr>\n",
       "    <tr>\n",
       "      <th>aspect</th>\n",
       "      <td>581012.0</td>\n",
       "      <td>155.656807</td>\n",
       "      <td>111.913721</td>\n",
       "      <td>0.0</td>\n",
       "      <td>58.0</td>\n",
       "      <td>127.0</td>\n",
       "      <td>260.0</td>\n",
       "      <td>360.0</td>\n",
       "    </tr>\n",
       "    <tr>\n",
       "      <th>slope</th>\n",
       "      <td>581012.0</td>\n",
       "      <td>14.103704</td>\n",
       "      <td>7.488242</td>\n",
       "      <td>0.0</td>\n",
       "      <td>9.0</td>\n",
       "      <td>13.0</td>\n",
       "      <td>18.0</td>\n",
       "      <td>66.0</td>\n",
       "    </tr>\n",
       "    <tr>\n",
       "      <th>hrzntl_dist_to_hydro</th>\n",
       "      <td>581012.0</td>\n",
       "      <td>269.428217</td>\n",
       "      <td>212.549356</td>\n",
       "      <td>0.0</td>\n",
       "      <td>108.0</td>\n",
       "      <td>218.0</td>\n",
       "      <td>384.0</td>\n",
       "      <td>1397.0</td>\n",
       "    </tr>\n",
       "    <tr>\n",
       "      <th>vrtcl_dist_to_hydro</th>\n",
       "      <td>581012.0</td>\n",
       "      <td>46.418855</td>\n",
       "      <td>58.295232</td>\n",
       "      <td>-173.0</td>\n",
       "      <td>7.0</td>\n",
       "      <td>30.0</td>\n",
       "      <td>69.0</td>\n",
       "      <td>601.0</td>\n",
       "    </tr>\n",
       "    <tr>\n",
       "      <th>hrzntl_dist_to_road</th>\n",
       "      <td>581012.0</td>\n",
       "      <td>2350.146611</td>\n",
       "      <td>1559.254870</td>\n",
       "      <td>0.0</td>\n",
       "      <td>1106.0</td>\n",
       "      <td>1997.0</td>\n",
       "      <td>3328.0</td>\n",
       "      <td>7117.0</td>\n",
       "    </tr>\n",
       "    <tr>\n",
       "      <th>hillshade_9am</th>\n",
       "      <td>581012.0</td>\n",
       "      <td>212.146049</td>\n",
       "      <td>26.769889</td>\n",
       "      <td>0.0</td>\n",
       "      <td>198.0</td>\n",
       "      <td>218.0</td>\n",
       "      <td>231.0</td>\n",
       "      <td>254.0</td>\n",
       "    </tr>\n",
       "    <tr>\n",
       "      <th>hillshade_Noon</th>\n",
       "      <td>581012.0</td>\n",
       "      <td>223.318716</td>\n",
       "      <td>19.768697</td>\n",
       "      <td>0.0</td>\n",
       "      <td>213.0</td>\n",
       "      <td>226.0</td>\n",
       "      <td>237.0</td>\n",
       "      <td>254.0</td>\n",
       "    </tr>\n",
       "    <tr>\n",
       "      <th>hillshade_3pm</th>\n",
       "      <td>581012.0</td>\n",
       "      <td>142.528263</td>\n",
       "      <td>38.274529</td>\n",
       "      <td>0.0</td>\n",
       "      <td>119.0</td>\n",
       "      <td>143.0</td>\n",
       "      <td>168.0</td>\n",
       "      <td>254.0</td>\n",
       "    </tr>\n",
       "    <tr>\n",
       "      <th>hrzntl_dist_to_fire_points</th>\n",
       "      <td>581012.0</td>\n",
       "      <td>1980.291226</td>\n",
       "      <td>1324.195210</td>\n",
       "      <td>0.0</td>\n",
       "      <td>1024.0</td>\n",
       "      <td>1710.0</td>\n",
       "      <td>2550.0</td>\n",
       "      <td>7173.0</td>\n",
       "    </tr>\n",
       "    <tr>\n",
       "      <th>wild_area_1</th>\n",
       "      <td>581012.0</td>\n",
       "      <td>0.448865</td>\n",
       "      <td>0.497379</td>\n",
       "      <td>0.0</td>\n",
       "      <td>0.0</td>\n",
       "      <td>0.0</td>\n",
       "      <td>1.0</td>\n",
       "      <td>1.0</td>\n",
       "    </tr>\n",
       "    <tr>\n",
       "      <th>wild_area_2</th>\n",
       "      <td>581012.0</td>\n",
       "      <td>0.051434</td>\n",
       "      <td>0.220882</td>\n",
       "      <td>0.0</td>\n",
       "      <td>0.0</td>\n",
       "      <td>0.0</td>\n",
       "      <td>0.0</td>\n",
       "      <td>1.0</td>\n",
       "    </tr>\n",
       "    <tr>\n",
       "      <th>wild_area_3</th>\n",
       "      <td>581012.0</td>\n",
       "      <td>0.436074</td>\n",
       "      <td>0.495897</td>\n",
       "      <td>0.0</td>\n",
       "      <td>0.0</td>\n",
       "      <td>0.0</td>\n",
       "      <td>1.0</td>\n",
       "      <td>1.0</td>\n",
       "    </tr>\n",
       "    <tr>\n",
       "      <th>wild_area_4</th>\n",
       "      <td>581012.0</td>\n",
       "      <td>0.063627</td>\n",
       "      <td>0.244087</td>\n",
       "      <td>0.0</td>\n",
       "      <td>0.0</td>\n",
       "      <td>0.0</td>\n",
       "      <td>0.0</td>\n",
       "      <td>1.0</td>\n",
       "    </tr>\n",
       "    <tr>\n",
       "      <th>soil_2702</th>\n",
       "      <td>581012.0</td>\n",
       "      <td>0.005217</td>\n",
       "      <td>0.072039</td>\n",
       "      <td>0.0</td>\n",
       "      <td>0.0</td>\n",
       "      <td>0.0</td>\n",
       "      <td>0.0</td>\n",
       "      <td>1.0</td>\n",
       "    </tr>\n",
       "    <tr>\n",
       "      <th>soil_2703</th>\n",
       "      <td>581012.0</td>\n",
       "      <td>0.012952</td>\n",
       "      <td>0.113066</td>\n",
       "      <td>0.0</td>\n",
       "      <td>0.0</td>\n",
       "      <td>0.0</td>\n",
       "      <td>0.0</td>\n",
       "      <td>1.0</td>\n",
       "    </tr>\n",
       "    <tr>\n",
       "      <th>soil_2704</th>\n",
       "      <td>581012.0</td>\n",
       "      <td>0.008301</td>\n",
       "      <td>0.090731</td>\n",
       "      <td>0.0</td>\n",
       "      <td>0.0</td>\n",
       "      <td>0.0</td>\n",
       "      <td>0.0</td>\n",
       "      <td>1.0</td>\n",
       "    </tr>\n",
       "    <tr>\n",
       "      <th>soil_2705</th>\n",
       "      <td>581012.0</td>\n",
       "      <td>0.021335</td>\n",
       "      <td>0.144499</td>\n",
       "      <td>0.0</td>\n",
       "      <td>0.0</td>\n",
       "      <td>0.0</td>\n",
       "      <td>0.0</td>\n",
       "      <td>1.0</td>\n",
       "    </tr>\n",
       "    <tr>\n",
       "      <th>soil_2706</th>\n",
       "      <td>581012.0</td>\n",
       "      <td>0.002749</td>\n",
       "      <td>0.052356</td>\n",
       "      <td>0.0</td>\n",
       "      <td>0.0</td>\n",
       "      <td>0.0</td>\n",
       "      <td>0.0</td>\n",
       "      <td>1.0</td>\n",
       "    </tr>\n",
       "    <tr>\n",
       "      <th>soil_2717</th>\n",
       "      <td>581012.0</td>\n",
       "      <td>0.011316</td>\n",
       "      <td>0.105775</td>\n",
       "      <td>0.0</td>\n",
       "      <td>0.0</td>\n",
       "      <td>0.0</td>\n",
       "      <td>0.0</td>\n",
       "      <td>1.0</td>\n",
       "    </tr>\n",
       "    <tr>\n",
       "      <th>soil_3501</th>\n",
       "      <td>581012.0</td>\n",
       "      <td>0.000181</td>\n",
       "      <td>0.013442</td>\n",
       "      <td>0.0</td>\n",
       "      <td>0.0</td>\n",
       "      <td>0.0</td>\n",
       "      <td>0.0</td>\n",
       "      <td>1.0</td>\n",
       "    </tr>\n",
       "    <tr>\n",
       "      <th>soil_3502</th>\n",
       "      <td>581012.0</td>\n",
       "      <td>0.000308</td>\n",
       "      <td>0.017550</td>\n",
       "      <td>0.0</td>\n",
       "      <td>0.0</td>\n",
       "      <td>0.0</td>\n",
       "      <td>0.0</td>\n",
       "      <td>1.0</td>\n",
       "    </tr>\n",
       "    <tr>\n",
       "      <th>soil_4201</th>\n",
       "      <td>581012.0</td>\n",
       "      <td>0.001974</td>\n",
       "      <td>0.044387</td>\n",
       "      <td>0.0</td>\n",
       "      <td>0.0</td>\n",
       "      <td>0.0</td>\n",
       "      <td>0.0</td>\n",
       "      <td>1.0</td>\n",
       "    </tr>\n",
       "    <tr>\n",
       "      <th>soil_4703</th>\n",
       "      <td>581012.0</td>\n",
       "      <td>0.056168</td>\n",
       "      <td>0.230245</td>\n",
       "      <td>0.0</td>\n",
       "      <td>0.0</td>\n",
       "      <td>0.0</td>\n",
       "      <td>0.0</td>\n",
       "      <td>1.0</td>\n",
       "    </tr>\n",
       "    <tr>\n",
       "      <th>soil_4704</th>\n",
       "      <td>581012.0</td>\n",
       "      <td>0.021359</td>\n",
       "      <td>0.144579</td>\n",
       "      <td>0.0</td>\n",
       "      <td>0.0</td>\n",
       "      <td>0.0</td>\n",
       "      <td>0.0</td>\n",
       "      <td>1.0</td>\n",
       "    </tr>\n",
       "    <tr>\n",
       "      <th>soil_4744</th>\n",
       "      <td>581012.0</td>\n",
       "      <td>0.051584</td>\n",
       "      <td>0.221186</td>\n",
       "      <td>0.0</td>\n",
       "      <td>0.0</td>\n",
       "      <td>0.0</td>\n",
       "      <td>0.0</td>\n",
       "      <td>1.0</td>\n",
       "    </tr>\n",
       "    <tr>\n",
       "      <th>soil_4758</th>\n",
       "      <td>581012.0</td>\n",
       "      <td>0.030001</td>\n",
       "      <td>0.170590</td>\n",
       "      <td>0.0</td>\n",
       "      <td>0.0</td>\n",
       "      <td>0.0</td>\n",
       "      <td>0.0</td>\n",
       "      <td>1.0</td>\n",
       "    </tr>\n",
       "    <tr>\n",
       "      <th>soil_5101</th>\n",
       "      <td>581012.0</td>\n",
       "      <td>0.001031</td>\n",
       "      <td>0.032092</td>\n",
       "      <td>0.0</td>\n",
       "      <td>0.0</td>\n",
       "      <td>0.0</td>\n",
       "      <td>0.0</td>\n",
       "      <td>1.0</td>\n",
       "    </tr>\n",
       "    <tr>\n",
       "      <th>soil_5151</th>\n",
       "      <td>581012.0</td>\n",
       "      <td>0.000005</td>\n",
       "      <td>0.002272</td>\n",
       "      <td>0.0</td>\n",
       "      <td>0.0</td>\n",
       "      <td>0.0</td>\n",
       "      <td>0.0</td>\n",
       "      <td>1.0</td>\n",
       "    </tr>\n",
       "    <tr>\n",
       "      <th>soil_6101</th>\n",
       "      <td>581012.0</td>\n",
       "      <td>0.004897</td>\n",
       "      <td>0.069804</td>\n",
       "      <td>0.0</td>\n",
       "      <td>0.0</td>\n",
       "      <td>0.0</td>\n",
       "      <td>0.0</td>\n",
       "      <td>1.0</td>\n",
       "    </tr>\n",
       "    <tr>\n",
       "      <th>soil_6102</th>\n",
       "      <td>581012.0</td>\n",
       "      <td>0.005890</td>\n",
       "      <td>0.076518</td>\n",
       "      <td>0.0</td>\n",
       "      <td>0.0</td>\n",
       "      <td>0.0</td>\n",
       "      <td>0.0</td>\n",
       "      <td>1.0</td>\n",
       "    </tr>\n",
       "    <tr>\n",
       "      <th>soil_6731</th>\n",
       "      <td>581012.0</td>\n",
       "      <td>0.003268</td>\n",
       "      <td>0.057077</td>\n",
       "      <td>0.0</td>\n",
       "      <td>0.0</td>\n",
       "      <td>0.0</td>\n",
       "      <td>0.0</td>\n",
       "      <td>1.0</td>\n",
       "    </tr>\n",
       "    <tr>\n",
       "      <th>soil_7101</th>\n",
       "      <td>581012.0</td>\n",
       "      <td>0.006921</td>\n",
       "      <td>0.082902</td>\n",
       "      <td>0.0</td>\n",
       "      <td>0.0</td>\n",
       "      <td>0.0</td>\n",
       "      <td>0.0</td>\n",
       "      <td>1.0</td>\n",
       "    </tr>\n",
       "    <tr>\n",
       "      <th>soil_7102</th>\n",
       "      <td>581012.0</td>\n",
       "      <td>0.015936</td>\n",
       "      <td>0.125228</td>\n",
       "      <td>0.0</td>\n",
       "      <td>0.0</td>\n",
       "      <td>0.0</td>\n",
       "      <td>0.0</td>\n",
       "      <td>1.0</td>\n",
       "    </tr>\n",
       "    <tr>\n",
       "      <th>soil_7103</th>\n",
       "      <td>581012.0</td>\n",
       "      <td>0.001442</td>\n",
       "      <td>0.037950</td>\n",
       "      <td>0.0</td>\n",
       "      <td>0.0</td>\n",
       "      <td>0.0</td>\n",
       "      <td>0.0</td>\n",
       "      <td>1.0</td>\n",
       "    </tr>\n",
       "    <tr>\n",
       "      <th>soil_7201</th>\n",
       "      <td>581012.0</td>\n",
       "      <td>0.057439</td>\n",
       "      <td>0.232681</td>\n",
       "      <td>0.0</td>\n",
       "      <td>0.0</td>\n",
       "      <td>0.0</td>\n",
       "      <td>0.0</td>\n",
       "      <td>1.0</td>\n",
       "    </tr>\n",
       "    <tr>\n",
       "      <th>soil_7202</th>\n",
       "      <td>581012.0</td>\n",
       "      <td>0.099399</td>\n",
       "      <td>0.299197</td>\n",
       "      <td>0.0</td>\n",
       "      <td>0.0</td>\n",
       "      <td>0.0</td>\n",
       "      <td>0.0</td>\n",
       "      <td>1.0</td>\n",
       "    </tr>\n",
       "    <tr>\n",
       "      <th>soil_7700</th>\n",
       "      <td>581012.0</td>\n",
       "      <td>0.036622</td>\n",
       "      <td>0.187833</td>\n",
       "      <td>0.0</td>\n",
       "      <td>0.0</td>\n",
       "      <td>0.0</td>\n",
       "      <td>0.0</td>\n",
       "      <td>1.0</td>\n",
       "    </tr>\n",
       "    <tr>\n",
       "      <th>soil_7701</th>\n",
       "      <td>581012.0</td>\n",
       "      <td>0.000816</td>\n",
       "      <td>0.028551</td>\n",
       "      <td>0.0</td>\n",
       "      <td>0.0</td>\n",
       "      <td>0.0</td>\n",
       "      <td>0.0</td>\n",
       "      <td>1.0</td>\n",
       "    </tr>\n",
       "    <tr>\n",
       "      <th>soil_7702</th>\n",
       "      <td>581012.0</td>\n",
       "      <td>0.004456</td>\n",
       "      <td>0.066605</td>\n",
       "      <td>0.0</td>\n",
       "      <td>0.0</td>\n",
       "      <td>0.0</td>\n",
       "      <td>0.0</td>\n",
       "      <td>1.0</td>\n",
       "    </tr>\n",
       "    <tr>\n",
       "      <th>soil_7709</th>\n",
       "      <td>581012.0</td>\n",
       "      <td>0.001869</td>\n",
       "      <td>0.043193</td>\n",
       "      <td>0.0</td>\n",
       "      <td>0.0</td>\n",
       "      <td>0.0</td>\n",
       "      <td>0.0</td>\n",
       "      <td>1.0</td>\n",
       "    </tr>\n",
       "    <tr>\n",
       "      <th>soil_7710</th>\n",
       "      <td>581012.0</td>\n",
       "      <td>0.001628</td>\n",
       "      <td>0.040318</td>\n",
       "      <td>0.0</td>\n",
       "      <td>0.0</td>\n",
       "      <td>0.0</td>\n",
       "      <td>0.0</td>\n",
       "      <td>1.0</td>\n",
       "    </tr>\n",
       "    <tr>\n",
       "      <th>soil_7745</th>\n",
       "      <td>581012.0</td>\n",
       "      <td>0.198356</td>\n",
       "      <td>0.398762</td>\n",
       "      <td>0.0</td>\n",
       "      <td>0.0</td>\n",
       "      <td>0.0</td>\n",
       "      <td>0.0</td>\n",
       "      <td>1.0</td>\n",
       "    </tr>\n",
       "    <tr>\n",
       "      <th>soil_7746</th>\n",
       "      <td>581012.0</td>\n",
       "      <td>0.051927</td>\n",
       "      <td>0.221879</td>\n",
       "      <td>0.0</td>\n",
       "      <td>0.0</td>\n",
       "      <td>0.0</td>\n",
       "      <td>0.0</td>\n",
       "      <td>1.0</td>\n",
       "    </tr>\n",
       "    <tr>\n",
       "      <th>soil_7755</th>\n",
       "      <td>581012.0</td>\n",
       "      <td>0.044175</td>\n",
       "      <td>0.205483</td>\n",
       "      <td>0.0</td>\n",
       "      <td>0.0</td>\n",
       "      <td>0.0</td>\n",
       "      <td>0.0</td>\n",
       "      <td>1.0</td>\n",
       "    </tr>\n",
       "    <tr>\n",
       "      <th>soil_7756</th>\n",
       "      <td>581012.0</td>\n",
       "      <td>0.090392</td>\n",
       "      <td>0.286743</td>\n",
       "      <td>0.0</td>\n",
       "      <td>0.0</td>\n",
       "      <td>0.0</td>\n",
       "      <td>0.0</td>\n",
       "      <td>1.0</td>\n",
       "    </tr>\n",
       "    <tr>\n",
       "      <th>soil_7757</th>\n",
       "      <td>581012.0</td>\n",
       "      <td>0.077716</td>\n",
       "      <td>0.267725</td>\n",
       "      <td>0.0</td>\n",
       "      <td>0.0</td>\n",
       "      <td>0.0</td>\n",
       "      <td>0.0</td>\n",
       "      <td>1.0</td>\n",
       "    </tr>\n",
       "    <tr>\n",
       "      <th>soil_7790</th>\n",
       "      <td>581012.0</td>\n",
       "      <td>0.002773</td>\n",
       "      <td>0.052584</td>\n",
       "      <td>0.0</td>\n",
       "      <td>0.0</td>\n",
       "      <td>0.0</td>\n",
       "      <td>0.0</td>\n",
       "      <td>1.0</td>\n",
       "    </tr>\n",
       "    <tr>\n",
       "      <th>soil_8703</th>\n",
       "      <td>581012.0</td>\n",
       "      <td>0.003255</td>\n",
       "      <td>0.056957</td>\n",
       "      <td>0.0</td>\n",
       "      <td>0.0</td>\n",
       "      <td>0.0</td>\n",
       "      <td>0.0</td>\n",
       "      <td>1.0</td>\n",
       "    </tr>\n",
       "    <tr>\n",
       "      <th>soil_8707</th>\n",
       "      <td>581012.0</td>\n",
       "      <td>0.000205</td>\n",
       "      <td>0.014310</td>\n",
       "      <td>0.0</td>\n",
       "      <td>0.0</td>\n",
       "      <td>0.0</td>\n",
       "      <td>0.0</td>\n",
       "      <td>1.0</td>\n",
       "    </tr>\n",
       "    <tr>\n",
       "      <th>soil_8708</th>\n",
       "      <td>581012.0</td>\n",
       "      <td>0.000513</td>\n",
       "      <td>0.022641</td>\n",
       "      <td>0.0</td>\n",
       "      <td>0.0</td>\n",
       "      <td>0.0</td>\n",
       "      <td>0.0</td>\n",
       "      <td>1.0</td>\n",
       "    </tr>\n",
       "    <tr>\n",
       "      <th>soil_8771</th>\n",
       "      <td>581012.0</td>\n",
       "      <td>0.026803</td>\n",
       "      <td>0.161508</td>\n",
       "      <td>0.0</td>\n",
       "      <td>0.0</td>\n",
       "      <td>0.0</td>\n",
       "      <td>0.0</td>\n",
       "      <td>1.0</td>\n",
       "    </tr>\n",
       "    <tr>\n",
       "      <th>soil_8772</th>\n",
       "      <td>581012.0</td>\n",
       "      <td>0.023762</td>\n",
       "      <td>0.152307</td>\n",
       "      <td>0.0</td>\n",
       "      <td>0.0</td>\n",
       "      <td>0.0</td>\n",
       "      <td>0.0</td>\n",
       "      <td>1.0</td>\n",
       "    </tr>\n",
       "    <tr>\n",
       "      <th>soil_8776</th>\n",
       "      <td>581012.0</td>\n",
       "      <td>0.015060</td>\n",
       "      <td>0.121791</td>\n",
       "      <td>0.0</td>\n",
       "      <td>0.0</td>\n",
       "      <td>0.0</td>\n",
       "      <td>0.0</td>\n",
       "      <td>1.0</td>\n",
       "    </tr>\n",
       "    <tr>\n",
       "      <th>cover_type</th>\n",
       "      <td>581012.0</td>\n",
       "      <td>2.051471</td>\n",
       "      <td>1.396504</td>\n",
       "      <td>1.0</td>\n",
       "      <td>1.0</td>\n",
       "      <td>2.0</td>\n",
       "      <td>2.0</td>\n",
       "      <td>7.0</td>\n",
       "    </tr>\n",
       "  </tbody>\n",
       "</table>\n",
       "</div>"
      ],
      "text/plain": [
       "                               count         mean          std     min  \\\n",
       "elevation                   581012.0  2959.365301   279.984734  1859.0   \n",
       "aspect                      581012.0   155.656807   111.913721     0.0   \n",
       "slope                       581012.0    14.103704     7.488242     0.0   \n",
       "hrzntl_dist_to_hydro        581012.0   269.428217   212.549356     0.0   \n",
       "vrtcl_dist_to_hydro         581012.0    46.418855    58.295232  -173.0   \n",
       "hrzntl_dist_to_road         581012.0  2350.146611  1559.254870     0.0   \n",
       "hillshade_9am               581012.0   212.146049    26.769889     0.0   \n",
       "hillshade_Noon              581012.0   223.318716    19.768697     0.0   \n",
       "hillshade_3pm               581012.0   142.528263    38.274529     0.0   \n",
       "hrzntl_dist_to_fire_points  581012.0  1980.291226  1324.195210     0.0   \n",
       "wild_area_1                 581012.0     0.448865     0.497379     0.0   \n",
       "wild_area_2                 581012.0     0.051434     0.220882     0.0   \n",
       "wild_area_3                 581012.0     0.436074     0.495897     0.0   \n",
       "wild_area_4                 581012.0     0.063627     0.244087     0.0   \n",
       "soil_2702                   581012.0     0.005217     0.072039     0.0   \n",
       "soil_2703                   581012.0     0.012952     0.113066     0.0   \n",
       "soil_2704                   581012.0     0.008301     0.090731     0.0   \n",
       "soil_2705                   581012.0     0.021335     0.144499     0.0   \n",
       "soil_2706                   581012.0     0.002749     0.052356     0.0   \n",
       "soil_2717                   581012.0     0.011316     0.105775     0.0   \n",
       "soil_3501                   581012.0     0.000181     0.013442     0.0   \n",
       "soil_3502                   581012.0     0.000308     0.017550     0.0   \n",
       "soil_4201                   581012.0     0.001974     0.044387     0.0   \n",
       "soil_4703                   581012.0     0.056168     0.230245     0.0   \n",
       "soil_4704                   581012.0     0.021359     0.144579     0.0   \n",
       "soil_4744                   581012.0     0.051584     0.221186     0.0   \n",
       "soil_4758                   581012.0     0.030001     0.170590     0.0   \n",
       "soil_5101                   581012.0     0.001031     0.032092     0.0   \n",
       "soil_5151                   581012.0     0.000005     0.002272     0.0   \n",
       "soil_6101                   581012.0     0.004897     0.069804     0.0   \n",
       "soil_6102                   581012.0     0.005890     0.076518     0.0   \n",
       "soil_6731                   581012.0     0.003268     0.057077     0.0   \n",
       "soil_7101                   581012.0     0.006921     0.082902     0.0   \n",
       "soil_7102                   581012.0     0.015936     0.125228     0.0   \n",
       "soil_7103                   581012.0     0.001442     0.037950     0.0   \n",
       "soil_7201                   581012.0     0.057439     0.232681     0.0   \n",
       "soil_7202                   581012.0     0.099399     0.299197     0.0   \n",
       "soil_7700                   581012.0     0.036622     0.187833     0.0   \n",
       "soil_7701                   581012.0     0.000816     0.028551     0.0   \n",
       "soil_7702                   581012.0     0.004456     0.066605     0.0   \n",
       "soil_7709                   581012.0     0.001869     0.043193     0.0   \n",
       "soil_7710                   581012.0     0.001628     0.040318     0.0   \n",
       "soil_7745                   581012.0     0.198356     0.398762     0.0   \n",
       "soil_7746                   581012.0     0.051927     0.221879     0.0   \n",
       "soil_7755                   581012.0     0.044175     0.205483     0.0   \n",
       "soil_7756                   581012.0     0.090392     0.286743     0.0   \n",
       "soil_7757                   581012.0     0.077716     0.267725     0.0   \n",
       "soil_7790                   581012.0     0.002773     0.052584     0.0   \n",
       "soil_8703                   581012.0     0.003255     0.056957     0.0   \n",
       "soil_8707                   581012.0     0.000205     0.014310     0.0   \n",
       "soil_8708                   581012.0     0.000513     0.022641     0.0   \n",
       "soil_8771                   581012.0     0.026803     0.161508     0.0   \n",
       "soil_8772                   581012.0     0.023762     0.152307     0.0   \n",
       "soil_8776                   581012.0     0.015060     0.121791     0.0   \n",
       "cover_type                  581012.0     2.051471     1.396504     1.0   \n",
       "\n",
       "                               25%     50%     75%     max  \n",
       "elevation                   2809.0  2996.0  3163.0  3858.0  \n",
       "aspect                        58.0   127.0   260.0   360.0  \n",
       "slope                          9.0    13.0    18.0    66.0  \n",
       "hrzntl_dist_to_hydro         108.0   218.0   384.0  1397.0  \n",
       "vrtcl_dist_to_hydro            7.0    30.0    69.0   601.0  \n",
       "hrzntl_dist_to_road         1106.0  1997.0  3328.0  7117.0  \n",
       "hillshade_9am                198.0   218.0   231.0   254.0  \n",
       "hillshade_Noon               213.0   226.0   237.0   254.0  \n",
       "hillshade_3pm                119.0   143.0   168.0   254.0  \n",
       "hrzntl_dist_to_fire_points  1024.0  1710.0  2550.0  7173.0  \n",
       "wild_area_1                    0.0     0.0     1.0     1.0  \n",
       "wild_area_2                    0.0     0.0     0.0     1.0  \n",
       "wild_area_3                    0.0     0.0     1.0     1.0  \n",
       "wild_area_4                    0.0     0.0     0.0     1.0  \n",
       "soil_2702                      0.0     0.0     0.0     1.0  \n",
       "soil_2703                      0.0     0.0     0.0     1.0  \n",
       "soil_2704                      0.0     0.0     0.0     1.0  \n",
       "soil_2705                      0.0     0.0     0.0     1.0  \n",
       "soil_2706                      0.0     0.0     0.0     1.0  \n",
       "soil_2717                      0.0     0.0     0.0     1.0  \n",
       "soil_3501                      0.0     0.0     0.0     1.0  \n",
       "soil_3502                      0.0     0.0     0.0     1.0  \n",
       "soil_4201                      0.0     0.0     0.0     1.0  \n",
       "soil_4703                      0.0     0.0     0.0     1.0  \n",
       "soil_4704                      0.0     0.0     0.0     1.0  \n",
       "soil_4744                      0.0     0.0     0.0     1.0  \n",
       "soil_4758                      0.0     0.0     0.0     1.0  \n",
       "soil_5101                      0.0     0.0     0.0     1.0  \n",
       "soil_5151                      0.0     0.0     0.0     1.0  \n",
       "soil_6101                      0.0     0.0     0.0     1.0  \n",
       "soil_6102                      0.0     0.0     0.0     1.0  \n",
       "soil_6731                      0.0     0.0     0.0     1.0  \n",
       "soil_7101                      0.0     0.0     0.0     1.0  \n",
       "soil_7102                      0.0     0.0     0.0     1.0  \n",
       "soil_7103                      0.0     0.0     0.0     1.0  \n",
       "soil_7201                      0.0     0.0     0.0     1.0  \n",
       "soil_7202                      0.0     0.0     0.0     1.0  \n",
       "soil_7700                      0.0     0.0     0.0     1.0  \n",
       "soil_7701                      0.0     0.0     0.0     1.0  \n",
       "soil_7702                      0.0     0.0     0.0     1.0  \n",
       "soil_7709                      0.0     0.0     0.0     1.0  \n",
       "soil_7710                      0.0     0.0     0.0     1.0  \n",
       "soil_7745                      0.0     0.0     0.0     1.0  \n",
       "soil_7746                      0.0     0.0     0.0     1.0  \n",
       "soil_7755                      0.0     0.0     0.0     1.0  \n",
       "soil_7756                      0.0     0.0     0.0     1.0  \n",
       "soil_7757                      0.0     0.0     0.0     1.0  \n",
       "soil_7790                      0.0     0.0     0.0     1.0  \n",
       "soil_8703                      0.0     0.0     0.0     1.0  \n",
       "soil_8707                      0.0     0.0     0.0     1.0  \n",
       "soil_8708                      0.0     0.0     0.0     1.0  \n",
       "soil_8771                      0.0     0.0     0.0     1.0  \n",
       "soil_8772                      0.0     0.0     0.0     1.0  \n",
       "soil_8776                      0.0     0.0     0.0     1.0  \n",
       "cover_type                     1.0     2.0     2.0     7.0  "
      ]
     },
     "execution_count": 6,
     "metadata": {},
     "output_type": "execute_result"
    }
   ],
   "source": [
    "# Summary statistical analysis of data frame\n",
    "data.describe().T"
   ]
  },
  {
   "cell_type": "code",
   "execution_count": 7,
   "metadata": {
    "colab": {
     "autoexec": {
      "startup": false,
      "wait_interval": 0
     }
    },
    "colab_type": "code",
    "id": "tnCuxw_wy3Fo",
    "outputId": "0da3b283-e49b-4121-f351-2cbf623378e6"
   },
   "outputs": [
    {
     "name": "stdout",
     "output_type": "stream",
     "text": [
      "Class persontage:\n"
     ]
    },
    {
     "data": {
      "image/png": "[encoded data removed]",
      "text/plain": [
       "<matplotlib.figure.Figure at 0x1861b5b9668>"
      ]
     },
     "metadata": {},
     "output_type": "display_data"
    },
    {
     "data": {
      "image/png": "[encoded data removed]",
      "text/plain": [
       "<matplotlib.figure.Figure at 0x1861b5bddd8>"
      ]
     },
     "metadata": {},
     "output_type": "display_data"
    },
    {
     "data": {
      "text/html": [
       "<div>\n",
       "<style scoped>\n",
       "    .dataframe tbody tr th:only-of-type {\n",
       "        vertical-align: middle;\n",
       "    }\n",
       "\n",
       "    .dataframe tbody tr th {\n",
       "        vertical-align: top;\n",
       "    }\n",
       "\n",
       "    .dataframe thead th {\n",
       "        text-align: right;\n",
       "    }\n",
       "</style>\n",
       "<table border=\"1\" class=\"dataframe\">\n",
       "  <thead>\n",
       "    <tr style=\"text-align: right;\">\n",
       "      <th></th>\n",
       "      <th>2</th>\n",
       "      <th>1</th>\n",
       "      <th>3</th>\n",
       "      <th>7</th>\n",
       "      <th>6</th>\n",
       "      <th>5</th>\n",
       "      <th>4</th>\n",
       "    </tr>\n",
       "  </thead>\n",
       "  <tbody>\n",
       "    <tr>\n",
       "      <th>Percentage</th>\n",
       "      <td>48.759922</td>\n",
       "      <td>36.460521</td>\n",
       "      <td>6.153746</td>\n",
       "      <td>3.530048</td>\n",
       "      <td>2.989095</td>\n",
       "      <td>1.633873</td>\n",
       "      <td>0.472796</td>\n",
       "    </tr>\n",
       "  </tbody>\n",
       "</table>\n",
       "</div>"
      ],
      "text/plain": [
       "                    2          1         3         7         6         5  \\\n",
       "Percentage  48.759922  36.460521  6.153746  3.530048  2.989095  1.633873   \n",
       "\n",
       "                   4  \n",
       "Percentage  0.472796  "
      ]
     },
     "execution_count": 7,
     "metadata": {},
     "output_type": "execute_result"
    }
   ],
   "source": [
    "# Class distribution\n",
    "\n",
    "print(\"Class persontage:\")\n",
    "series = 100 * data['cover_type'].value_counts() / data['cover_type'].count()\n",
    "ax = data.cover_type.value_counts().plot(kind='pie')\n",
    "ax.set_aspect('equal')\n",
    "plt.show()\n",
    "data[\"cover_type\"].value_counts()\n",
    "sns.countplot(x=\"cover_type\", data=data)\n",
    "plt.show()\n",
    "\n",
    "pd.DataFrame({'Percentage': series}).T"
   ]
  },
  {
   "cell_type": "markdown",
   "metadata": {
    "colab_type": "text",
    "id": "BzJ-ifu0y3Fr"
   },
   "source": [
    "* From the above pie chart it is notable that 85% of class is consist in two catagories, where as no four and five this two class is less than 2%"
   ]
  },
  {
   "cell_type": "code",
   "execution_count": 8,
   "metadata": {
    "colab": {
     "autoexec": {
      "startup": false,
      "wait_interval": 0
     }
    },
    "colab_type": "code",
    "id": "1Z9GW-fgy3Fw",
    "outputId": "d3ced0bd-c6ed-44e8-afce-1f90a064100f"
   },
   "outputs": [
    {
     "data": {
      "image/png": "[encoded data removed]",
      "text/plain": [
       "<matplotlib.figure.Figure at 0x1861b5c9e10>"
      ]
     },
     "metadata": {},
     "output_type": "display_data"
    }
   ],
   "source": [
    "# histogram of the cover type\n",
    "colors = np.array(['#7fc97f', '#beaed4', '#fdc086', '#ffff99', '#386cb0', '#f0027f', '#bf5b17'])\n",
    "data.iloc[:,1:11].hist(figsize=(16,12), bins=50, color=colors[4])\n",
    "plt.show()"
   ]
  },
  {
   "cell_type": "code",
   "execution_count": 9,
   "metadata": {
    "colab": {
     "autoexec": {
      "startup": false,
      "wait_interval": 0
     }
    },
    "colab_type": "code",
    "id": "bC8faCVHy3F3",
    "outputId": "39d2dfbd-d4de-4ee0-a22f-8e6fab570df0"
   },
   "outputs": [
    {
     "data": {
      "image/png": "[encoded data removed]",
      "text/plain": [
       "<matplotlib.figure.Figure at 0x1861b5c0e48>"
      ]
     },
     "metadata": {},
     "output_type": "display_data"
    },
    {
     "data": {
      "image/png": "[encoded data removed]",
      "text/plain": [
       "<matplotlib.figure.Figure at 0x1861d90e940>"
      ]
     },
     "metadata": {},
     "output_type": "display_data"
    },
    {
     "data": {
      "image/png": "[encoded data removed]",
      "text/plain": [
       "<matplotlib.figure.Figure at 0x1861e106ba8>"
      ]
     },
     "metadata": {},
     "output_type": "display_data"
    }
   ],
   "source": [
    "# boxplot for elevation over cover type\n",
    "data.boxplot(column =  ['elevation'],by = 'cover_type',figsize=(6,4))\n",
    "plt.show()\n",
    "# boxplot for aspect over cover type \n",
    "data.boxplot(column = ['aspect'],by = 'cover_type',figsize=(6,4))\n",
    "plt.show()\n",
    "# boxplot for slope over cover type\n",
    "data.boxplot(column = ['slope'],by = 'cover_type',figsize=(6,4))\n",
    "plt.show()"
   ]
  },
  {
   "cell_type": "code",
   "execution_count": 0,
   "metadata": {
    "colab": {
     "autoexec": {
      "startup": false,
      "wait_interval": 0
     }
    },
    "colab_type": "code",
    "id": "Fkp6XpFJUEqr"
   },
   "outputs": [],
   "source": []
  },
  {
   "cell_type": "code",
   "execution_count": 10,
   "metadata": {
    "colab": {
     "autoexec": {
      "startup": false,
      "wait_interval": 0
     }
    },
    "colab_type": "code",
    "id": "6inqywUlUEqu",
    "outputId": "9044d075-9144-426b-bb65-719ba22ad4b7"
   },
   "outputs": [
    {
     "data": {
      "image/png": "[encoded data removed]",
      "text/plain": [
       "<matplotlib.figure.Figure at 0x1861d7645c0>"
      ]
     },
     "metadata": {},
     "output_type": "display_data"
    },
    {
     "data": {
      "image/png": "[encoded data removed]",
      "text/plain": [
       "<matplotlib.figure.Figure at 0x1861d548b70>"
      ]
     },
     "metadata": {},
     "output_type": "display_data"
    },
    {
     "data": {
      "image/png": "[encoded data removed]",
      "text/plain": [
       "<matplotlib.figure.Figure at 0x1861d7cb198>"
      ]
     },
     "metadata": {},
     "output_type": "display_data"
    },
    {
     "data": {
      "image/png": "[encoded data removed]",
      "text/plain": [
       "<matplotlib.figure.Figure at 0x1861d764fd0>"
      ]
     },
     "metadata": {},
     "output_type": "display_data"
    }
   ],
   "source": [
    "# boxplot for 'hrzntl_dist_to_hydro', 'vrtcl_dist_to_hydro', 'hrzntl_dist_to_road' over cover type\n",
    "data.boxplot(column =  ['hrzntl_dist_to_hydro'],by = 'cover_type',figsize=(6,5))\n",
    "plt.show()\n",
    "data.boxplot(column =  ['vrtcl_dist_to_hydro'],by = 'cover_type',figsize=(6,5))\n",
    "plt.show()\n",
    "data.boxplot(column =  ['hrzntl_dist_to_road'],by = 'cover_type',figsize=(6,5))\n",
    "plt.show()\n",
    "\t\n",
    "data.boxplot(column =  ['hrzntl_dist_to_fire_points'],by = 'cover_type',figsize=(6,5))\n",
    "plt.show()"
   ]
  },
  {
   "cell_type": "code",
   "execution_count": 11,
   "metadata": {
    "colab": {
     "autoexec": {
      "startup": false,
      "wait_interval": 0
     }
    },
    "colab_type": "code",
    "id": "5kcibX-zUEqw",
    "outputId": "98c9b57a-1582-484e-c257-fa576335615e"
   },
   "outputs": [
    {
     "data": {
      "image/png": "[encoded data removed]",
      "text/plain": [
       "<matplotlib.figure.Figure at 0x1861b734cc0>"
      ]
     },
     "metadata": {},
     "output_type": "display_data"
    },
    {
     "data": {
      "image/png": "[encoded data removed]",
      "text/plain": [
       "<matplotlib.figure.Figure at 0x1861c628518>"
      ]
     },
     "metadata": {},
     "output_type": "display_data"
    },
    {
     "data": {
      "image/png": "[encoded data removed]",
      "text/plain": [
       "<matplotlib.figure.Figure at 0x1861d4baef0>"
      ]
     },
     "metadata": {},
     "output_type": "display_data"
    }
   ],
   "source": [
    "# boxplot for 'hillshade_9am' 'hillshade_Noon', 'hillshade_3pm' over cover type\n",
    "data.boxplot(column =  ['hillshade_9am'],by = 'cover_type',figsize=(6,5))\n",
    "plt.show()\n",
    "data.boxplot(column =  ['hillshade_Noon'],by = 'cover_type',figsize=(6,5))\n",
    "plt.show()\n",
    "data.boxplot(column =  ['hillshade_3pm'],by = 'cover_type',figsize=(6,5))\n",
    "plt.show()"
   ]
  },
  {
   "cell_type": "markdown",
   "metadata": {
    "colab_type": "text",
    "id": "Nmflvg64UEqz"
   },
   "source": [
    "## Scale data"
   ]
  },
  {
   "cell_type": "code",
   "execution_count": 12,
   "metadata": {
    "colab": {
     "autoexec": {
      "startup": false,
      "wait_interval": 0
     }
    },
    "colab_type": "code",
    "id": "smm40QOaUEqz",
    "outputId": "0fd24ed7-aa95-4b4a-e7e3-499147b3c2d4"
   },
   "outputs": [
    {
     "name": "stderr",
     "output_type": "stream",
     "text": [
      "C:\\Users\\golam\\Anaconda3\\lib\\site-packages\\sklearn\\utils\\validation.py:475: DataConversionWarning: Data with input dtype int64 was converted to float64 by MinMaxScaler.\n",
      "  warnings.warn(msg, DataConversionWarning)\n"
     ]
    }
   ],
   "source": [
    "# Scaling the for future manupulating using the pandas data frame and the sklearn\n",
    "\n",
    "from sklearn import preprocessing\n",
    "\n",
    "#X = data.drop('cover_type',axis=1)\n",
    "X = data.drop('cover_type',axis=1).values #returns a numpy array\n",
    "y = data['cover_type']\n",
    "\n",
    "min_max_scaling = preprocessing.MinMaxScaler()\n",
    "X = min_max_scaling.fit_transform(X)\n",
    "X = pd.DataFrame(X,columns=data.columns[:-1])"
   ]
  },
  {
   "cell_type": "code",
   "execution_count": 0,
   "metadata": {
    "colab": {
     "autoexec": {
      "startup": false,
      "wait_interval": 0
     }
    },
    "colab_type": "code",
    "id": "UKMaS-fUy3Fz"
   },
   "outputs": [],
   "source": [
    "## PCA Analysis"
   ]
  },
  {
   "cell_type": "code",
   "execution_count": 13,
   "metadata": {
    "colab": {
     "autoexec": {
      "startup": false,
      "wait_interval": 0
     }
    },
    "colab_type": "code",
    "id": "H-m1hA2uy3F1",
    "outputId": "1278bec9-4496-4978-c569-2c77e3f10559"
   },
   "outputs": [
    {
     "name": "stdout",
     "output_type": "stream",
     "text": [
      "[0.3   0.384 0.453 0.516 0.566 0.614 0.655 0.689 0.719 0.747 0.77  0.792\n",
      " 0.811 0.829 0.845 0.86  0.874 0.887 0.899 0.911 0.922 0.931 0.94  0.948\n",
      " 0.955 0.961 0.966 0.97  0.974 0.977 0.98  0.983 0.985 0.987 0.989 0.991\n",
      " 0.993 0.994 0.995 0.996 0.997 0.998 0.999 1.    1.001 1.001 1.001 1.001\n",
      " 1.001 1.001 1.001 1.001 1.001 1.001]\n"
     ]
    },
    {
     "data": {
      "image/png": "[encoded data removed]",
      "text/plain": [
       "<matplotlib.figure.Figure at 0x1861b6da4e0>"
      ]
     },
     "metadata": {},
     "output_type": "display_data"
    },
    {
     "data": {
      "text/plain": [
       "0.9753621804661851"
      ]
     },
     "execution_count": 13,
     "metadata": {},
     "output_type": "execute_result"
    }
   ],
   "source": [
    "#PCA on the data and reduce its dimensionality with the help of sklearn\n",
    "\n",
    "from sklearn.decomposition import PCA\n",
    "my_pca = PCA()\n",
    "my_pca.fit_transform(X)\n",
    "pca_val = my_pca.fit_transform(X)\n",
    "#Explained variance ratio\n",
    "#print(my_pca.explained_variance_ratio_[:10])\n",
    "\n",
    "\n",
    "var=np.cumsum(np.round(my_pca.explained_variance_ratio_, decimals=3))\n",
    "print(var)\n",
    "plt.ylabel('% Variance Explained')\n",
    "plt.xlabel('# of Features')\n",
    "plt.title('PCA Analysis')\n",
    "plt.plot(var)\n",
    "plt.show()\n",
    "#Cumulative variance\n",
    "my_pca.explained_variance_ratio_[:30].sum()\n"
   ]
  },
  {
   "cell_type": "code",
   "execution_count": 14,
   "metadata": {
    "colab": {
     "autoexec": {
      "startup": false,
      "wait_interval": 0
     }
    },
    "colab_type": "code",
    "id": "f2gnD21UUEq8",
    "outputId": "ee6d0ad7-c24f-40a7-895f-a955ae97c988"
   },
   "outputs": [
    {
     "data": {
      "image/png": "[encoded data removed]",
      "text/plain": [
       "<matplotlib.figure.Figure at 0x1861db2bb70>"
      ]
     },
     "metadata": {},
     "output_type": "display_data"
    }
   ],
   "source": [
    "#Plot first two components\n",
    "plt.ylabel('PC 2')\n",
    "plt.xlabel('PC 1')\n",
    "plt.title('Plot first two PCA components')\n",
    "\n",
    "plt.scatter(pca_val[data['cover_type']==1,1],pca_val[data['cover_type']==1,0],c=colors[0])\n",
    "plt.scatter(pca_val[data['cover_type']==2,1],pca_val[data['cover_type']==2,0],c=colors[1])\n",
    "plt.scatter(pca_val[data['cover_type']==3,1],pca_val[data['cover_type']==3,0],c=colors[2])\n",
    "plt.scatter(pca_val[data['cover_type']==4,1],pca_val[data['cover_type']==4,0],c=colors[3])\n",
    "plt.scatter(pca_val[data['cover_type']==5,1],pca_val[data['cover_type']==5,0],c=colors[4])\n",
    "plt.scatter(pca_val[data['cover_type']==6,1],pca_val[data['cover_type']==6,0],c=colors[5])\n",
    "plt.scatter(pca_val[data['cover_type']==7,1],pca_val[data['cover_type']==7,0],c=colors[6])\n",
    "\n",
    "\n",
    "plt.show()"
   ]
  },
  {
   "cell_type": "code",
   "execution_count": 15,
   "metadata": {
    "colab": {
     "autoexec": {
      "startup": false,
      "wait_interval": 0
     }
    },
    "colab_type": "code",
    "id": "wRMDnKcpUEq_",
    "outputId": "8b171657-8ee3-4112-d18a-b71b81835b10"
   },
   "outputs": [
    {
     "name": "stderr",
     "output_type": "stream",
     "text": [
      "C:\\Users\\golam\\Anaconda3\\lib\\site-packages\\ipykernel_launcher.py:2: SettingWithCopyWarning: \n",
      "A value is trying to be set on a copy of a slice from a DataFrame.\n",
      "Try using .loc[row_indexer,col_indexer] = value instead\n",
      "\n",
      "See the caveats in the documentation: http://pandas.pydata.org/pandas-docs/stable/indexing.html#indexing-view-versus-copy\n",
      "  \n"
     ]
    },
    {
     "data": {
      "image/png": "[encoded data removed]",
      "text/plain": [
       "<matplotlib.figure.Figure at 0x1861d877208>"
      ]
     },
     "metadata": {},
     "output_type": "display_data"
    }
   ],
   "source": [
    "df = data[['cover_type','slope']]\n",
    "df['PCA0']= pca_val[:,0]\n",
    "df.boxplot(column =  ['PCA0'],by = 'cover_type',figsize=(6,5))\n",
    "plt.show()\n"
   ]
  },
  {
   "cell_type": "code",
   "execution_count": 0,
   "metadata": {
    "colab": {
     "autoexec": {
      "startup": false,
      "wait_interval": 0
     }
    },
    "colab_type": "code",
    "id": "se4XIj_SUErC"
   },
   "outputs": [],
   "source": []
  },
  {
   "cell_type": "markdown",
   "metadata": {
    "colab_type": "text",
    "id": "Sejw-BMwy3F5"
   },
   "source": [
    "### Predictive Modeling \n",
    "##### Bellow in the section the different classifier is been implemented  and observer their performance and the run time such as \n",
    "\n",
    "* Decision tree classifier\n",
    "* Random Forest Classifier\n",
    "* KNN Classifier\n",
    "* Naive Baise Classifier\n"
   ]
  },
  {
   "cell_type": "markdown",
   "metadata": {
    "colab_type": "text",
    "id": "1uGIe2lPUErF"
   },
   "source": [
    "###  1. Decision Tree Classifier"
   ]
  },
  {
   "cell_type": "markdown",
   "metadata": {
    "colab_type": "text",
    "id": "eExy3R5uy3F5"
   },
   "source": [
    "### Shuffle and Generate Train and Test datasets\n",
    "#### Let's split up the data into a training set and a test set! We used sklearn to split the data in test and train where we keep the test size as 30%"
   ]
  },
  {
   "cell_type": "code",
   "execution_count": 16,
   "metadata": {
    "colab": {
     "autoexec": {
      "startup": false,
      "wait_interval": 0
     }
    },
    "colab_type": "code",
    "id": "VFBpNbfiy3F6"
   },
   "outputs": [],
   "source": [
    "from sklearn.model_selection import train_test_split\n",
    "\n",
    "# Shuffle the data to get more accuricy\n",
    "data=shuffle(data)\n",
    "\n",
    "# Make Test and training sets\n",
    "X_train, X_test, y_train, y_test = train_test_split(X, y, test_size=0.30)"
   ]
  },
  {
   "cell_type": "markdown",
   "metadata": {
    "colab_type": "text",
    "id": "C_bbAEm2y3F8"
   },
   "source": []
  },
  {
   "cell_type": "markdown",
   "metadata": {
    "colab_type": "text",
    "id": "4gkm-EKDy3F8"
   },
   "source": [
    "### Decision Trees\n",
    "#### We'll start just by training a single decision tree."
   ]
  },
  {
   "cell_type": "code",
   "execution_count": 17,
   "metadata": {
    "colab": {
     "autoexec": {
      "startup": false,
      "wait_interval": 0
     }
    },
    "colab_type": "code",
    "id": "mxPy6jCJy3F9",
    "outputId": "c31ac903-7510-4d92-d394-08a6aafc34a8"
   },
   "outputs": [
    {
     "name": "stdout",
     "output_type": "stream",
     "text": [
      "Total running time on fiting the decision tree: 0:0:5.\n"
     ]
    }
   ],
   "source": [
    "from sklearn.tree import DecisionTreeClassifier\n",
    "\n",
    "startTime = time.time() # track the start time for calculate the timing of fitting the model of decission tree\n",
    "dtree = DecisionTreeClassifier()\n",
    "dtree.fit(X_train,y_train)\n",
    "\n",
    "# Executing time \n",
    "total_time=time.time() - startTime\n",
    "mins, secs = divmod(total_time, 60)\n",
    "hours, mins = divmod(mins, 60)\n",
    "sys.stdout.write(\"Total running time on fiting the decision tree: %d:%d:%d.\\n\" % (hours, mins, secs))"
   ]
  },
  {
   "cell_type": "markdown",
   "metadata": {
    "colab_type": "text",
    "id": "02cRzuvcy3GB"
   },
   "source": []
  },
  {
   "cell_type": "markdown",
   "metadata": {
    "colab_type": "text",
    "id": "RFHnixSwy3GC"
   },
   "source": [
    "### Prediction and Evaluation for Decision tree\n",
    "#### Let's evaluate our decision tree."
   ]
  },
  {
   "cell_type": "code",
   "execution_count": 18,
   "metadata": {
    "colab": {
     "autoexec": {
      "startup": false,
      "wait_interval": 0
     }
    },
    "colab_type": "code",
    "id": "LkxO3mi8y3GD"
   },
   "outputs": [],
   "source": [
    "predictions = dtree.predict(X_test)"
   ]
  },
  {
   "cell_type": "code",
   "execution_count": 19,
   "metadata": {
    "colab": {
     "autoexec": {
      "startup": false,
      "wait_interval": 0
     }
    },
    "colab_type": "code",
    "id": "SUhpT9Swy3GF"
   },
   "outputs": [],
   "source": [
    "from sklearn.metrics import classification_report,confusion_matrix"
   ]
  },
  {
   "cell_type": "code",
   "execution_count": 20,
   "metadata": {
    "colab": {
     "autoexec": {
      "startup": false,
      "wait_interval": 0
     }
    },
    "colab_type": "code",
    "id": "249pyGSjy3GH",
    "outputId": "91332224-5fb4-4795-ab3c-33f6da9fd014"
   },
   "outputs": [
    {
     "name": "stdout",
     "output_type": "stream",
     "text": [
      "Classification Report - Test\n",
      "             precision    recall  f1-score   support\n",
      "\n",
      "          1       0.93      0.94      0.94     63498\n",
      "          2       0.95      0.95      0.95     85079\n",
      "          3       0.92      0.92      0.92     10631\n",
      "          4       0.83      0.82      0.83       796\n",
      "          5       0.83      0.82      0.83      2936\n",
      "          6       0.87      0.86      0.87      5293\n",
      "          7       0.94      0.94      0.94      6071\n",
      "\n",
      "avg / total       0.94      0.94      0.94    174304\n",
      "\n"
     ]
    }
   ],
   "source": [
    "print (\"Classification Report - Test\")\n",
    "print(classification_report(y_test,predictions))"
   ]
  },
  {
   "cell_type": "code",
   "execution_count": 21,
   "metadata": {
    "colab": {
     "autoexec": {
      "startup": false,
      "wait_interval": 0
     }
    },
    "colab_type": "code",
    "id": "jNL9gFMcy3GO",
    "outputId": "2d326417-e533-4431-c558-af9dd512199f"
   },
   "outputs": [
    {
     "name": "stdout",
     "output_type": "stream",
     "text": [
      "[[59517  3600     4     0    35    10   332]\n",
      " [ 3782 80419   240     2   392   192    52]\n",
      " [    8   244  9825    91    31   432     0]\n",
      " [    0     1    98   656     0    41     0]\n",
      " [   56   442    28     0  2401     8     1]\n",
      " [    9   186   465    40    17  4576     0]\n",
      " [  327    35     0     0     0     0  5709]]\n"
     ]
    }
   ],
   "source": [
    "print(confusion_matrix(y_test,predictions))"
   ]
  },
  {
   "cell_type": "code",
   "execution_count": 0,
   "metadata": {
    "colab": {
     "autoexec": {
      "startup": false,
      "wait_interval": 0
     }
    },
    "colab_type": "code",
    "id": "4YG0gl2YUEra"
   },
   "outputs": [],
   "source": []
  },
  {
   "cell_type": "code",
   "execution_count": 22,
   "metadata": {
    "colab": {
     "autoexec": {
      "startup": false,
      "wait_interval": 0
     }
    },
    "colab_type": "code",
    "id": "bwCcRaity3GR",
    "outputId": "e2434cf2-50ce-4372-d1a8-157c171ffc15"
   },
   "outputs": [
    {
     "name": "stderr",
     "output_type": "stream",
     "text": [
      "C:\\Users\\golam\\Anaconda3\\lib\\site-packages\\sklearn\\grid_search.py:42: DeprecationWarning: This module was deprecated in version 0.18 in favor of the model_selection module into which all the refactored classes and functions are moved. This module will be removed in 0.20.\n",
      "  DeprecationWarning)\n"
     ]
    },
    {
     "name": "stdout",
     "output_type": "stream",
     "text": [
      "Grid search mean and stdev:\n",
      "\n",
      "0.770 (+/-0.004) for {'criterion': 'entropy', 'max_depth': 10, 'splitter': 'best'}\n",
      "0.731 (+/-0.016) for {'criterion': 'entropy', 'max_depth': 10, 'splitter': 'random'}\n",
      "0.905 (+/-0.003) for {'criterion': 'entropy', 'max_depth': 20, 'splitter': 'best'}\n",
      "0.855 (+/-0.009) for {'criterion': 'entropy', 'max_depth': 20, 'splitter': 'random'}\n",
      "0.926 (+/-0.001) for {'criterion': 'entropy', 'max_depth': 30, 'splitter': 'best'}\n",
      "0.910 (+/-0.009) for {'criterion': 'entropy', 'max_depth': 30, 'splitter': 'random'}\n",
      "0.927 (+/-0.003) for {'criterion': 'entropy', 'max_depth': 40, 'splitter': 'best'}\n",
      "0.918 (+/-0.000) for {'criterion': 'entropy', 'max_depth': 40, 'splitter': 'random'}\n",
      "0.927 (+/-0.002) for {'criterion': 'entropy', 'max_depth': 50, 'splitter': 'best'}\n",
      "0.918 (+/-0.003) for {'criterion': 'entropy', 'max_depth': 50, 'splitter': 'random'}\n",
      "0.927 (+/-0.002) for {'criterion': 'entropy', 'max_depth': 60, 'splitter': 'best'}\n",
      "0.919 (+/-0.003) for {'criterion': 'entropy', 'max_depth': 60, 'splitter': 'random'}\n",
      "0.776 (+/-0.003) for {'criterion': 'gini', 'max_depth': 10, 'splitter': 'best'}\n",
      "0.721 (+/-0.029) for {'criterion': 'gini', 'max_depth': 10, 'splitter': 'random'}\n",
      "0.895 (+/-0.002) for {'criterion': 'gini', 'max_depth': 20, 'splitter': 'best'}\n",
      "0.846 (+/-0.029) for {'criterion': 'gini', 'max_depth': 20, 'splitter': 'random'}\n",
      "0.921 (+/-0.001) for {'criterion': 'gini', 'max_depth': 30, 'splitter': 'best'}\n",
      "0.910 (+/-0.006) for {'criterion': 'gini', 'max_depth': 30, 'splitter': 'random'}\n",
      "0.921 (+/-0.001) for {'criterion': 'gini', 'max_depth': 40, 'splitter': 'best'}\n",
      "0.915 (+/-0.002) for {'criterion': 'gini', 'max_depth': 40, 'splitter': 'random'}\n",
      "0.921 (+/-0.001) for {'criterion': 'gini', 'max_depth': 50, 'splitter': 'best'}\n",
      "0.915 (+/-0.001) for {'criterion': 'gini', 'max_depth': 50, 'splitter': 'random'}\n",
      "0.922 (+/-0.001) for {'criterion': 'gini', 'max_depth': 60, 'splitter': 'best'}\n",
      "0.915 (+/-0.004) for {'criterion': 'gini', 'max_depth': 60, 'splitter': 'random'}\n",
      "\n",
      "Best parameters: {'criterion': 'entropy', 'max_depth': 40, 'splitter': 'best'}\n",
      "\n",
      "Classification report ({}):\n",
      "\n",
      "             precision    recall  f1-score   support\n",
      "\n",
      "          1       0.94      0.94      0.94     63498\n",
      "          2       0.95      0.95      0.95     85079\n",
      "          3       0.93      0.93      0.93     10631\n",
      "          4       0.87      0.84      0.85       796\n",
      "          5       0.84      0.84      0.84      2936\n",
      "          6       0.88      0.89      0.88      5293\n",
      "          7       0.95      0.95      0.95      6071\n",
      "\n",
      "avg / total       0.94      0.94      0.94    174304\n",
      "\n",
      "Total running time for grid search in Decission tree: 0:2:46.\n"
     ]
    }
   ],
   "source": [
    "# Perform grid search\n",
    "from sklearn.grid_search import GridSearchCV\n",
    "\n",
    "startTime = time.time() # track the start time for calculate the timing of grid search\n",
    "\n",
    "param_grid = [\n",
    "    {'max_depth': [10,20,30,40,50,60], 'criterion': ['entropy', 'gini'],'splitter' : ['best', 'random']}\n",
    "]\n",
    "tree = GridSearchCV(DecisionTreeClassifier(), param_grid)\n",
    "tree.fit(X_train, y_train)\n",
    "\n",
    "# Print grid search results\n",
    "print('Grid search mean and stdev:\\n')\n",
    "for params, mean_score, scores in tree.grid_scores_:\n",
    "    print(\"{:0.3f} (+/-{:0.03f}) for {}\".format(\n",
    "            mean_score, scores.std() * 2, params))\n",
    "\n",
    "# Print best params\n",
    "print('\\nBest parameters:', tree.best_params_)\n",
    "\n",
    "print('\\nClassification report ({}):\\n')\n",
    "print(classification_report(y_test, tree.predict(X_test)))\n",
    "\n",
    "# Executing time \n",
    "total_time=time.time() - startTime\n",
    "mins, secs = divmod(total_time, 60)\n",
    "hours, mins = divmod(mins, 60)\n",
    "sys.stdout.write(\"Total running time for grid search in Decission tree: %d:%d:%d.\\n\" % (hours, mins, secs))"
   ]
  },
  {
   "cell_type": "markdown",
   "metadata": {
    "colab_type": "text",
    "id": "SQsA4Viay3GT"
   },
   "source": [
    "###  2. Now lets see the performance of Random forest\n",
    "   * Create an instance of the RandomForestClassifier class and fit it to our training data from the previous step."
   ]
  },
  {
   "cell_type": "code",
   "execution_count": 23,
   "metadata": {
    "colab": {
     "autoexec": {
      "startup": false,
      "wait_interval": 0
     }
    },
    "colab_type": "code",
    "id": "T_YmbN_Sy3GU"
   },
   "outputs": [],
   "source": [
    "from sklearn.ensemble import RandomForestClassifier"
   ]
  },
  {
   "cell_type": "code",
   "execution_count": 24,
   "metadata": {
    "colab": {
     "autoexec": {
      "startup": false,
      "wait_interval": 0
     }
    },
    "colab_type": "code",
    "id": "A87sg3gEy3GW"
   },
   "outputs": [],
   "source": [
    "rfc = RandomForestClassifier(n_estimators=100)\n"
   ]
  },
  {
   "cell_type": "code",
   "execution_count": 25,
   "metadata": {
    "colab": {
     "autoexec": {
      "startup": false,
      "wait_interval": 0
     }
    },
    "colab_type": "code",
    "id": "qNpJhwjRy3GY",
    "outputId": "3be7a4e9-6aed-4689-dcf6-6889193dda66"
   },
   "outputs": [
    {
     "name": "stdout",
     "output_type": "stream",
     "text": [
      "Total running time to fit the random forest model: 0:1:13.\n"
     ]
    }
   ],
   "source": [
    "startTime = time.time() # track the start time for calculate the timing fiting the model\n",
    "\n",
    "rfc.fit(X_train,y_train)\n",
    "\n",
    "# Executing time \n",
    "total_time=time.time() - startTime\n",
    "mins, secs = divmod(total_time, 60)\n",
    "hours, mins = divmod(mins, 60)\n",
    "sys.stdout.write(\"Total running time to fit the random forest model: %d:%d:%d.\\n\" % (hours, mins, secs))\n"
   ]
  },
  {
   "cell_type": "markdown",
   "metadata": {
    "colab_type": "text",
    "id": "xREeWHszy3Gb"
   },
   "source": [
    "#### Predictions and Evaluation of Random forest\n"
   ]
  },
  {
   "cell_type": "code",
   "execution_count": 26,
   "metadata": {
    "colab": {
     "autoexec": {
      "startup": false,
      "wait_interval": 0
     }
    },
    "colab_type": "code",
    "id": "unOOzvZMy3Gc",
    "outputId": "d63b1779-fd16-4f67-f668-034cf052ddce"
   },
   "outputs": [
    {
     "name": "stdout",
     "output_type": "stream",
     "text": [
      "             precision    recall  f1-score   support\n",
      "\n",
      "          1       0.96      0.94      0.95     63498\n",
      "          2       0.95      0.97      0.96     85079\n",
      "          3       0.93      0.96      0.95     10631\n",
      "          4       0.92      0.85      0.89       796\n",
      "          5       0.94      0.76      0.84      2936\n",
      "          6       0.93      0.88      0.91      5293\n",
      "          7       0.97      0.94      0.96      6071\n",
      "\n",
      "avg / total       0.95      0.95      0.95    174304\n",
      "\n",
      "Total running time to predect the random forest: 0:0:5.\n"
     ]
    }
   ],
   "source": [
    "from sklearn.metrics import classification_report,confusion_matrix\n",
    "\n",
    "startTime = time.time() # track the start time for calculate the timing\n",
    "\n",
    "predictions = rfc.predict(X_test)\n",
    "print(classification_report(y_test,predictions))\n",
    "\n",
    "# Executing time for making the classification report on random forest\n",
    "total_time=time.time() - startTime\n",
    "mins, secs = divmod(total_time, 60)\n",
    "hours, mins = divmod(mins, 60)\n",
    "\n",
    "sys.stdout.write(\"Total running time to predect the random forest: %d:%d:%d.\\n\" % (hours, mins, secs))"
   ]
  },
  {
   "cell_type": "markdown",
   "metadata": {
    "colab_type": "text",
    "id": "vLB-Xd88y3Ge"
   },
   "source": [
    "#### Show the Confusion Matrix for the predictions."
   ]
  },
  {
   "cell_type": "code",
   "execution_count": 27,
   "metadata": {
    "colab": {
     "autoexec": {
      "startup": false,
      "wait_interval": 0
     }
    },
    "colab_type": "code",
    "id": "N7IT0fa8y3Gg",
    "outputId": "02d6bd36-23bc-4aa2-ee8c-a825f69aa78a"
   },
   "outputs": [
    {
     "name": "stdout",
     "output_type": "stream",
     "text": [
      "[[59754  3571     1     0    16     6   150]\n",
      " [ 2021 82660   171     0   112    97    18]\n",
      " [    3   185 10181    38    12   212     0]\n",
      " [    0     0    91   677     0    28     0]\n",
      " [   49   630    32     0  2217     8     0]\n",
      " [    2   153   433    18     3  4684     0]\n",
      " [  298    37     0     0     0     0  5736]]\n"
     ]
    }
   ],
   "source": [
    "print(confusion_matrix(y_test,predictions))"
   ]
  },
  {
   "cell_type": "markdown",
   "metadata": {
    "colab_type": "text",
    "id": "oUQFninry3Gj"
   },
   "source": [
    "* From the above result we can see the performance of both of the decision tree and the random forest is almost same, just a little bit better in decission tree algorithm, \n",
    "    however random forest algorithm was taking extra time to execute the program. "
   ]
  },
  {
   "cell_type": "code",
   "execution_count": 0,
   "metadata": {
    "colab": {
     "autoexec": {
      "startup": false,
      "wait_interval": 0
     }
    },
    "colab_type": "code",
    "id": "vK4AIsBMUErp"
   },
   "outputs": [],
   "source": []
  },
  {
   "cell_type": "markdown",
   "metadata": {
    "colab_type": "text",
    "id": "FqKv2UpVy3Gk"
   },
   "source": [
    "### 3. K-Nearest Neighbour algorithm"
   ]
  },
  {
   "cell_type": "code",
   "execution_count": 28,
   "metadata": {
    "colab": {
     "autoexec": {
      "startup": false,
      "wait_interval": 0
     }
    },
    "colab_type": "code",
    "id": "d4GCxuSTy3Gl"
   },
   "outputs": [],
   "source": [
    "#Divide data into K-parts (each parts will have training and test set)\n",
    "def KFoldCustom(data, K):\n",
    "        Y=data.iloc[:, -1].values\n",
    "       \n",
    "       # Y=df.iloc[:, 1].values\n",
    "\n",
    "        #df.drop(df.columns[[1, 0]], axis=1, inplace=True)\n",
    "\n",
    "        N=len(data)\n",
    "\n",
    "        k=int(N/K)\n",
    "        n=0\n",
    "        i=0\n",
    "        x_trains, x_tests, y_trains, y_tests=[],[],[],[]\n",
    "        listR2=[]\n",
    "        \n",
    "         #Loop over all data to get it divided into K-parts trainng and test sets\n",
    "        while n<=N:\n",
    "\n",
    "            x_test=data[n:n+k]\n",
    "            x_train=data.drop(data.index[n:n+k])\n",
    "\n",
    "            y_test=Y[n:n+k]\n",
    "        \n",
    "            my_list=list(Y)\n",
    "            del my_list[n:n+k]\n",
    "\n",
    "            y_train=np.array(my_list)\n",
    "            \n",
    "            #print(n, k, x_train.shape, x_test.shape, y_test.shape)\n",
    "            n +=k\n",
    "            if i<=K:\n",
    "               \n",
    "                x_trains.append(x_train)\n",
    "                x_tests.append(x_test)\n",
    "                y_trains.append(y_train)\n",
    "                y_tests.append(y_test)\n",
    "            i +=1\n",
    "            \n",
    "            #print(len(x_trains))\n",
    "        return x_trains, x_tests, y_trains, y_tests\n",
    "\n",
    "\n"
   ]
  },
  {
   "cell_type": "code",
   "execution_count": 29,
   "metadata": {
    "colab": {
     "autoexec": {
      "startup": false,
      "wait_interval": 0
     }
    },
    "colab_type": "code",
    "id": "gcdQeV39y3Gm",
    "outputId": "e95f289a-dba4-4dec-ffcb-aee553522ef2"
   },
   "outputs": [
    {
     "name": "stdout",
     "output_type": "stream",
     "text": [
      "--------------------Accuracy in Iteration:0----------------------------\n",
      "0.9691313402523193\n",
      "Classification report :\n",
      "             precision    recall  f1-score   support\n",
      "\n",
      "          1       0.97      0.97      0.97     42294\n",
      "          2       0.97      0.97      0.97     56711\n",
      "          3       0.96      0.97      0.97      7050\n",
      "          4       0.90      0.81      0.85       534\n",
      "          5       0.90      0.90      0.90      1916\n",
      "          6       0.95      0.94      0.94      3607\n",
      "          7       0.98      0.97      0.97      4090\n",
      "\n",
      "avg / total       0.97      0.97      0.97    116202\n",
      "\n",
      "Predicted      1      2     3    4     5     6     7\n",
      "Actual                                              \n",
      "1          40994   1188     2    0    25     5    80\n",
      "2           1165  55278    60    0   147    50    11\n",
      "3              1     75  6824   33    10   107     0\n",
      "4              0      1    66  435     0    32     0\n",
      "5             21    144    15    0  1732     3     1\n",
      "6              4     84   111   16     2  3390     0\n",
      "7            111     17     0    0     0     0  3962\n",
      "--------------------Accuracy in Iteration:1----------------------------\n",
      "0.9687096607631538\n",
      "Classification report :\n",
      "             precision    recall  f1-score   support\n",
      "\n",
      "          1       0.97      0.97      0.97     42169\n",
      "          2       0.97      0.98      0.97     56813\n",
      "          3       0.97      0.97      0.97      7148\n",
      "          4       0.90      0.83      0.86       573\n",
      "          5       0.91      0.91      0.91      1921\n",
      "          6       0.94      0.94      0.94      3387\n",
      "          7       0.97      0.97      0.97      4191\n",
      "\n",
      "avg / total       0.97      0.97      0.97    116202\n",
      "\n",
      "Predicted      1      2     3    4     5     6     7\n",
      "Actual                                              \n",
      "1          40780   1268     1    0    25     2    93\n",
      "2           1145  55394    62    0   134    64    14\n",
      "3              3     77  6913   34     9   112     0\n",
      "4              0      1    61  475     0    36     0\n",
      "5             19    134     9    0  1755     4     0\n",
      "6              8     65   112   18     6  3178     0\n",
      "7            100     19     0    0     1     0  4071\n",
      "--------------------Accuracy in Iteration:2----------------------------\n",
      "0.969492779814461\n",
      "Classification report :\n",
      "             precision    recall  f1-score   support\n",
      "\n",
      "          1       0.97      0.97      0.97     42335\n",
      "          2       0.97      0.98      0.97     56696\n",
      "          3       0.96      0.97      0.97      7186\n",
      "          4       0.92      0.80      0.86       553\n",
      "          5       0.92      0.89      0.91      1883\n",
      "          6       0.95      0.94      0.95      3481\n",
      "          7       0.97      0.97      0.97      4068\n",
      "\n",
      "avg / total       0.97      0.97      0.97    116202\n",
      "\n",
      "Predicted      1      2     3    4     5     6     7\n",
      "Actual                                              \n",
      "1          41028   1201     0    0    15     4    87\n",
      "2           1135  55306    65    1   121    49    19\n",
      "3              2     90  6968   25     9    92     0\n",
      "4              0      1    77  443     0    32     0\n",
      "5             18    156    23    0  1683     3     0\n",
      "6              4     60   115   10     7  3285     0\n",
      "7            110     14     0    0     0     0  3944\n",
      "--------------------Accuracy in Iteration:3----------------------------\n",
      "0.9692690315140875\n",
      "Classification report :\n",
      "             precision    recall  f1-score   support\n",
      "\n",
      "          1       0.97      0.97      0.97     42430\n",
      "          2       0.97      0.98      0.97     56611\n",
      "          3       0.96      0.97      0.97      7237\n",
      "          4       0.90      0.80      0.85       543\n",
      "          5       0.92      0.89      0.90      1877\n",
      "          6       0.95      0.95      0.95      3449\n",
      "          7       0.97      0.97      0.97      4055\n",
      "\n",
      "avg / total       0.97      0.97      0.97    116202\n",
      "\n",
      "Predicted      1      2     3    4     5     6     7\n",
      "Actual                                              \n",
      "1          41084   1220     1    0    15     0   110\n",
      "2           1115  55240    74    0   114    50    18\n",
      "3              1     80  7007   37     6   106     0\n",
      "4              0      2    77  435     0    29     0\n",
      "5             20    172    17    0  1665     3     0\n",
      "6              3     67   100   14     4  3261     0\n",
      "7             95     19     0    0     2     0  3939\n",
      "--------------------Accuracy in Iteration:4----------------------------\n",
      "0.96831379838557\n",
      "Classification report :\n",
      "             precision    recall  f1-score   support\n",
      "\n",
      "          1       0.97      0.97      0.97     42611\n",
      "          2       0.97      0.97      0.97     56469\n",
      "          3       0.96      0.97      0.96      7133\n",
      "          4       0.93      0.80      0.86       544\n",
      "          5       0.92      0.88      0.90      1896\n",
      "          6       0.94      0.93      0.94      3443\n",
      "          7       0.97      0.97      0.97      4106\n",
      "\n",
      "avg / total       0.97      0.97      0.97    116202\n",
      "\n",
      "Predicted      1      2     3    4     5     6     7\n",
      "Actual                                              \n",
      "1          41280   1213     0    0    17     3    98\n",
      "2           1182  55029    77    0   113    53    15\n",
      "3              1     82  6913   24     8   105     0\n",
      "4              0      0    74  435     0    35     0\n",
      "5             29    174    15    0  1671     7     0\n",
      "6              5     87   130   11     5  3205     0\n",
      "7             90     29     0    0     0     0  3987\n",
      "Average accuracy using K-Fold cross validation: 0.9689833221459183\n",
      "\n",
      "Total running time in KNN: 0:1:23.\n"
     ]
    }
   ],
   "source": [
    "from sklearn.neighbors import KNeighborsClassifier\n",
    "from sklearn.metrics import confusion_matrix\n",
    "from sklearn.metrics import accuracy_score\n",
    "from sklearn.metrics import classification_report\n",
    "\n",
    "startTime = time.time() # track the start time for calculate the timing\n",
    "\n",
    "K=5\n",
    "x_trains, x_tests, y_trains, y_tests = KFoldCustom(data, K)\n",
    "\n",
    "sum1=0\n",
    "for i in range(0, K):\n",
    "    \n",
    "    # instantiate learning model (k = 3)\n",
    "    knn = KNeighborsClassifier(n_neighbors=3)\n",
    "    # fitting the model\n",
    "    knn.fit(x_trains[i], y_trains[i])\n",
    "    # predict the response\n",
    "    \n",
    "    #model=knn.fit(x_trains[i], y_trains[i])\n",
    "    y_pred=knn.predict(x_tests[i])\n",
    "    \n",
    "   # evaluate accuracy\n",
    "    #print (accuracy_score(y_test, y_pred))\n",
    "    #\n",
    "\n",
    "    acc = accuracy_score(y_tests[i], y_pred)\n",
    "    sum1 +=acc\n",
    "    print('----'*5 + 'Accuracy in ' + 'Iteration:' + str(i) + '----'*7)\n",
    "    print(acc)\n",
    "    \n",
    "    #key=', '.join(['{}={}'.format(i,name) for i,name in enumerate(iris.target_names)])\n",
    "    print('Classification report :')\n",
    "    print(classification_report(y_tests[i], y_pred))\n",
    "\n",
    "\n",
    "    #print('Confusion matrix ({}):\\n'.format(key))\n",
    "    y_actu = pd.Series(y_tests[i], name='Actual')\n",
    "    y_pred = pd.Series(knn.predict(x_tests[i]), name='Predicted')\n",
    "    confusion = pd.crosstab(y_actu, y_pred)\n",
    "    print(confusion)\n",
    "    \n",
    "print('Average accuracy using K-Fold cross validation:', sum1/K)\n",
    "print('')\n",
    "\n",
    "# Executing time for making the classification report on KNN\n",
    "total_time=time.time() - startTime\n",
    "mins, secs = divmod(total_time, 60)\n",
    "hours, mins = divmod(mins, 60)\n",
    "\n",
    "sys.stdout.write(\"Total running time in KNN: %d:%d:%d.\\n\" % (hours, mins, secs))\n"
   ]
  },
  {
   "cell_type": "code",
   "execution_count": 0,
   "metadata": {
    "colab": {
     "autoexec": {
      "startup": false,
      "wait_interval": 0
     }
    },
    "colab_type": "code",
    "id": "4-Y_KqihUEr0"
   },
   "outputs": [],
   "source": []
  },
  {
   "cell_type": "code",
   "execution_count": 0,
   "metadata": {
    "colab": {
     "autoexec": {
      "startup": false,
      "wait_interval": 0
     }
    },
    "colab_type": "code",
    "id": "RZYYhsTLUEr3"
   },
   "outputs": [],
   "source": []
  },
  {
   "cell_type": "code",
   "execution_count": 0,
   "metadata": {
    "colab": {
     "autoexec": {
      "startup": false,
      "wait_interval": 0
     }
    },
    "colab_type": "code",
    "id": "dA2-XK1kUEr7"
   },
   "outputs": [],
   "source": [
    "\n"
   ]
  },
  {
   "cell_type": "markdown",
   "metadata": {
    "colab_type": "text",
    "id": "H6v32fKtUEr8"
   },
   "source": [
    "### 4.  Naive Bayes"
   ]
  },
  {
   "cell_type": "code",
   "execution_count": 30,
   "metadata": {
    "colab": {
     "autoexec": {
      "startup": false,
      "wait_interval": 0
     }
    },
    "colab_type": "code",
    "id": "GsxIByEjUEr8",
    "outputId": "f258074c-8876-4c85-ea69-3a83f04c294f"
   },
   "outputs": [
    {
     "name": "stdout",
     "output_type": "stream",
     "text": [
      "--------------------Accuracy in Iteration:0----------------------------\n",
      "0.7177855190598473\n",
      "Classification report :\n",
      "             precision    recall  f1-score   support\n",
      "\n",
      "          1       0.77      0.55      0.64    106119\n",
      "          2       0.68      0.85      0.76    141581\n",
      "          3       0.67      0.94      0.78     17807\n",
      "          4       0.57      0.18      0.28      1361\n",
      "          5       0.44      0.07      0.12      4683\n",
      "          6       0.96      0.59      0.73      8693\n",
      "          7       1.00      0.81      0.89     10262\n",
      "\n",
      "avg / total       0.73      0.72      0.71    290506\n",
      "\n",
      "Predicted      1       2      3    4    5     6     7\n",
      "Actual                                               \n",
      "1          58004   48031     84    0    0     0     0\n",
      "2          17148  119879   4551    3    0     0     0\n",
      "3              0     860  16715  161   23    48     0\n",
      "4              0       0    997  250    0   114     0\n",
      "5              0    3844    452    0  311    76     0\n",
      "6              0     997   2245   27  326  5098     0\n",
      "7              0    1903     43    0   52     0  8264\n",
      "--------------------Accuracy in Iteration:1----------------------------\n",
      "0.7167493958816685\n",
      "Classification report :\n",
      "             precision    recall  f1-score   support\n",
      "\n",
      "          1       0.77      0.54      0.64    105721\n",
      "          2       0.68      0.85      0.76    141720\n",
      "          3       0.66      0.93      0.77     17947\n",
      "          4       0.61      0.25      0.36      1386\n",
      "          5       0.45      0.06      0.11      4810\n",
      "          6       0.97      0.58      0.73      8674\n",
      "          7       1.00      0.82      0.90     10248\n",
      "\n",
      "avg / total       0.73      0.72      0.71    290506\n",
      "\n",
      "Predicted      1       2      3    4    5     6     7\n",
      "Actual                                               \n",
      "1          57614   48009     98    0    0     0     0\n",
      "2          17175  119766   4770    2    0     7     0\n",
      "3              0     938  16744  182   28    55     0\n",
      "4              0       0   1014  350    0    22     0\n",
      "5              0    3940    501    0  289    80     0\n",
      "6              0    1032   2283   41  256  5062     0\n",
      "7              0    1744     35    0   74     0  8395\n",
      "Average accuracy using K-Fold cross validation: 0.7172674574707579\n",
      "\n",
      "Total running time to predect IN Naive base: 0:0:1.\n"
     ]
    }
   ],
   "source": [
    "from sklearn.grid_search import GridSearchCV\n",
    "from sklearn.cross_validation import train_test_split\n",
    "from sklearn.naive_bayes import MultinomialNB\n",
    "\n",
    "# Use scalled data for Naive Bayer classifier\n",
    "startTime = time.time() # track the start time for calculate the timing\n",
    "\n",
    "X_ = X.copy()\n",
    "X_['cover_type']=y\n",
    "\n",
    "#Shuffel the data set\n",
    "X_=shuffle(X_)\n",
    "\n",
    "#Get k-fold \n",
    "K=2\n",
    "x_trains, x_tests, y_trains, y_tests = KFoldCustom(X_, K)\n",
    "\n",
    "sum1=0\n",
    "for i in range(0, K):\n",
    "    \n",
    "\n",
    "    mdl = MultinomialNB(alpha=0.01)\n",
    "    # fitting the model\n",
    "    mdl.fit(x_trains[i], y_trains[i])\n",
    "    # predict the response\n",
    "    \n",
    "    #model=knn.fit(x_trains[i], y_trains[i])\n",
    "    y_pred=mdl.predict(x_tests[i])\n",
    "    \n",
    "   # evaluate accuracy\n",
    "    #print (accuracy_score(y_test, y_pred))\n",
    "    #\n",
    "\n",
    "    acc = accuracy_score(y_tests[i], y_pred)\n",
    "    sum1 +=acc\n",
    "    print('----'*5 + 'Accuracy in ' + 'Iteration:' + str(i) + '----'*7)\n",
    "    print(acc)\n",
    "    \n",
    "    #key=', '.join(['{}={}'.format(i,name) for i,name in enumerate(iris.target_names)])\n",
    "    print('Classification report :')\n",
    "    print(classification_report(y_tests[i], y_pred))\n",
    "\n",
    "\n",
    "    #print('Confusion matrix ({}):\\n'.format(key))\n",
    "    y_actu = pd.Series(y_tests[i], name='Actual')\n",
    "    y_pred = pd.Series(mdl.predict(x_tests[i]), name='Predicted')\n",
    "    confusion = pd.crosstab(y_actu, y_pred)\n",
    "    print(confusion)\n",
    "    \n",
    "print('Average accuracy using K-Fold cross validation:', sum1/K)\n",
    "print('')\n",
    "\n",
    "# Executing time for making the classification report on Naive base\n",
    "total_time=time.time() - startTime\n",
    "mins, secs = divmod(total_time, 60)\n",
    "hours, mins = divmod(mins, 60)\n",
    "\n",
    "sys.stdout.write(\"Total running time to predect IN Naive base: %d:%d:%d.\\n\" % (hours, mins, secs))"
   ]
  },
  {
   "cell_type": "markdown",
   "metadata": {
    "colab_type": "text",
    "id": "3mksvrjrUEr-"
   },
   "source": [
    "## Find Alpha for Naive Bayes"
   ]
  },
  {
   "cell_type": "code",
   "execution_count": 31,
   "metadata": {
    "colab": {
     "autoexec": {
      "startup": false,
      "wait_interval": 0
     }
    },
    "colab_type": "code",
    "id": "_YMXGa3DUEr_",
    "outputId": "e9af1545-c646-4757-ee9a-2172c2b8bd05"
   },
   "outputs": [
    {
     "name": "stdout",
     "output_type": "stream",
     "text": [
      "Grid search mean and stdev:\n",
      "\n",
      "0.641 (+/-0.000) for {'alpha': 10}\n",
      "0.642 (+/-0.001) for {'alpha': 1}\n",
      "0.642 (+/-0.001) for {'alpha': 0.1}\n",
      "0.642 (+/-0.001) for {'alpha': 0.001}\n",
      "0.642 (+/-0.001) for {'alpha': 0.0001}\n",
      "\n",
      "Best parameters: {'alpha': 1}\n",
      "             precision    recall  f1-score   support\n",
      "\n",
      "          1       0.66      0.47      0.55     63498\n",
      "          2       0.65      0.81      0.72     85079\n",
      "          3       0.55      0.93      0.69     10631\n",
      "          4       0.57      0.14      0.23       796\n",
      "          5       0.00      0.00      0.00      2936\n",
      "          6       0.55      0.03      0.06      5293\n",
      "          7       0.68      0.56      0.62      6071\n",
      "\n",
      "avg / total       0.64      0.64      0.62    174304\n",
      "\n",
      "Total running time to predect IN Logistic regration: 0:0:3.\n"
     ]
    }
   ],
   "source": [
    "from sklearn.naive_bayes import MultinomialNB\n",
    "from sklearn.grid_search import GridSearchCV\n",
    "from sklearn.cross_validation import train_test_split\n",
    "\n",
    "startTime = time.time() # track the start time for calculate the timing\n",
    "\n",
    "\n",
    "# Perform grid search\n",
    "param_grid = [\n",
    "    {'alpha': [ 10,1, 0.1,0.001,0.0001]}\n",
    "]\n",
    "nb = GridSearchCV(MultinomialNB(), param_grid)\n",
    "nb.fit(X_train, y_train)\n",
    "\n",
    "# Print grid search results\n",
    "print('Grid search mean and stdev:\\n')\n",
    "for params, mean_score, scores in nb.grid_scores_:\n",
    "    print(\"{:0.3f} (+/-{:0.03f}) for {}\".format(\n",
    "            mean_score, scores.std() * 2, params))\n",
    "\n",
    "# Print best params\n",
    "print('\\nBest parameters:', nb.best_params_)\n",
    "\n",
    "#print('\\nClassification report ({}):\\n'.format(key))\n",
    "print(classification_report(y_test, nb.predict(X_test)))\n",
    "\n",
    "# Executing time for making the classification report on logistic regration\n",
    "total_time=time.time() - startTime\n",
    "mins, secs = divmod(total_time, 60)\n",
    "hours, mins = divmod(mins, 60)\n",
    "\n",
    "sys.stdout.write(\"Total running time to predect IN Logistic regration: %d:%d:%d.\\n\" % (hours, mins, secs))\n"
   ]
  },
  {
   "cell_type": "code",
   "execution_count": 32,
   "metadata": {
    "colab": {
     "autoexec": {
      "startup": false,
      "wait_interval": 0
     }
    },
    "colab_type": "code",
    "id": "KnmsVhuIUEsB"
   },
   "outputs": [],
   "source": [
    "#print(__doc__)\n",
    "\n",
    "import numpy as np\n",
    "import matplotlib.pyplot as plt\n",
    "from sklearn.naive_bayes import GaussianNB\n",
    "from sklearn.naive_bayes import MultinomialNB\n",
    "from sklearn.svm import SVC\n",
    "from sklearn.datasets import load_digits\n",
    "from sklearn.model_selection import learning_curve\n",
    "from sklearn.model_selection import ShuffleSplit\n",
    "\n",
    "\n",
    "def plot_learning_curve(estimator, title, X, y, ylim=None, cv=None,\n",
    "                        n_jobs=1, train_sizes=np.linspace(.1, 1.0, 5)):\n",
    "    \"\"\"\n",
    "    Generate a simple plot of the test and training learning curve.\n",
    "\n",
    "    Parameters\n",
    "    ----------\n",
    "    estimator : object type that implements the \"fit\" and \"predict\" methods\n",
    "        An object of that type which is cloned for each validation.\n",
    "\n",
    "    title : string\n",
    "        Title for the chart.\n",
    "\n",
    "    X : array-like, shape (n_samples, n_features)\n",
    "        Training vector, where n_samples is the number of samples and\n",
    "        n_features is the number of features.\n",
    "\n",
    "    y : array-like, shape (n_samples) or (n_samples, n_features), optional\n",
    "        Target relative to X for classification or regression;\n",
    "        None for unsupervised learning.\n",
    "\n",
    "    ylim : tuple, shape (ymin, ymax), optional\n",
    "        Defines minimum and maximum yvalues plotted.\n",
    "\n",
    "    cv : int, cross-validation generator or an iterable, optional\n",
    "        Determines the cross-validation splitting strategy.\n",
    "        Possible inputs for cv are:\n",
    "          - None, to use the default 3-fold cross-validation,\n",
    "          - integer, to specify the number of folds.\n",
    "          - An object to be used as a cross-validation generator.\n",
    "          - An iterable yielding train/test splits.\n",
    "\n",
    "        For integer/None inputs, if ``y`` is binary or multiclass,\n",
    "        :class:`StratifiedKFold` used. If the estimator is not a classifier\n",
    "        or if ``y`` is neither binary nor multiclass, :class:`KFold` is used.\n",
    "\n",
    "        Refer :ref:`User Guide <cross_validation>` for the various\n",
    "        cross-validators that can be used here.\n",
    "\n",
    "    n_jobs : integer, optional\n",
    "        Number of jobs to run in parallel (default 1).\n",
    "    \"\"\"\n",
    "    plt.figure()\n",
    "    plt.title(title)\n",
    "    if ylim is not None:\n",
    "        plt.ylim(*ylim)\n",
    "    plt.xlabel(\"Training examples\")\n",
    "    plt.ylabel(\"Score\")\n",
    "    train_sizes, train_scores, test_scores = learning_curve(\n",
    "        estimator, X, y, cv=cv, n_jobs=n_jobs, train_sizes=train_sizes)\n",
    "    train_scores_mean = np.mean(train_scores, axis=1)\n",
    "    train_scores_std = np.std(train_scores, axis=1)\n",
    "    test_scores_mean = np.mean(test_scores, axis=1)\n",
    "    test_scores_std = np.std(test_scores, axis=1)\n",
    "    plt.grid()\n",
    "\n",
    "    plt.fill_between(train_sizes, train_scores_mean - train_scores_std,\n",
    "                     train_scores_mean + train_scores_std, alpha=0.1,\n",
    "                     color=\"r\")\n",
    "    plt.fill_between(train_sizes, test_scores_mean - test_scores_std,\n",
    "                     test_scores_mean + test_scores_std, alpha=0.1, color=\"g\")\n",
    "    plt.plot(train_sizes, train_scores_mean, 'o-', color=\"r\",\n",
    "             label=\"Training score\")\n",
    "    plt.plot(train_sizes, test_scores_mean, 'o-', color=\"g\",\n",
    "             label=\"Cross-validation score\")\n",
    "\n",
    "    plt.legend(loc=\"best\")\n",
    "    return plt\n",
    "\n",
    " \n",
    "\n",
    "\n",
    "\n"
   ]
  },
  {
   "cell_type": "code",
   "execution_count": 33,
   "metadata": {
    "colab": {
     "autoexec": {
      "startup": false,
      "wait_interval": 0
     }
    },
    "colab_type": "code",
    "id": "9gQ_WH48UEsE",
    "outputId": "7cdae325-3a60-4bdb-e5d0-32f77e51c5c5"
   },
   "outputs": [
    {
     "data": {
      "image/png": "[encoded data removed]",
      "text/plain": [
       "<matplotlib.figure.Figure at 0x1861e24fda0>"
      ]
     },
     "metadata": {},
     "output_type": "display_data"
    },
    {
     "name": "stdout",
     "output_type": "stream",
     "text": [
      "Total running time inl learning curb in naibe base: 0:0:11.\n"
     ]
    }
   ],
   "source": [
    "startTime = time.time() # track the start time for calculating learning curb of naibe base\n",
    "\n",
    "\n",
    "title = \"Learning Curves (Naive Bayes)\"\n",
    "# Cross validation with 100 iterations to get smoother mean test and train\n",
    "# score curves, each time with 20% data randomly selected as a validation set.\n",
    "cv = ShuffleSplit(n_splits=5, test_size=0.2, random_state=0)\n",
    "\n",
    "#estimator = GaussianNB()\n",
    "estimator = MultinomialNB()\n",
    "plot_learning_curve(estimator, title, X, y,  cv=cv, n_jobs=4)\n",
    "\n",
    "plt.show()\n",
    "\n",
    "# Executing time for making the classification report on logistic regration\n",
    "total_time=time.time() - startTime\n",
    "mins, secs = divmod(total_time, 60)\n",
    "hours, mins = divmod(mins, 60)\n",
    "\n",
    "sys.stdout.write(\"Total running time inl learning curb in naibe base: %d:%d:%d.\\n\" % (hours, mins, secs))\n"
   ]
  },
  {
   "cell_type": "code",
   "execution_count": 34,
   "metadata": {
    "colab": {
     "autoexec": {
      "startup": false,
      "wait_interval": 0
     }
    },
    "colab_type": "code",
    "id": "KF0XFedcUEsF",
    "outputId": "022b4a0c-bea0-44ce-98e6-dd16e409a134"
   },
   "outputs": [
    {
     "name": "stdout",
     "output_type": "stream",
     "text": [
      "Total running time in learning curb of linear SVC: 0:5:35.\n"
     ]
    },
    {
     "data": {
      "image/png": "[encoded data removed]",
      "text/plain": [
       "<matplotlib.figure.Figure at 0x1861db097f0>"
      ]
     },
     "metadata": {},
     "output_type": "display_data"
    }
   ],
   "source": [
    "from sklearn.svm import LinearSVC\n",
    "startTime = time.time() # track the start time for calculate the timing\n",
    "\n",
    "\n",
    "title = \"Learning Curves (Linear SVC)\"\n",
    "# SVC is more expensive so we do a lower number of CV iterations:\n",
    "cv = ShuffleSplit(n_splits=5, test_size=0.2, random_state=0)\n",
    "estimator = LinearSVC(C=0.1, penalty='l2', class_weight='balanced')\n",
    "plot_learning_curve(estimator, title, X, y, cv=cv, n_jobs=4)\n",
    "\n",
    "# Executing time for making the classification report on logistic regration\n",
    "total_time=time.time() - startTime\n",
    "mins, secs = divmod(total_time, 60)\n",
    "hours, mins = divmod(mins, 60)\n",
    "\n",
    "sys.stdout.write(\"Total running time in learning curb of linear SVC: %d:%d:%d.\\n\" % (hours, mins, secs))\n"
   ]
  },
  {
   "cell_type": "code",
   "execution_count": 35,
   "metadata": {
    "colab": {
     "autoexec": {
      "startup": false,
      "wait_interval": 0
     }
    },
    "colab_type": "code",
    "id": "I1OtiYevUEsJ",
    "outputId": "ed91ec5b-edf9-4b55-cfbf-ca8e55d65ffd"
   },
   "outputs": [
    {
     "name": "stdout",
     "output_type": "stream",
     "text": [
      "Total running time in learning curn of KNN: 0:2:4.\n"
     ]
    },
    {
     "data": {
      "image/png": "[encoded data removed]",
      "text/plain": [
       "<matplotlib.figure.Figure at 0x1861e0e0470>"
      ]
     },
     "metadata": {},
     "output_type": "display_data"
    }
   ],
   "source": [
    "from sklearn.neighbors import KNeighborsClassifier\n",
    "startTime = time.time() # track the start time for calculate the timing\n",
    "\n",
    "\n",
    "title = \"Learning Curves (KNeighbors)\"\n",
    "# Cross validation with 100 iterations to get smoother mean test and train\n",
    "# score curves, each time with 20% data randomly selected as a validation set.\n",
    "cv = ShuffleSplit(n_splits=5, test_size=0.3, random_state=0)\n",
    "\n",
    "estimator = KNeighborsClassifier(n_neighbors=3)\n",
    "plot_learning_curve(estimator, title, pca_val[:,:15], y,  cv=cv, n_jobs=4)\n",
    "\n",
    "# Executing time for making the classification report on logistic regration\n",
    "total_time=time.time() - startTime\n",
    "mins, secs = divmod(total_time, 60)\n",
    "hours, mins = divmod(mins, 60)\n",
    "\n",
    "sys.stdout.write(\"Total running time in learning curn of KNN: %d:%d:%d.\\n\" % (hours, mins, secs))\n"
   ]
  },
  {
   "cell_type": "code",
   "execution_count": 0,
   "metadata": {
    "colab": {
     "autoexec": {
      "startup": false,
      "wait_interval": 0
     }
    },
    "colab_type": "code",
    "id": "LXTvnHmJUEsL",
    "outputId": "7449c434-0133-4a8a-af47-5b2b77f9ca0e"
   },
   "outputs": [
    {
     "name": "stdout",
     "output_type": "stream",
     "text": [
      "Total running time to learning curb in decision tree: 0:5:35.\n"
     ]
    },
    {
     "data": {
      "image/png": "[encoded data removed]",
      "text/plain": [
       "<Figure size 432x288 with 1 Axes>"
      ]
     },
     "metadata": {
      "tags": []
     },
     "output_type": "display_data"
    }
   ],
   "source": [
    "from sklearn.tree import DecisionTreeClassifier\n",
    "startTime = time.time() # track the start time for calculate the timing\n",
    "\n",
    "title = \"Learning Curves (Decision Tree)\"\n",
    "# Cross validation with 100 iterations to get smoother mean test and train\n",
    "# score curves, each time with 20% data randomly selected as a validation set.\n",
    "cv = ShuffleSplit(n_splits=5,test_size=0.25, random_state=5)\n",
    "\n",
    "estimator = DecisionTreeClassifier(max_depth=30)\n",
    "plot_learning_curve(estimator, title, X, y,  cv=cv, n_jobs=4)\n",
    "\n",
    "# Executing time for making the classification report on logistic regration\n",
    "total_time=time.time() - startTime\n",
    "mins, secs = divmod(total_time, 60)\n",
    "hours, mins = divmod(mins, 60)\n",
    "\n",
    "sys.stdout.write(\"Total running time to learning curb in decision tree: %d:%d:%d.\\n\" % (hours, mins, secs))\n"
   ]
  },
  {
   "cell_type": "code",
   "execution_count": 0,
   "metadata": {
    "colab": {
     "autoexec": {
      "startup": false,
      "wait_interval": 0
     }
    },
    "colab_type": "code",
    "id": "AyJPlhzJUEsN",
    "outputId": "bb059da5-ef68-48e0-9887-e1a42be1b06e"
   },
   "outputs": [
    {
     "name": "stdout",
     "output_type": "stream",
     "text": [
      "RandomForestClassifier(bootstrap=True, class_weight=None, criterion='gini',\n",
      "            max_depth=None, max_features='auto', max_leaf_nodes=None,\n",
      "            min_impurity_decrease=0.0, min_impurity_split=None,\n",
      "            min_samples_leaf=1, min_samples_split=2,\n",
      "            min_weight_fraction_leaf=0.0, n_estimators=15, n_jobs=1,\n",
      "            oob_score=False, random_state=None, verbose=0,\n",
      "            warm_start=False)\n",
      "Total running time in learning curb of random classifier: 0:1:58.\n"
     ]
    },
    {
     "data": {
      "image/png": "[encoded data removed]",
      "text/plain": [
       "<Figure size 432x288 with 1 Axes>"
      ]
     },
     "metadata": {
      "tags": []
     },
     "output_type": "display_data"
    }
   ],
   "source": [
    "from sklearn.ensemble import RandomForestClassifier\n",
    "startTime = time.time() # track the start time for calculate the timing\n",
    "\n",
    "title = \"Learning Curves (Random Forest)\"\n",
    "# Cross validation with 100 iterations to get smoother mean test and train\n",
    "# score curves, each time with 20% data randomly selected as a validation set.\n",
    "cv = ShuffleSplit(n_splits=5, test_size=0.2, random_state=0)\n",
    "\n",
    "estimator = RandomForestClassifier( n_estimators=15)\n",
    "print(estimator)\n",
    "plot_learning_curve(estimator, title, X, y,  cv=cv, n_jobs=4)\n",
    "\n",
    "# Executing time for making the classification report on logistic regration\n",
    "total_time=time.time() - startTime\n",
    "mins, secs = divmod(total_time, 60)\n",
    "hours, mins = divmod(mins, 60)\n",
    "\n",
    "sys.stdout.write(\"Total running time in learning curb of random classifier: %d:%d:%d.\\n\" % (hours, mins, secs))\n"
   ]
  },
  {
   "cell_type": "code",
   "execution_count": 0,
   "metadata": {
    "colab": {
     "autoexec": {
      "startup": false,
      "wait_interval": 0
     }
    },
    "colab_type": "code",
    "id": "WIX9ZSCJUEsO"
   },
   "outputs": [],
   "source": []
  }
 ],
 "metadata": {
  "colab": {
   "default_view": {},
   "name": "msid3392_mzil2911_shas5428.v8.ipynb",
   "provenance": [],
   "version": "0.3.2",
   "views": {}
  },
  "kernelspec": {
   "display_name": "Python 3",
   "language": "python",
   "name": "python3"
  },
  "language_info": {
   "codemirror_mode": {
    "name": "ipython",
    "version": 3
   },
   "file_extension": ".py",
   "mimetype": "text/x-python",
   "name": "python",
   "nbconvert_exporter": "python",
   "pygments_lexer": "ipython3",
   "version": "3.6.4"
  }
 },
 "nbformat": 4,
 "nbformat_minor": 1
}
